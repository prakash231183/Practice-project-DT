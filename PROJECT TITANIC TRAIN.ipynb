{
 "cells": [
  {
   "cell_type": "code",
   "execution_count": 2,
   "id": "fad4fbc8",
   "metadata": {},
   "outputs": [],
   "source": [
    "import pandas as pd\n",
    "import numpy as np\n",
    "import seaborn as sns\n",
    "import matplotlib.pyplot as plt"
   ]
  },
  {
   "cell_type": "code",
   "execution_count": 3,
   "id": "94d6ed3b",
   "metadata": {},
   "outputs": [],
   "source": [
    "df=pd.read_csv(\"titanic_train.csv\")"
   ]
  },
  {
   "cell_type": "code",
   "execution_count": 4,
   "id": "2e660e49",
   "metadata": {},
   "outputs": [
    {
     "data": {
      "text/html": [
       "<div>\n",
       "<style scoped>\n",
       "    .dataframe tbody tr th:only-of-type {\n",
       "        vertical-align: middle;\n",
       "    }\n",
       "\n",
       "    .dataframe tbody tr th {\n",
       "        vertical-align: top;\n",
       "    }\n",
       "\n",
       "    .dataframe thead th {\n",
       "        text-align: right;\n",
       "    }\n",
       "</style>\n",
       "<table border=\"1\" class=\"dataframe\">\n",
       "  <thead>\n",
       "    <tr style=\"text-align: right;\">\n",
       "      <th></th>\n",
       "      <th>PassengerId</th>\n",
       "      <th>Survived</th>\n",
       "      <th>Pclass</th>\n",
       "      <th>Name</th>\n",
       "      <th>Sex</th>\n",
       "      <th>Age</th>\n",
       "      <th>SibSp</th>\n",
       "      <th>Parch</th>\n",
       "      <th>Ticket</th>\n",
       "      <th>Fare</th>\n",
       "      <th>Cabin</th>\n",
       "      <th>Embarked</th>\n",
       "    </tr>\n",
       "  </thead>\n",
       "  <tbody>\n",
       "    <tr>\n",
       "      <th>0</th>\n",
       "      <td>1</td>\n",
       "      <td>0</td>\n",
       "      <td>3</td>\n",
       "      <td>Braund, Mr. Owen Harris</td>\n",
       "      <td>male</td>\n",
       "      <td>22.0</td>\n",
       "      <td>1</td>\n",
       "      <td>0</td>\n",
       "      <td>A/5 21171</td>\n",
       "      <td>7.2500</td>\n",
       "      <td>NaN</td>\n",
       "      <td>S</td>\n",
       "    </tr>\n",
       "    <tr>\n",
       "      <th>1</th>\n",
       "      <td>2</td>\n",
       "      <td>1</td>\n",
       "      <td>1</td>\n",
       "      <td>Cumings, Mrs. John Bradley (Florence Briggs Th...</td>\n",
       "      <td>female</td>\n",
       "      <td>38.0</td>\n",
       "      <td>1</td>\n",
       "      <td>0</td>\n",
       "      <td>PC 17599</td>\n",
       "      <td>71.2833</td>\n",
       "      <td>C85</td>\n",
       "      <td>C</td>\n",
       "    </tr>\n",
       "    <tr>\n",
       "      <th>2</th>\n",
       "      <td>3</td>\n",
       "      <td>1</td>\n",
       "      <td>3</td>\n",
       "      <td>Heikkinen, Miss. Laina</td>\n",
       "      <td>female</td>\n",
       "      <td>26.0</td>\n",
       "      <td>0</td>\n",
       "      <td>0</td>\n",
       "      <td>STON/O2. 3101282</td>\n",
       "      <td>7.9250</td>\n",
       "      <td>NaN</td>\n",
       "      <td>S</td>\n",
       "    </tr>\n",
       "    <tr>\n",
       "      <th>3</th>\n",
       "      <td>4</td>\n",
       "      <td>1</td>\n",
       "      <td>1</td>\n",
       "      <td>Futrelle, Mrs. Jacques Heath (Lily May Peel)</td>\n",
       "      <td>female</td>\n",
       "      <td>35.0</td>\n",
       "      <td>1</td>\n",
       "      <td>0</td>\n",
       "      <td>113803</td>\n",
       "      <td>53.1000</td>\n",
       "      <td>C123</td>\n",
       "      <td>S</td>\n",
       "    </tr>\n",
       "    <tr>\n",
       "      <th>4</th>\n",
       "      <td>5</td>\n",
       "      <td>0</td>\n",
       "      <td>3</td>\n",
       "      <td>Allen, Mr. William Henry</td>\n",
       "      <td>male</td>\n",
       "      <td>35.0</td>\n",
       "      <td>0</td>\n",
       "      <td>0</td>\n",
       "      <td>373450</td>\n",
       "      <td>8.0500</td>\n",
       "      <td>NaN</td>\n",
       "      <td>S</td>\n",
       "    </tr>\n",
       "  </tbody>\n",
       "</table>\n",
       "</div>"
      ],
      "text/plain": [
       "   PassengerId  Survived  Pclass  \\\n",
       "0            1         0       3   \n",
       "1            2         1       1   \n",
       "2            3         1       3   \n",
       "3            4         1       1   \n",
       "4            5         0       3   \n",
       "\n",
       "                                                Name     Sex   Age  SibSp  \\\n",
       "0                            Braund, Mr. Owen Harris    male  22.0      1   \n",
       "1  Cumings, Mrs. John Bradley (Florence Briggs Th...  female  38.0      1   \n",
       "2                             Heikkinen, Miss. Laina  female  26.0      0   \n",
       "3       Futrelle, Mrs. Jacques Heath (Lily May Peel)  female  35.0      1   \n",
       "4                           Allen, Mr. William Henry    male  35.0      0   \n",
       "\n",
       "   Parch            Ticket     Fare Cabin Embarked  \n",
       "0      0         A/5 21171   7.2500   NaN        S  \n",
       "1      0          PC 17599  71.2833   C85        C  \n",
       "2      0  STON/O2. 3101282   7.9250   NaN        S  \n",
       "3      0            113803  53.1000  C123        S  \n",
       "4      0            373450   8.0500   NaN        S  "
      ]
     },
     "execution_count": 4,
     "metadata": {},
     "output_type": "execute_result"
    }
   ],
   "source": [
    "df.head(5)"
   ]
  },
  {
   "cell_type": "markdown",
   "id": "fc1577f8",
   "metadata": {},
   "source": [
    "observation- \n",
    "from the above given data we can easily conclude that the column of Passenger id, Name , ticket and cabin are playing very very less significant role or we can say no role in the data set , hence we can drop the coloumn"
   ]
  },
  {
   "cell_type": "code",
   "execution_count": 5,
   "id": "995ded54",
   "metadata": {},
   "outputs": [],
   "source": [
    "df=df.drop(['PassengerId','Name','Ticket','Cabin'],axis=1)"
   ]
  },
  {
   "cell_type": "code",
   "execution_count": 6,
   "id": "e8fc2204",
   "metadata": {},
   "outputs": [
    {
     "data": {
      "text/html": [
       "<div>\n",
       "<style scoped>\n",
       "    .dataframe tbody tr th:only-of-type {\n",
       "        vertical-align: middle;\n",
       "    }\n",
       "\n",
       "    .dataframe tbody tr th {\n",
       "        vertical-align: top;\n",
       "    }\n",
       "\n",
       "    .dataframe thead th {\n",
       "        text-align: right;\n",
       "    }\n",
       "</style>\n",
       "<table border=\"1\" class=\"dataframe\">\n",
       "  <thead>\n",
       "    <tr style=\"text-align: right;\">\n",
       "      <th></th>\n",
       "      <th>Survived</th>\n",
       "      <th>Pclass</th>\n",
       "      <th>Sex</th>\n",
       "      <th>Age</th>\n",
       "      <th>SibSp</th>\n",
       "      <th>Parch</th>\n",
       "      <th>Fare</th>\n",
       "      <th>Embarked</th>\n",
       "    </tr>\n",
       "  </thead>\n",
       "  <tbody>\n",
       "    <tr>\n",
       "      <th>0</th>\n",
       "      <td>0</td>\n",
       "      <td>3</td>\n",
       "      <td>male</td>\n",
       "      <td>22.0</td>\n",
       "      <td>1</td>\n",
       "      <td>0</td>\n",
       "      <td>7.2500</td>\n",
       "      <td>S</td>\n",
       "    </tr>\n",
       "    <tr>\n",
       "      <th>1</th>\n",
       "      <td>1</td>\n",
       "      <td>1</td>\n",
       "      <td>female</td>\n",
       "      <td>38.0</td>\n",
       "      <td>1</td>\n",
       "      <td>0</td>\n",
       "      <td>71.2833</td>\n",
       "      <td>C</td>\n",
       "    </tr>\n",
       "    <tr>\n",
       "      <th>2</th>\n",
       "      <td>1</td>\n",
       "      <td>3</td>\n",
       "      <td>female</td>\n",
       "      <td>26.0</td>\n",
       "      <td>0</td>\n",
       "      <td>0</td>\n",
       "      <td>7.9250</td>\n",
       "      <td>S</td>\n",
       "    </tr>\n",
       "    <tr>\n",
       "      <th>3</th>\n",
       "      <td>1</td>\n",
       "      <td>1</td>\n",
       "      <td>female</td>\n",
       "      <td>35.0</td>\n",
       "      <td>1</td>\n",
       "      <td>0</td>\n",
       "      <td>53.1000</td>\n",
       "      <td>S</td>\n",
       "    </tr>\n",
       "    <tr>\n",
       "      <th>4</th>\n",
       "      <td>0</td>\n",
       "      <td>3</td>\n",
       "      <td>male</td>\n",
       "      <td>35.0</td>\n",
       "      <td>0</td>\n",
       "      <td>0</td>\n",
       "      <td>8.0500</td>\n",
       "      <td>S</td>\n",
       "    </tr>\n",
       "    <tr>\n",
       "      <th>...</th>\n",
       "      <td>...</td>\n",
       "      <td>...</td>\n",
       "      <td>...</td>\n",
       "      <td>...</td>\n",
       "      <td>...</td>\n",
       "      <td>...</td>\n",
       "      <td>...</td>\n",
       "      <td>...</td>\n",
       "    </tr>\n",
       "    <tr>\n",
       "      <th>886</th>\n",
       "      <td>0</td>\n",
       "      <td>2</td>\n",
       "      <td>male</td>\n",
       "      <td>27.0</td>\n",
       "      <td>0</td>\n",
       "      <td>0</td>\n",
       "      <td>13.0000</td>\n",
       "      <td>S</td>\n",
       "    </tr>\n",
       "    <tr>\n",
       "      <th>887</th>\n",
       "      <td>1</td>\n",
       "      <td>1</td>\n",
       "      <td>female</td>\n",
       "      <td>19.0</td>\n",
       "      <td>0</td>\n",
       "      <td>0</td>\n",
       "      <td>30.0000</td>\n",
       "      <td>S</td>\n",
       "    </tr>\n",
       "    <tr>\n",
       "      <th>888</th>\n",
       "      <td>0</td>\n",
       "      <td>3</td>\n",
       "      <td>female</td>\n",
       "      <td>NaN</td>\n",
       "      <td>1</td>\n",
       "      <td>2</td>\n",
       "      <td>23.4500</td>\n",
       "      <td>S</td>\n",
       "    </tr>\n",
       "    <tr>\n",
       "      <th>889</th>\n",
       "      <td>1</td>\n",
       "      <td>1</td>\n",
       "      <td>male</td>\n",
       "      <td>26.0</td>\n",
       "      <td>0</td>\n",
       "      <td>0</td>\n",
       "      <td>30.0000</td>\n",
       "      <td>C</td>\n",
       "    </tr>\n",
       "    <tr>\n",
       "      <th>890</th>\n",
       "      <td>0</td>\n",
       "      <td>3</td>\n",
       "      <td>male</td>\n",
       "      <td>32.0</td>\n",
       "      <td>0</td>\n",
       "      <td>0</td>\n",
       "      <td>7.7500</td>\n",
       "      <td>Q</td>\n",
       "    </tr>\n",
       "  </tbody>\n",
       "</table>\n",
       "<p>891 rows × 8 columns</p>\n",
       "</div>"
      ],
      "text/plain": [
       "     Survived  Pclass     Sex   Age  SibSp  Parch     Fare Embarked\n",
       "0           0       3    male  22.0      1      0   7.2500        S\n",
       "1           1       1  female  38.0      1      0  71.2833        C\n",
       "2           1       3  female  26.0      0      0   7.9250        S\n",
       "3           1       1  female  35.0      1      0  53.1000        S\n",
       "4           0       3    male  35.0      0      0   8.0500        S\n",
       "..        ...     ...     ...   ...    ...    ...      ...      ...\n",
       "886         0       2    male  27.0      0      0  13.0000        S\n",
       "887         1       1  female  19.0      0      0  30.0000        S\n",
       "888         0       3  female   NaN      1      2  23.4500        S\n",
       "889         1       1    male  26.0      0      0  30.0000        C\n",
       "890         0       3    male  32.0      0      0   7.7500        Q\n",
       "\n",
       "[891 rows x 8 columns]"
      ]
     },
     "execution_count": 6,
     "metadata": {},
     "output_type": "execute_result"
    }
   ],
   "source": [
    "df"
   ]
  },
  {
   "cell_type": "code",
   "execution_count": 7,
   "id": "6685c1da",
   "metadata": {},
   "outputs": [
    {
     "data": {
      "text/html": [
       "<div>\n",
       "<style scoped>\n",
       "    .dataframe tbody tr th:only-of-type {\n",
       "        vertical-align: middle;\n",
       "    }\n",
       "\n",
       "    .dataframe tbody tr th {\n",
       "        vertical-align: top;\n",
       "    }\n",
       "\n",
       "    .dataframe thead th {\n",
       "        text-align: right;\n",
       "    }\n",
       "</style>\n",
       "<table border=\"1\" class=\"dataframe\">\n",
       "  <thead>\n",
       "    <tr style=\"text-align: right;\">\n",
       "      <th></th>\n",
       "      <th>Survived</th>\n",
       "      <th>Pclass</th>\n",
       "      <th>Sex</th>\n",
       "      <th>Age</th>\n",
       "      <th>SibSp</th>\n",
       "      <th>Parch</th>\n",
       "      <th>Fare</th>\n",
       "      <th>Embarked</th>\n",
       "    </tr>\n",
       "  </thead>\n",
       "  <tbody>\n",
       "    <tr>\n",
       "      <th>0</th>\n",
       "      <td>0</td>\n",
       "      <td>3</td>\n",
       "      <td>male</td>\n",
       "      <td>22.0</td>\n",
       "      <td>1</td>\n",
       "      <td>0</td>\n",
       "      <td>7.2500</td>\n",
       "      <td>S</td>\n",
       "    </tr>\n",
       "    <tr>\n",
       "      <th>1</th>\n",
       "      <td>1</td>\n",
       "      <td>1</td>\n",
       "      <td>female</td>\n",
       "      <td>38.0</td>\n",
       "      <td>1</td>\n",
       "      <td>0</td>\n",
       "      <td>71.2833</td>\n",
       "      <td>C</td>\n",
       "    </tr>\n",
       "    <tr>\n",
       "      <th>2</th>\n",
       "      <td>1</td>\n",
       "      <td>3</td>\n",
       "      <td>female</td>\n",
       "      <td>26.0</td>\n",
       "      <td>0</td>\n",
       "      <td>0</td>\n",
       "      <td>7.9250</td>\n",
       "      <td>S</td>\n",
       "    </tr>\n",
       "    <tr>\n",
       "      <th>3</th>\n",
       "      <td>1</td>\n",
       "      <td>1</td>\n",
       "      <td>female</td>\n",
       "      <td>35.0</td>\n",
       "      <td>1</td>\n",
       "      <td>0</td>\n",
       "      <td>53.1000</td>\n",
       "      <td>S</td>\n",
       "    </tr>\n",
       "    <tr>\n",
       "      <th>4</th>\n",
       "      <td>0</td>\n",
       "      <td>3</td>\n",
       "      <td>male</td>\n",
       "      <td>35.0</td>\n",
       "      <td>0</td>\n",
       "      <td>0</td>\n",
       "      <td>8.0500</td>\n",
       "      <td>S</td>\n",
       "    </tr>\n",
       "  </tbody>\n",
       "</table>\n",
       "</div>"
      ],
      "text/plain": [
       "   Survived  Pclass     Sex   Age  SibSp  Parch     Fare Embarked\n",
       "0         0       3    male  22.0      1      0   7.2500        S\n",
       "1         1       1  female  38.0      1      0  71.2833        C\n",
       "2         1       3  female  26.0      0      0   7.9250        S\n",
       "3         1       1  female  35.0      1      0  53.1000        S\n",
       "4         0       3    male  35.0      0      0   8.0500        S"
      ]
     },
     "execution_count": 7,
     "metadata": {},
     "output_type": "execute_result"
    }
   ],
   "source": [
    "df.head()"
   ]
  },
  {
   "cell_type": "code",
   "execution_count": 8,
   "id": "d6dea476",
   "metadata": {},
   "outputs": [
    {
     "data": {
      "text/html": [
       "<div>\n",
       "<style scoped>\n",
       "    .dataframe tbody tr th:only-of-type {\n",
       "        vertical-align: middle;\n",
       "    }\n",
       "\n",
       "    .dataframe tbody tr th {\n",
       "        vertical-align: top;\n",
       "    }\n",
       "\n",
       "    .dataframe thead th {\n",
       "        text-align: right;\n",
       "    }\n",
       "</style>\n",
       "<table border=\"1\" class=\"dataframe\">\n",
       "  <thead>\n",
       "    <tr style=\"text-align: right;\">\n",
       "      <th></th>\n",
       "      <th>Survived</th>\n",
       "      <th>Pclass</th>\n",
       "      <th>Age</th>\n",
       "      <th>SibSp</th>\n",
       "      <th>Parch</th>\n",
       "      <th>Fare</th>\n",
       "    </tr>\n",
       "  </thead>\n",
       "  <tbody>\n",
       "    <tr>\n",
       "      <th>count</th>\n",
       "      <td>891.000000</td>\n",
       "      <td>891.000000</td>\n",
       "      <td>714.000000</td>\n",
       "      <td>891.000000</td>\n",
       "      <td>891.000000</td>\n",
       "      <td>891.000000</td>\n",
       "    </tr>\n",
       "    <tr>\n",
       "      <th>mean</th>\n",
       "      <td>0.383838</td>\n",
       "      <td>2.308642</td>\n",
       "      <td>29.699118</td>\n",
       "      <td>0.523008</td>\n",
       "      <td>0.381594</td>\n",
       "      <td>32.204208</td>\n",
       "    </tr>\n",
       "    <tr>\n",
       "      <th>std</th>\n",
       "      <td>0.486592</td>\n",
       "      <td>0.836071</td>\n",
       "      <td>14.526497</td>\n",
       "      <td>1.102743</td>\n",
       "      <td>0.806057</td>\n",
       "      <td>49.693429</td>\n",
       "    </tr>\n",
       "    <tr>\n",
       "      <th>min</th>\n",
       "      <td>0.000000</td>\n",
       "      <td>1.000000</td>\n",
       "      <td>0.420000</td>\n",
       "      <td>0.000000</td>\n",
       "      <td>0.000000</td>\n",
       "      <td>0.000000</td>\n",
       "    </tr>\n",
       "    <tr>\n",
       "      <th>25%</th>\n",
       "      <td>0.000000</td>\n",
       "      <td>2.000000</td>\n",
       "      <td>20.125000</td>\n",
       "      <td>0.000000</td>\n",
       "      <td>0.000000</td>\n",
       "      <td>7.910400</td>\n",
       "    </tr>\n",
       "    <tr>\n",
       "      <th>50%</th>\n",
       "      <td>0.000000</td>\n",
       "      <td>3.000000</td>\n",
       "      <td>28.000000</td>\n",
       "      <td>0.000000</td>\n",
       "      <td>0.000000</td>\n",
       "      <td>14.454200</td>\n",
       "    </tr>\n",
       "    <tr>\n",
       "      <th>75%</th>\n",
       "      <td>1.000000</td>\n",
       "      <td>3.000000</td>\n",
       "      <td>38.000000</td>\n",
       "      <td>1.000000</td>\n",
       "      <td>0.000000</td>\n",
       "      <td>31.000000</td>\n",
       "    </tr>\n",
       "    <tr>\n",
       "      <th>max</th>\n",
       "      <td>1.000000</td>\n",
       "      <td>3.000000</td>\n",
       "      <td>80.000000</td>\n",
       "      <td>8.000000</td>\n",
       "      <td>6.000000</td>\n",
       "      <td>512.329200</td>\n",
       "    </tr>\n",
       "  </tbody>\n",
       "</table>\n",
       "</div>"
      ],
      "text/plain": [
       "         Survived      Pclass         Age       SibSp       Parch        Fare\n",
       "count  891.000000  891.000000  714.000000  891.000000  891.000000  891.000000\n",
       "mean     0.383838    2.308642   29.699118    0.523008    0.381594   32.204208\n",
       "std      0.486592    0.836071   14.526497    1.102743    0.806057   49.693429\n",
       "min      0.000000    1.000000    0.420000    0.000000    0.000000    0.000000\n",
       "25%      0.000000    2.000000   20.125000    0.000000    0.000000    7.910400\n",
       "50%      0.000000    3.000000   28.000000    0.000000    0.000000   14.454200\n",
       "75%      1.000000    3.000000   38.000000    1.000000    0.000000   31.000000\n",
       "max      1.000000    3.000000   80.000000    8.000000    6.000000  512.329200"
      ]
     },
     "execution_count": 8,
     "metadata": {},
     "output_type": "execute_result"
    }
   ],
   "source": [
    "## Now description of data \n",
    "df.describe()"
   ]
  },
  {
   "cell_type": "markdown",
   "id": "f28e3625",
   "metadata": {},
   "source": [
    "####  from the above description we can clearly conclude that \n",
    "#### there are lots of null values in Age column "
   ]
  },
  {
   "cell_type": "code",
   "execution_count": 9,
   "id": "35637e2a",
   "metadata": {},
   "outputs": [
    {
     "data": {
      "text/plain": [
       "Survived      0\n",
       "Pclass        0\n",
       "Sex           0\n",
       "Age         177\n",
       "SibSp         0\n",
       "Parch         0\n",
       "Fare          0\n",
       "Embarked      2\n",
       "dtype: int64"
      ]
     },
     "execution_count": 9,
     "metadata": {},
     "output_type": "execute_result"
    }
   ],
   "source": [
    "df.isnull().sum()"
   ]
  },
  {
   "cell_type": "markdown",
   "id": "029a2696",
   "metadata": {},
   "source": [
    "### we can see that there are also 2 null value in Embarked column which is insignificant we can drop that perticular row \n",
    "### but we cant drop the 177 null values in the age column so we have to impute these value through suitable method ."
   ]
  },
  {
   "cell_type": "code",
   "execution_count": 10,
   "id": "3581cce6",
   "metadata": {},
   "outputs": [],
   "source": [
    "# droping null values of Embarked column\n",
    "df=df.dropna(subset=['Embarked'])"
   ]
  },
  {
   "cell_type": "code",
   "execution_count": 11,
   "id": "6bc4bb97",
   "metadata": {},
   "outputs": [
    {
     "data": {
      "text/plain": [
       "(889, 8)"
      ]
     },
     "execution_count": 11,
     "metadata": {},
     "output_type": "execute_result"
    }
   ],
   "source": [
    "# checking shape of data \n",
    "df.shape"
   ]
  },
  {
   "cell_type": "code",
   "execution_count": 12,
   "id": "5fa5b47b",
   "metadata": {},
   "outputs": [
    {
     "data": {
      "text/plain": [
       "Survived      0\n",
       "Pclass        0\n",
       "Sex           0\n",
       "Age         177\n",
       "SibSp         0\n",
       "Parch         0\n",
       "Fare          0\n",
       "Embarked      0\n",
       "dtype: int64"
      ]
     },
     "execution_count": 12,
     "metadata": {},
     "output_type": "execute_result"
    }
   ],
   "source": [
    "# checking nulls again\n",
    "df.isnull().sum()"
   ]
  },
  {
   "cell_type": "code",
   "execution_count": 13,
   "id": "21e89e7f",
   "metadata": {},
   "outputs": [
    {
     "data": {
      "text/plain": [
       "Text(0, 0.5, 'AGE')"
      ]
     },
     "execution_count": 13,
     "metadata": {},
     "output_type": "execute_result"
    },
    {
     "data": {
      "image/png": "[encoded data removed]",
      "text/plain": [
       "<Figure size 432x288 with 1 Axes>"
      ]
     },
     "metadata": {
      "needs_background": "light"
     },
     "output_type": "display_data"
    }
   ],
   "source": [
    "# Cheaking the correlation between age and other feature so that we can impute the null values using itertive imputer \n",
    "\n",
    "df.corr()['Age'].drop(['Age']).plot(kind='bar')\n",
    "plt.ylabel(\"AGE\")"
   ]
  },
  {
   "cell_type": "markdown",
   "id": "21680f69",
   "metadata": {},
   "source": [
    "Here we can see that Age having good CORRELATION with 'Pclass' and 'SibSP' we will try to impute Age using these  2 features"
   ]
  },
  {
   "cell_type": "code",
   "execution_count": 14,
   "id": "3b177d92",
   "metadata": {},
   "outputs": [
    {
     "data": {
      "image/png": "[encoded data removed]",
      "text/plain": [
       "<Figure size 432x288 with 1 Axes>"
      ]
     },
     "metadata": {
      "needs_background": "light"
     },
     "output_type": "display_data"
    }
   ],
   "source": [
    "sns.barplot(x=df['Pclass'],y=df['Age'],hue=df['Sex'])\n",
    "plt.show()"
   ]
  },
  {
   "cell_type": "markdown",
   "id": "9620f20c",
   "metadata": {},
   "source": [
    "Before imputing  we want a clear confirmation that there is a correlation in between Age and class of travelling .\n",
    "As here we can observe that Passenger of calss 1 are of higher age group as compare to class2 and same type of distribution we can see in between class 2 and class 3"
   ]
  },
  {
   "cell_type": "code",
   "execution_count": 15,
   "id": "5806f25f",
   "metadata": {},
   "outputs": [
    {
     "data": {
      "image/png": "[encoded data removed]",
      "text/plain": [
       "<Figure size 432x288 with 1 Axes>"
      ]
     },
     "metadata": {
      "needs_background": "light"
     },
     "output_type": "display_data"
    }
   ],
   "source": [
    "sns.barplot(x=df['SibSp'],y=df['Age'],hue=df['Sex'])\n",
    "plt.show()"
   ]
  },
  {
   "cell_type": "markdown",
   "id": "7b83c90b",
   "metadata": {},
   "source": [
    "In this plot we can observe that person of higher age group are prefering to travel alone or with one partner only , so here also it shows a correlation with age group."
   ]
  },
  {
   "cell_type": "code",
   "execution_count": 16,
   "id": "1e8942f8",
   "metadata": {},
   "outputs": [
    {
     "data": {
      "image/png": "[encoded data removed]",
      "text/plain": [
       "<Figure size 432x288 with 1 Axes>"
      ]
     },
     "metadata": {
      "needs_background": "light"
     },
     "output_type": "display_data"
    }
   ],
   "source": [
    "plt.scatter(x=df['Pclass'],y=df['Age'])\n",
    "plt.show()"
   ]
  },
  {
   "cell_type": "markdown",
   "id": "95826ead",
   "metadata": {},
   "source": [
    "IMPUTING NULL VALUES IN AGE COLUMN"
   ]
  },
  {
   "cell_type": "code",
   "execution_count": 17,
   "id": "5af8cda8",
   "metadata": {},
   "outputs": [],
   "source": [
    "# Use of iterative imputer\n",
    "from sklearn.experimental import enable_iterative_imputer\n",
    "from sklearn.impute import IterativeImputer"
   ]
  },
  {
   "cell_type": "code",
   "execution_count": 18,
   "id": "f4b5c954",
   "metadata": {},
   "outputs": [],
   "source": [
    "it_im=IterativeImputer()"
   ]
  },
  {
   "cell_type": "code",
   "execution_count": 23,
   "id": "2e323bc3",
   "metadata": {},
   "outputs": [
    {
     "data": {
      "text/html": [
       "<div>\n",
       "<style scoped>\n",
       "    .dataframe tbody tr th:only-of-type {\n",
       "        vertical-align: middle;\n",
       "    }\n",
       "\n",
       "    .dataframe tbody tr th {\n",
       "        vertical-align: top;\n",
       "    }\n",
       "\n",
       "    .dataframe thead th {\n",
       "        text-align: right;\n",
       "    }\n",
       "</style>\n",
       "<table border=\"1\" class=\"dataframe\">\n",
       "  <thead>\n",
       "    <tr style=\"text-align: right;\">\n",
       "      <th></th>\n",
       "      <th>0</th>\n",
       "      <th>1</th>\n",
       "    </tr>\n",
       "  </thead>\n",
       "  <tbody>\n",
       "    <tr>\n",
       "      <th>0</th>\n",
       "      <td>22.000000</td>\n",
       "      <td>3.0</td>\n",
       "    </tr>\n",
       "    <tr>\n",
       "      <th>1</th>\n",
       "      <td>38.000000</td>\n",
       "      <td>1.0</td>\n",
       "    </tr>\n",
       "    <tr>\n",
       "      <th>2</th>\n",
       "      <td>26.000000</td>\n",
       "      <td>3.0</td>\n",
       "    </tr>\n",
       "    <tr>\n",
       "      <th>3</th>\n",
       "      <td>35.000000</td>\n",
       "      <td>1.0</td>\n",
       "    </tr>\n",
       "    <tr>\n",
       "      <th>4</th>\n",
       "      <td>35.000000</td>\n",
       "      <td>3.0</td>\n",
       "    </tr>\n",
       "    <tr>\n",
       "      <th>...</th>\n",
       "      <td>...</td>\n",
       "      <td>...</td>\n",
       "    </tr>\n",
       "    <tr>\n",
       "      <th>884</th>\n",
       "      <td>24.870990</td>\n",
       "      <td>2.0</td>\n",
       "    </tr>\n",
       "    <tr>\n",
       "      <th>885</th>\n",
       "      <td>26.000000</td>\n",
       "      <td>1.0</td>\n",
       "    </tr>\n",
       "    <tr>\n",
       "      <th>886</th>\n",
       "      <td>32.000000</td>\n",
       "      <td>3.0</td>\n",
       "    </tr>\n",
       "    <tr>\n",
       "      <th>887</th>\n",
       "      <td>29.208605</td>\n",
       "      <td>1.0</td>\n",
       "    </tr>\n",
       "    <tr>\n",
       "      <th>888</th>\n",
       "      <td>29.207390</td>\n",
       "      <td>3.0</td>\n",
       "    </tr>\n",
       "  </tbody>\n",
       "</table>\n",
       "<p>889 rows × 2 columns</p>\n",
       "</div>"
      ],
      "text/plain": [
       "             0    1\n",
       "0    22.000000  3.0\n",
       "1    38.000000  1.0\n",
       "2    26.000000  3.0\n",
       "3    35.000000  1.0\n",
       "4    35.000000  3.0\n",
       "..         ...  ...\n",
       "884  24.870990  2.0\n",
       "885  26.000000  1.0\n",
       "886  32.000000  3.0\n",
       "887  29.208605  1.0\n",
       "888  29.207390  3.0\n",
       "\n",
       "[889 rows x 2 columns]"
      ]
     },
     "execution_count": 23,
     "metadata": {},
     "output_type": "execute_result"
    }
   ],
   "source": [
    "dat=pd.DataFrame(it_im.fit_transform(df[['Age','Pclass']]))\n",
    "dat"
   ]
  },
  {
   "cell_type": "code",
   "execution_count": 34,
   "id": "6227808c",
   "metadata": {},
   "outputs": [
    {
     "data": {
      "text/plain": [
       "0    0\n",
       "1    0\n",
       "dtype: int64"
      ]
     },
     "execution_count": 34,
     "metadata": {},
     "output_type": "execute_result"
    }
   ],
   "source": [
    "import warnings\n",
    "warnings.filterwarnings('ignore')\n",
    "dat.isnull().sum()\n"
   ]
  },
  {
   "cell_type": "code",
   "execution_count": 35,
   "id": "02986b18",
   "metadata": {},
   "outputs": [],
   "source": [
    "df['Age']=dat[0]"
   ]
  },
  {
   "cell_type": "code",
   "execution_count": 36,
   "id": "1ed0b182",
   "metadata": {},
   "outputs": [
    {
     "data": {
      "text/html": [
       "<div>\n",
       "<style scoped>\n",
       "    .dataframe tbody tr th:only-of-type {\n",
       "        vertical-align: middle;\n",
       "    }\n",
       "\n",
       "    .dataframe tbody tr th {\n",
       "        vertical-align: top;\n",
       "    }\n",
       "\n",
       "    .dataframe thead th {\n",
       "        text-align: right;\n",
       "    }\n",
       "</style>\n",
       "<table border=\"1\" class=\"dataframe\">\n",
       "  <thead>\n",
       "    <tr style=\"text-align: right;\">\n",
       "      <th></th>\n",
       "      <th>Survived</th>\n",
       "      <th>Pclass</th>\n",
       "      <th>Sex</th>\n",
       "      <th>Age</th>\n",
       "      <th>SibSp</th>\n",
       "      <th>Parch</th>\n",
       "      <th>Fare</th>\n",
       "      <th>Embarked</th>\n",
       "    </tr>\n",
       "  </thead>\n",
       "  <tbody>\n",
       "    <tr>\n",
       "      <th>0</th>\n",
       "      <td>0</td>\n",
       "      <td>3</td>\n",
       "      <td>male</td>\n",
       "      <td>22.0</td>\n",
       "      <td>1</td>\n",
       "      <td>0</td>\n",
       "      <td>7.2500</td>\n",
       "      <td>S</td>\n",
       "    </tr>\n",
       "    <tr>\n",
       "      <th>1</th>\n",
       "      <td>1</td>\n",
       "      <td>1</td>\n",
       "      <td>female</td>\n",
       "      <td>38.0</td>\n",
       "      <td>1</td>\n",
       "      <td>0</td>\n",
       "      <td>71.2833</td>\n",
       "      <td>C</td>\n",
       "    </tr>\n",
       "    <tr>\n",
       "      <th>2</th>\n",
       "      <td>1</td>\n",
       "      <td>3</td>\n",
       "      <td>female</td>\n",
       "      <td>26.0</td>\n",
       "      <td>0</td>\n",
       "      <td>0</td>\n",
       "      <td>7.9250</td>\n",
       "      <td>S</td>\n",
       "    </tr>\n",
       "    <tr>\n",
       "      <th>3</th>\n",
       "      <td>1</td>\n",
       "      <td>1</td>\n",
       "      <td>female</td>\n",
       "      <td>35.0</td>\n",
       "      <td>1</td>\n",
       "      <td>0</td>\n",
       "      <td>53.1000</td>\n",
       "      <td>S</td>\n",
       "    </tr>\n",
       "    <tr>\n",
       "      <th>4</th>\n",
       "      <td>0</td>\n",
       "      <td>3</td>\n",
       "      <td>male</td>\n",
       "      <td>35.0</td>\n",
       "      <td>0</td>\n",
       "      <td>0</td>\n",
       "      <td>8.0500</td>\n",
       "      <td>S</td>\n",
       "    </tr>\n",
       "  </tbody>\n",
       "</table>\n",
       "</div>"
      ],
      "text/plain": [
       "   Survived  Pclass     Sex   Age  SibSp  Parch     Fare Embarked\n",
       "0         0       3    male  22.0      1      0   7.2500        S\n",
       "1         1       1  female  38.0      1      0  71.2833        C\n",
       "2         1       3  female  26.0      0      0   7.9250        S\n",
       "3         1       1  female  35.0      1      0  53.1000        S\n",
       "4         0       3    male  35.0      0      0   8.0500        S"
      ]
     },
     "execution_count": 36,
     "metadata": {},
     "output_type": "execute_result"
    }
   ],
   "source": [
    "df.head()"
   ]
  },
  {
   "cell_type": "code",
   "execution_count": 37,
   "id": "0a48df94",
   "metadata": {},
   "outputs": [
    {
     "data": {
      "text/plain": [
       "Survived    0\n",
       "Pclass      0\n",
       "Sex         0\n",
       "Age         0\n",
       "SibSp       0\n",
       "Parch       0\n",
       "Fare        0\n",
       "Embarked    0\n",
       "dtype: int64"
      ]
     },
     "execution_count": 37,
     "metadata": {},
     "output_type": "execute_result"
    }
   ],
   "source": [
    "df.isnull().sum()"
   ]
  },
  {
   "cell_type": "markdown",
   "id": "04b2273d",
   "metadata": {},
   "source": [
    "we can see that there are still  2 null values are present , so we are checking the distribution of the data ..2222"
   ]
  },
  {
   "cell_type": "code",
   "execution_count": 38,
   "id": "93803919",
   "metadata": {},
   "outputs": [
    {
     "data": {
      "text/plain": [
       "count    887.000000\n",
       "mean      29.243226\n",
       "std       13.114092\n",
       "min        0.420000\n",
       "25%       22.000000\n",
       "50%       26.000000\n",
       "75%       36.250000\n",
       "max       80.000000\n",
       "Name: Age, dtype: float64"
      ]
     },
     "execution_count": 38,
     "metadata": {},
     "output_type": "execute_result"
    }
   ],
   "source": [
    "df['Age'].describe()"
   ]
  },
  {
   "cell_type": "markdown",
   "id": "7979dd72",
   "metadata": {},
   "source": [
    "In this distribution of data we dont feel any problem so we are going to discard the present null values"
   ]
  },
  {
   "cell_type": "code",
   "execution_count": 39,
   "id": "c7cbb10e",
   "metadata": {},
   "outputs": [],
   "source": [
    "df.dropna(inplace=True)"
   ]
  },
  {
   "cell_type": "code",
   "execution_count": 40,
   "id": "4e5e68c9",
   "metadata": {},
   "outputs": [
    {
     "data": {
      "text/plain": [
       "Survived    0\n",
       "Pclass      0\n",
       "Sex         0\n",
       "Age         0\n",
       "SibSp       0\n",
       "Parch       0\n",
       "Fare        0\n",
       "Embarked    0\n",
       "dtype: int64"
      ]
     },
     "execution_count": 40,
     "metadata": {},
     "output_type": "execute_result"
    }
   ],
   "source": [
    "df.isnull().sum()"
   ]
  },
  {
   "cell_type": "code",
   "execution_count": 41,
   "id": "84443111",
   "metadata": {},
   "outputs": [
    {
     "data": {
      "text/plain": [
       "(887, 8)"
      ]
     },
     "execution_count": 41,
     "metadata": {},
     "output_type": "execute_result"
    }
   ],
   "source": [
    "df.shape"
   ]
  },
  {
   "cell_type": "markdown",
   "id": "5c3877ca",
   "metadata": {},
   "source": [
    "WE HAVE IMPUTED ALL THE NULL VALUES SUCCESSFULLY"
   ]
  },
  {
   "cell_type": "code",
   "execution_count": 42,
   "id": "5a2c2be6",
   "metadata": {},
   "outputs": [
    {
     "data": {
      "text/html": [
       "<div>\n",
       "<style scoped>\n",
       "    .dataframe tbody tr th:only-of-type {\n",
       "        vertical-align: middle;\n",
       "    }\n",
       "\n",
       "    .dataframe tbody tr th {\n",
       "        vertical-align: top;\n",
       "    }\n",
       "\n",
       "    .dataframe thead th {\n",
       "        text-align: right;\n",
       "    }\n",
       "</style>\n",
       "<table border=\"1\" class=\"dataframe\">\n",
       "  <thead>\n",
       "    <tr style=\"text-align: right;\">\n",
       "      <th></th>\n",
       "      <th>Survived</th>\n",
       "      <th>Pclass</th>\n",
       "      <th>Sex</th>\n",
       "      <th>Age</th>\n",
       "      <th>SibSp</th>\n",
       "      <th>Parch</th>\n",
       "      <th>Fare</th>\n",
       "      <th>Embarked</th>\n",
       "    </tr>\n",
       "  </thead>\n",
       "  <tbody>\n",
       "    <tr>\n",
       "      <th>0</th>\n",
       "      <td>0</td>\n",
       "      <td>3</td>\n",
       "      <td>male</td>\n",
       "      <td>22.0</td>\n",
       "      <td>1</td>\n",
       "      <td>0</td>\n",
       "      <td>7.2500</td>\n",
       "      <td>S</td>\n",
       "    </tr>\n",
       "    <tr>\n",
       "      <th>1</th>\n",
       "      <td>1</td>\n",
       "      <td>1</td>\n",
       "      <td>female</td>\n",
       "      <td>38.0</td>\n",
       "      <td>1</td>\n",
       "      <td>0</td>\n",
       "      <td>71.2833</td>\n",
       "      <td>C</td>\n",
       "    </tr>\n",
       "    <tr>\n",
       "      <th>2</th>\n",
       "      <td>1</td>\n",
       "      <td>3</td>\n",
       "      <td>female</td>\n",
       "      <td>26.0</td>\n",
       "      <td>0</td>\n",
       "      <td>0</td>\n",
       "      <td>7.9250</td>\n",
       "      <td>S</td>\n",
       "    </tr>\n",
       "    <tr>\n",
       "      <th>3</th>\n",
       "      <td>1</td>\n",
       "      <td>1</td>\n",
       "      <td>female</td>\n",
       "      <td>35.0</td>\n",
       "      <td>1</td>\n",
       "      <td>0</td>\n",
       "      <td>53.1000</td>\n",
       "      <td>S</td>\n",
       "    </tr>\n",
       "    <tr>\n",
       "      <th>4</th>\n",
       "      <td>0</td>\n",
       "      <td>3</td>\n",
       "      <td>male</td>\n",
       "      <td>35.0</td>\n",
       "      <td>0</td>\n",
       "      <td>0</td>\n",
       "      <td>8.0500</td>\n",
       "      <td>S</td>\n",
       "    </tr>\n",
       "  </tbody>\n",
       "</table>\n",
       "</div>"
      ],
      "text/plain": [
       "   Survived  Pclass     Sex   Age  SibSp  Parch     Fare Embarked\n",
       "0         0       3    male  22.0      1      0   7.2500        S\n",
       "1         1       1  female  38.0      1      0  71.2833        C\n",
       "2         1       3  female  26.0      0      0   7.9250        S\n",
       "3         1       1  female  35.0      1      0  53.1000        S\n",
       "4         0       3    male  35.0      0      0   8.0500        S"
      ]
     },
     "execution_count": 42,
     "metadata": {},
     "output_type": "execute_result"
    }
   ],
   "source": [
    "df.head()"
   ]
  },
  {
   "cell_type": "code",
   "execution_count": 48,
   "id": "d5dc5b88",
   "metadata": {},
   "outputs": [
    {
     "data": {
      "image/png": "[encoded data removed]",
      "text/plain": [
       "<Figure size 432x288 with 1 Axes>"
      ]
     },
     "metadata": {
      "needs_background": "light"
     },
     "output_type": "display_data"
    }
   ],
   "source": [
    "sns.barplot(x=df['Pclass'],y=df['Survived'])\n",
    "plt.show()"
   ]
  },
  {
   "cell_type": "markdown",
   "id": "43a06b9a",
   "metadata": {},
   "source": [
    "Observation-\n",
    "Passenger with higher class like 1 and 2 are having more chances of survival as compare to the lower class."
   ]
  },
  {
   "cell_type": "code",
   "execution_count": 47,
   "id": "74765fcf",
   "metadata": {},
   "outputs": [
    {
     "data": {
      "image/png": "[encoded data removed]",
      "text/plain": [
       "<Figure size 432x288 with 1 Axes>"
      ]
     },
     "metadata": {
      "needs_background": "light"
     },
     "output_type": "display_data"
    }
   ],
   "source": [
    "sns.barplot(x=df['Sex'],y=df['Survived'])\n",
    "plt.show()"
   ]
  },
  {
   "cell_type": "markdown",
   "id": "03115af6",
   "metadata": {},
   "source": [
    "observation-\n",
    "Female are having more chances of servival."
   ]
  },
  {
   "cell_type": "code",
   "execution_count": 46,
   "id": "c54bd939",
   "metadata": {},
   "outputs": [
    {
     "data": {
      "image/png": "[encoded data removed]",
      "text/plain": [
       "<Figure size 432x288 with 1 Axes>"
      ]
     },
     "metadata": {
      "needs_background": "light"
     },
     "output_type": "display_data"
    }
   ],
   "source": [
    "sns.barplot(x=df['SibSp'],y=df['Survived'])\n",
    "plt.show()"
   ]
  },
  {
   "cell_type": "markdown",
   "id": "c53ea57f",
   "metadata": {},
   "source": [
    "Observation- \n",
    "Passenger with a group of 3 or 4 are having less chances of servival as compared to alone or with 1or 2 partners"
   ]
  },
  {
   "cell_type": "code",
   "execution_count": 49,
   "id": "c500b9bb",
   "metadata": {},
   "outputs": [
    {
     "data": {
      "image/png": "[encoded data removed]",
      "text/plain": [
       "<Figure size 432x288 with 1 Axes>"
      ]
     },
     "metadata": {
      "needs_background": "light"
     },
     "output_type": "display_data"
    }
   ],
   "source": [
    "sns.barplot(x=df['Parch'],y=df['Survived'])\n",
    "plt.show()"
   ]
  },
  {
   "cell_type": "markdown",
   "id": "9e4238c0",
   "metadata": {},
   "source": [
    "observation-\n",
    "person with parent or less chieldren (1-3) are having more chances of servival "
   ]
  },
  {
   "cell_type": "code",
   "execution_count": 50,
   "id": "3fa23fb2",
   "metadata": {},
   "outputs": [
    {
     "data": {
      "image/png": "[encoded data removed]",
      "text/plain": [
       "<Figure size 432x288 with 1 Axes>"
      ]
     },
     "metadata": {
      "needs_background": "light"
     },
     "output_type": "display_data"
    }
   ],
   "source": [
    "sns.barplot(x=df['Embarked'],y=df['Survived'])\n",
    "plt.show()"
   ]
  },
  {
   "cell_type": "markdown",
   "id": "0811391f",
   "metadata": {},
   "source": [
    "observation-\n",
    "from the plot we can see that embarking from C and Q are having more chances of servival than S"
   ]
  },
  {
   "cell_type": "code",
   "execution_count": 51,
   "id": "36c4f19b",
   "metadata": {},
   "outputs": [
    {
     "data": {
      "image/png": "[encoded data removed]",
      "text/plain": [
       "<Figure size 432x288 with 1 Axes>"
      ]
     },
     "metadata": {
      "needs_background": "light"
     },
     "output_type": "display_data"
    }
   ],
   "source": [
    "sns.distplot(df['Fare'])\n",
    "plt.show()"
   ]
  },
  {
   "cell_type": "code",
   "execution_count": 54,
   "id": "d026c37a",
   "metadata": {},
   "outputs": [
    {
     "data": {
      "image/png": "[encoded data removed]",
      "text/plain": [
       "<Figure size 432x288 with 1 Axes>"
      ]
     },
     "metadata": {
      "needs_background": "light"
     },
     "output_type": "display_data"
    }
   ],
   "source": [
    "sns.boxplot(y=df['Fare'])\n",
    "plt.show()"
   ]
  },
  {
   "cell_type": "markdown",
   "id": "f1e94782",
   "metadata": {},
   "source": [
    "#### FARE HAVE SIGNIFICANT AMOUNT OF OUTLIERS BUT CAN BE SEENS AS NORMALLY DISTRIBUTED"
   ]
  },
  {
   "cell_type": "code",
   "execution_count": 55,
   "id": "ce3c13ce",
   "metadata": {},
   "outputs": [
    {
     "data": {
      "image/png": "[encoded data removed]",
      "text/plain": [
       "<Figure size 432x288 with 1 Axes>"
      ]
     },
     "metadata": {
      "needs_background": "light"
     },
     "output_type": "display_data"
    }
   ],
   "source": [
    "sns.distplot(df['Age'])\n",
    "plt.show()"
   ]
  },
  {
   "cell_type": "code",
   "execution_count": 56,
   "id": "835fd6b6",
   "metadata": {},
   "outputs": [
    {
     "data": {
      "image/png": "[encoded data removed]",
      "text/plain": [
       "<Figure size 432x288 with 1 Axes>"
      ]
     },
     "metadata": {
      "needs_background": "light"
     },
     "output_type": "display_data"
    }
   ],
   "source": [
    "sns.boxplot(y=df['Age'])\n",
    "plt.show()"
   ]
  },
  {
   "cell_type": "markdown",
   "id": "730ca0da",
   "metadata": {},
   "source": [
    "#### AGE IS-A LITTLE SKEWED TO THE RIGHT BUT CONTAINS LESS NUMBER OF OUTLIERS"
   ]
  },
  {
   "cell_type": "code",
   "execution_count": 57,
   "id": "1c3bf29c",
   "metadata": {},
   "outputs": [
    {
     "data": {
      "text/plain": [
       "Pclass     -0.638455\n",
       "Survived    0.485726\n",
       "Age         0.530962\n",
       "Parch       2.741198\n",
       "SibSp       3.686760\n",
       "Fare        4.796347\n",
       "dtype: float64"
      ]
     },
     "execution_count": 57,
     "metadata": {},
     "output_type": "execute_result"
    }
   ],
   "source": [
    "df.skew().sort_values()"
   ]
  },
  {
   "cell_type": "markdown",
   "id": "06e4aac8",
   "metadata": {},
   "source": [
    "As we can see that the skewness in fare coloumn is much more as compared to age .\n",
    "Other are categorical column so we will not consider for the skewness"
   ]
  },
  {
   "cell_type": "code",
   "execution_count": 58,
   "id": "203329f4",
   "metadata": {},
   "outputs": [],
   "source": [
    "from scipy.stats import zscore"
   ]
  },
  {
   "cell_type": "code",
   "execution_count": 60,
   "id": "24b5cba9",
   "metadata": {},
   "outputs": [],
   "source": [
    "fg=pd.get_dummies(df[['Sex','Embarked']])"
   ]
  },
  {
   "cell_type": "code",
   "execution_count": 61,
   "id": "8d7f3417",
   "metadata": {},
   "outputs": [],
   "source": [
    "df=pd.concat([df,fg],axis=1)"
   ]
  },
  {
   "cell_type": "code",
   "execution_count": 62,
   "id": "6d46cb0b",
   "metadata": {},
   "outputs": [],
   "source": [
    "df.drop(['Sex','Embarked'],axis=1,inplace=True)"
   ]
  },
  {
   "cell_type": "code",
   "execution_count": 63,
   "id": "4eb463ab",
   "metadata": {},
   "outputs": [
    {
     "data": {
      "text/html": [
       "<div>\n",
       "<style scoped>\n",
       "    .dataframe tbody tr th:only-of-type {\n",
       "        vertical-align: middle;\n",
       "    }\n",
       "\n",
       "    .dataframe tbody tr th {\n",
       "        vertical-align: top;\n",
       "    }\n",
       "\n",
       "    .dataframe thead th {\n",
       "        text-align: right;\n",
       "    }\n",
       "</style>\n",
       "<table border=\"1\" class=\"dataframe\">\n",
       "  <thead>\n",
       "    <tr style=\"text-align: right;\">\n",
       "      <th></th>\n",
       "      <th>Survived</th>\n",
       "      <th>Pclass</th>\n",
       "      <th>Age</th>\n",
       "      <th>SibSp</th>\n",
       "      <th>Parch</th>\n",
       "      <th>Fare</th>\n",
       "      <th>Sex_female</th>\n",
       "      <th>Sex_male</th>\n",
       "      <th>Embarked_C</th>\n",
       "      <th>Embarked_Q</th>\n",
       "      <th>Embarked_S</th>\n",
       "    </tr>\n",
       "  </thead>\n",
       "  <tbody>\n",
       "    <tr>\n",
       "      <th>0</th>\n",
       "      <td>0</td>\n",
       "      <td>3</td>\n",
       "      <td>22.0</td>\n",
       "      <td>1</td>\n",
       "      <td>0</td>\n",
       "      <td>7.2500</td>\n",
       "      <td>0</td>\n",
       "      <td>1</td>\n",
       "      <td>0</td>\n",
       "      <td>0</td>\n",
       "      <td>1</td>\n",
       "    </tr>\n",
       "    <tr>\n",
       "      <th>1</th>\n",
       "      <td>1</td>\n",
       "      <td>1</td>\n",
       "      <td>38.0</td>\n",
       "      <td>1</td>\n",
       "      <td>0</td>\n",
       "      <td>71.2833</td>\n",
       "      <td>1</td>\n",
       "      <td>0</td>\n",
       "      <td>1</td>\n",
       "      <td>0</td>\n",
       "      <td>0</td>\n",
       "    </tr>\n",
       "    <tr>\n",
       "      <th>2</th>\n",
       "      <td>1</td>\n",
       "      <td>3</td>\n",
       "      <td>26.0</td>\n",
       "      <td>0</td>\n",
       "      <td>0</td>\n",
       "      <td>7.9250</td>\n",
       "      <td>1</td>\n",
       "      <td>0</td>\n",
       "      <td>0</td>\n",
       "      <td>0</td>\n",
       "      <td>1</td>\n",
       "    </tr>\n",
       "    <tr>\n",
       "      <th>3</th>\n",
       "      <td>1</td>\n",
       "      <td>1</td>\n",
       "      <td>35.0</td>\n",
       "      <td>1</td>\n",
       "      <td>0</td>\n",
       "      <td>53.1000</td>\n",
       "      <td>1</td>\n",
       "      <td>0</td>\n",
       "      <td>0</td>\n",
       "      <td>0</td>\n",
       "      <td>1</td>\n",
       "    </tr>\n",
       "    <tr>\n",
       "      <th>4</th>\n",
       "      <td>0</td>\n",
       "      <td>3</td>\n",
       "      <td>35.0</td>\n",
       "      <td>0</td>\n",
       "      <td>0</td>\n",
       "      <td>8.0500</td>\n",
       "      <td>0</td>\n",
       "      <td>1</td>\n",
       "      <td>0</td>\n",
       "      <td>0</td>\n",
       "      <td>1</td>\n",
       "    </tr>\n",
       "  </tbody>\n",
       "</table>\n",
       "</div>"
      ],
      "text/plain": [
       "   Survived  Pclass   Age  SibSp  Parch     Fare  Sex_female  Sex_male  \\\n",
       "0         0       3  22.0      1      0   7.2500           0         1   \n",
       "1         1       1  38.0      1      0  71.2833           1         0   \n",
       "2         1       3  26.0      0      0   7.9250           1         0   \n",
       "3         1       1  35.0      1      0  53.1000           1         0   \n",
       "4         0       3  35.0      0      0   8.0500           0         1   \n",
       "\n",
       "   Embarked_C  Embarked_Q  Embarked_S  \n",
       "0           0           0           1  \n",
       "1           1           0           0  \n",
       "2           0           0           1  \n",
       "3           0           0           1  \n",
       "4           0           0           1  "
      ]
     },
     "execution_count": 63,
     "metadata": {},
     "output_type": "execute_result"
    }
   ],
   "source": [
    "df.head()"
   ]
  },
  {
   "cell_type": "code",
   "execution_count": 64,
   "id": "98ab0f39",
   "metadata": {},
   "outputs": [],
   "source": [
    "z_score=np.abs(zscore(df))"
   ]
  },
  {
   "cell_type": "code",
   "execution_count": 66,
   "id": "f320a668",
   "metadata": {},
   "outputs": [],
   "source": [
    "dfh=df[(z_score<3).all(axis=1)]"
   ]
  },
  {
   "cell_type": "code",
   "execution_count": 67,
   "id": "f6b3cc4d",
   "metadata": {},
   "outputs": [
    {
     "data": {
      "text/plain": [
       "(745, 11)"
      ]
     },
     "execution_count": 67,
     "metadata": {},
     "output_type": "execute_result"
    }
   ],
   "source": [
    "dfh.shape"
   ]
  },
  {
   "cell_type": "code",
   "execution_count": 68,
   "id": "4a21dfd4",
   "metadata": {},
   "outputs": [
    {
     "data": {
      "text/plain": [
       "16.197975253093365"
      ]
     },
     "execution_count": 68,
     "metadata": {},
     "output_type": "execute_result"
    }
   ],
   "source": [
    "#Percentage loss od data calculated\n",
    "\n",
    "(889-745)/889*100\n"
   ]
  },
  {
   "cell_type": "markdown",
   "id": "08f700cb",
   "metadata": {},
   "source": [
    "loss ao data are more than 15 percent , so we cant remove the outliers"
   ]
  },
  {
   "cell_type": "code",
   "execution_count": 69,
   "id": "3d01b682",
   "metadata": {},
   "outputs": [
    {
     "data": {
      "text/plain": [
       "0    548\n",
       "1    339\n",
       "Name: Survived, dtype: int64"
      ]
     },
     "execution_count": 69,
     "metadata": {},
     "output_type": "execute_result"
    }
   ],
   "source": [
    "# cheaking for the data imbalance in our Target\n",
    "df['Survived'].value_counts()"
   ]
  },
  {
   "cell_type": "markdown",
   "id": "5607d610",
   "metadata": {},
   "source": [
    "No Data imbalance found"
   ]
  },
  {
   "cell_type": "code",
   "execution_count": 70,
   "id": "0424c8d6",
   "metadata": {},
   "outputs": [
    {
     "data": {
      "image/png": "[encoded data removed]",
      "text/plain": [
       "<Figure size 720x720 with 2 Axes>"
      ]
     },
     "metadata": {
      "needs_background": "light"
     },
     "output_type": "display_data"
    }
   ],
   "source": [
    "# Heat map to found the correlation among the features\n",
    "\n",
    "plt.figure(figsize=(10,10))\n",
    "sns.heatmap(df.corr().abs(),annot=True,annot_kws={'size':10})\n",
    "plt.show()"
   ]
  },
  {
   "cell_type": "code",
   "execution_count": 72,
   "id": "950ae1f9",
   "metadata": {},
   "outputs": [
    {
     "data": {
      "image/png": "[encoded data removed]",
      "text/plain": [
       "<Figure size 360x360 with 1 Axes>"
      ]
     },
     "metadata": {
      "needs_background": "light"
     },
     "output_type": "display_data"
    }
   ],
   "source": [
    "df.corr()['Survived'].drop(['Survived']).sort_values().plot(kind='bar',figsize=(5,5))\n",
    "plt.ylabel('Survived')\n",
    "plt.show()"
   ]
  },
  {
   "cell_type": "markdown",
   "id": "cf0eaa4f",
   "metadata": {},
   "source": [
    "BUT WE WILL STILL CHECK FOR THE MULTI COLLINEARITY USING VIF FACTOR METHOD"
   ]
  },
  {
   "cell_type": "code",
   "execution_count": 73,
   "id": "6389bdda",
   "metadata": {},
   "outputs": [],
   "source": [
    "from statsmodels.stats.outliers_influence import variance_inflation_factor"
   ]
  },
  {
   "cell_type": "markdown",
   "id": "deec9f64",
   "metadata": {},
   "source": [
    " FOR STANDARDISATION THE DATA WE WILL USE POWER TRANSFORMER"
   ]
  },
  {
   "cell_type": "code",
   "execution_count": 74,
   "id": "f1a9cb8f",
   "metadata": {},
   "outputs": [],
   "source": [
    "from sklearn.preprocessing import PowerTransformer"
   ]
  },
  {
   "cell_type": "code",
   "execution_count": 75,
   "id": "2da55e64",
   "metadata": {},
   "outputs": [],
   "source": [
    "pt=PowerTransformer(method='yeo-johnson',standardize=True)\n",
    "\n"
   ]
  },
  {
   "cell_type": "code",
   "execution_count": 76,
   "id": "d20c7c3b",
   "metadata": {},
   "outputs": [],
   "source": [
    "x=df.drop(['Survived'],axis=1)\n"
   ]
  },
  {
   "cell_type": "code",
   "execution_count": 77,
   "id": "0db0bbc7",
   "metadata": {},
   "outputs": [],
   "source": [
    "y=df['Survived']"
   ]
  },
  {
   "cell_type": "code",
   "execution_count": 78,
   "id": "76e8527e",
   "metadata": {},
   "outputs": [],
   "source": [
    "x_scaled=pd.DataFrame(pt.fit_transform(x))"
   ]
  },
  {
   "cell_type": "code",
   "execution_count": 79,
   "id": "d5e706d1",
   "metadata": {},
   "outputs": [
    {
     "name": "stdout",
     "output_type": "stream",
     "text": [
      "0   -0.445111\n",
      "1    0.065530\n",
      "2    0.802235\n",
      "3    1.221964\n",
      "4   -0.041334\n",
      "5    0.621985\n",
      "6   -0.621985\n",
      "7    1.597482\n",
      "8    2.965552\n",
      "9   -1.015392\n",
      "dtype: float64\n"
     ]
    },
    {
     "data": {
      "image/png": "[encoded data removed]",
      "text/plain": [
       "<Figure size 432x288 with 1 Axes>"
      ]
     },
     "metadata": {
      "needs_background": "light"
     },
     "output_type": "display_data"
    }
   ],
   "source": [
    "print(x_scaled.skew())\n",
    "x_scaled.skew().sort_values().plot(kind='bar')\n",
    "plt.show()"
   ]
  },
  {
   "cell_type": "code",
   "execution_count": 80,
   "id": "fc9a71a4",
   "metadata": {},
   "outputs": [],
   "source": [
    "from sklearn.preprocessing import StandardScaler"
   ]
  },
  {
   "cell_type": "code",
   "execution_count": 81,
   "id": "4caadfb0",
   "metadata": {},
   "outputs": [],
   "source": [
    "sc=StandardScaler()"
   ]
  },
  {
   "cell_type": "code",
   "execution_count": 82,
   "id": "10236c94",
   "metadata": {},
   "outputs": [],
   "source": [
    "x_scale=pd.DataFrame(sc.fit_transform(x))"
   ]
  },
  {
   "cell_type": "code",
   "execution_count": 83,
   "id": "9ebc2578",
   "metadata": {},
   "outputs": [
    {
     "data": {
      "text/plain": [
       "9   -1.015392\n",
       "0   -0.638455\n",
       "6   -0.621985\n",
       "1    0.530962\n",
       "5    0.621985\n",
       "7    1.597482\n",
       "3    2.741198\n",
       "8    2.965552\n",
       "2    3.686760\n",
       "4    4.796347\n",
       "dtype: float64"
      ]
     },
     "execution_count": 83,
     "metadata": {},
     "output_type": "execute_result"
    }
   ],
   "source": [
    "x_scale.skew().sort_values()"
   ]
  },
  {
   "cell_type": "markdown",
   "id": "a0b3b991",
   "metadata": {},
   "source": [
    "Skewness and standerdisation through power transformation showing much better result so we go with Power Transformation"
   ]
  },
  {
   "cell_type": "markdown",
   "id": "7a2db873",
   "metadata": {},
   "source": [
    "MULTI COLLINEARITY USING VIF FACTOR METHOD"
   ]
  },
  {
   "cell_type": "code",
   "execution_count": 85,
   "id": "e8596cbf",
   "metadata": {},
   "outputs": [],
   "source": [
    "vif=pd.DataFrame()"
   ]
  },
  {
   "cell_type": "code",
   "execution_count": 86,
   "id": "54a805a5",
   "metadata": {},
   "outputs": [],
   "source": [
    "vif['Features']=x.columns"
   ]
  },
  {
   "cell_type": "code",
   "execution_count": 87,
   "id": "3a46242b",
   "metadata": {},
   "outputs": [],
   "source": [
    "vif['scores']=[variance_inflation_factor(x_scaled,i) for i in range(x_scaled.shape[1])]"
   ]
  },
  {
   "cell_type": "code",
   "execution_count": 88,
   "id": "4a5c13d8",
   "metadata": {},
   "outputs": [
    {
     "data": {
      "text/html": [
       "<div>\n",
       "<style scoped>\n",
       "    .dataframe tbody tr th:only-of-type {\n",
       "        vertical-align: middle;\n",
       "    }\n",
       "\n",
       "    .dataframe tbody tr th {\n",
       "        vertical-align: top;\n",
       "    }\n",
       "\n",
       "    .dataframe thead th {\n",
       "        text-align: right;\n",
       "    }\n",
       "</style>\n",
       "<table border=\"1\" class=\"dataframe\">\n",
       "  <thead>\n",
       "    <tr style=\"text-align: right;\">\n",
       "      <th></th>\n",
       "      <th>Features</th>\n",
       "      <th>scores</th>\n",
       "    </tr>\n",
       "  </thead>\n",
       "  <tbody>\n",
       "    <tr>\n",
       "      <th>0</th>\n",
       "      <td>Pclass</td>\n",
       "      <td>1.855641</td>\n",
       "    </tr>\n",
       "    <tr>\n",
       "      <th>1</th>\n",
       "      <td>Age</td>\n",
       "      <td>1.002669</td>\n",
       "    </tr>\n",
       "    <tr>\n",
       "      <th>2</th>\n",
       "      <td>SibSp</td>\n",
       "      <td>1.405039</td>\n",
       "    </tr>\n",
       "    <tr>\n",
       "      <th>3</th>\n",
       "      <td>Parch</td>\n",
       "      <td>1.413690</td>\n",
       "    </tr>\n",
       "    <tr>\n",
       "      <th>4</th>\n",
       "      <td>Fare</td>\n",
       "      <td>2.345603</td>\n",
       "    </tr>\n",
       "  </tbody>\n",
       "</table>\n",
       "</div>"
      ],
      "text/plain": [
       "  Features    scores\n",
       "0   Pclass  1.855641\n",
       "1      Age  1.002669\n",
       "2    SibSp  1.405039\n",
       "3    Parch  1.413690\n",
       "4     Fare  2.345603"
      ]
     },
     "execution_count": 88,
     "metadata": {},
     "output_type": "execute_result"
    }
   ],
   "source": [
    "vif[:5]"
   ]
  },
  {
   "cell_type": "markdown",
   "id": "616db471",
   "metadata": {},
   "source": [
    "THEIR IS NO ISSUE OF MULTI-COLLINEARITY EXISTS IN OUR DATASET"
   ]
  },
  {
   "cell_type": "code",
   "execution_count": 89,
   "id": "28cc9ca3",
   "metadata": {},
   "outputs": [],
   "source": [
    "from sklearn.model_selection import train_test_split,cross_val_score\n",
    "from sklearn.linear_model import LogisticRegression\n",
    "from sklearn.metrics import accuracy_score,confusion_matrix\n",
    "from sklearn.metrics import plot_roc_curve,roc_auc_score,roc_curve"
   ]
  },
  {
   "cell_type": "code",
   "execution_count": 91,
   "id": "490674f4",
   "metadata": {},
   "outputs": [
    {
     "name": "stdout",
     "output_type": "stream",
     "text": [
      "\n",
      "\n",
      "AT RANDOM STATE-- 124\n",
      "\n",
      "\n",
      "TRAINING ACCURACY IS -77.89  --AND TESTING ACCURACY IS 77.93\n",
      "\n",
      "\n",
      "AT RANDOM STATE-- 135\n",
      "\n",
      "\n",
      "TRAINING ACCURACY IS -77.89  --AND TESTING ACCURACY IS 77.93\n",
      "\n",
      "\n",
      "AT RANDOM STATE-- 191\n",
      "\n",
      "\n",
      "TRAINING ACCURACY IS -78.8  --AND TESTING ACCURACY IS 78.83\n",
      "\n",
      "\n",
      "AT RANDOM STATE-- 374\n",
      "\n",
      "\n",
      "TRAINING ACCURACY IS -78.8  --AND TESTING ACCURACY IS 78.83\n",
      "\n",
      "\n",
      "AT RANDOM STATE-- 413\n",
      "\n",
      "\n",
      "TRAINING ACCURACY IS -77.89  --AND TESTING ACCURACY IS 77.93\n",
      "\n",
      "\n",
      "AT RANDOM STATE-- 496\n",
      "\n",
      "\n",
      "TRAINING ACCURACY IS -78.8  --AND TESTING ACCURACY IS 78.83\n",
      "\n",
      "\n",
      "AT RANDOM STATE-- 498\n",
      "\n",
      "\n",
      "TRAINING ACCURACY IS -77.89  --AND TESTING ACCURACY IS 77.93\n",
      "\n",
      "\n",
      "AT RANDOM STATE-- 545\n",
      "\n",
      "\n",
      "TRAINING ACCURACY IS -77.89  --AND TESTING ACCURACY IS 77.93\n",
      "\n",
      "\n",
      "AT RANDOM STATE-- 849\n",
      "\n",
      "\n",
      "TRAINING ACCURACY IS -78.8  --AND TESTING ACCURACY IS 78.83\n",
      "\n",
      "\n",
      "AT RANDOM STATE-- 877\n",
      "\n",
      "\n",
      "TRAINING ACCURACY IS -78.8  --AND TESTING ACCURACY IS 78.83\n",
      "\n",
      "\n",
      "AT RANDOM STATE-- 1046\n",
      "\n",
      "\n",
      "TRAINING ACCURACY IS -78.8  --AND TESTING ACCURACY IS 78.83\n",
      "\n",
      "\n",
      "AT RANDOM STATE-- 1082\n",
      "\n",
      "\n",
      "TRAINING ACCURACY IS -78.8  --AND TESTING ACCURACY IS 78.83\n"
     ]
    }
   ],
   "source": [
    "for i in range (0,1100):\n",
    "    x_train,x_test,y_train,y_test=train_test_split(x_scaled,y,test_size=0.25,random_state=i)\n",
    "    lr=LogisticRegression()\n",
    "    lr.fit(x_train,y_train)\n",
    "    lr_train_pred=lr.predict(x_train)\n",
    "    lr_test_pred=lr.predict(x_test)\n",
    "    lr_train_accuracy=accuracy_score(y_train,lr_train_pred)\n",
    "    lr_test_accuracy=accuracy_score(y_test,lr_test_pred)\n",
    "    if(round(lr_train_accuracy*100,1)==round(lr_test_accuracy*100,1)):\n",
    "        print('\\n\\nAT RANDOM STATE--',i)\n",
    "        print(f'\\n\\nTRAINING ACCURACY IS -{round((lr_train_accuracy)*100,2)}  --AND TESTING ACCURACY IS {round((lr_test_accuracy)*100,2)}')\n",
    "        "
   ]
  },
  {
   "cell_type": "markdown",
   "id": "4a57c582",
   "metadata": {},
   "source": [
    "#### SINCE AT RANDOM STATE 191 WE ARE GETTING LESS DIFFERENCES BETWEEN TRAIN AND TEST WE WILL MOVE WITH RANDOM STATE 191"
   ]
  },
  {
   "cell_type": "code",
   "execution_count": 100,
   "id": "c4f43699",
   "metadata": {},
   "outputs": [],
   "source": [
    "x_train,x_test,y_train,y_test=train_test_split(x_scaled,y,random_state=191,test_size=0.25)"
   ]
  },
  {
   "cell_type": "code",
   "execution_count": 101,
   "id": "d43e18c0",
   "metadata": {},
   "outputs": [],
   "source": [
    "lr=LogisticRegression()\n",
    "lr.fit(x_train,y_train)\n",
    "lr_test_pred=lr.predict(x_test)\n",
    "lr_train_pred=lr.predict(x_train)\n",
    "lr_train_accuracy=accuracy_score(y_train,lr_train_pred)\n",
    "lr_test_accuracy=accuracy_score(y_test,lr_test_pred)"
   ]
  },
  {
   "cell_type": "code",
   "execution_count": 102,
   "id": "3588c2ff",
   "metadata": {},
   "outputs": [
    {
     "name": "stdout",
     "output_type": "stream",
     "text": [
      "\n",
      "ACCURACY SCORE TRAINING FOR LOGISTIC REGRESSION  --78.8\n"
     ]
    }
   ],
   "source": [
    "print(f\"\\nACCURACY SCORE TRAINING FOR LOGISTIC REGRESSION  --{round(lr_train_accuracy*100,2)}\")"
   ]
  },
  {
   "cell_type": "code",
   "execution_count": 103,
   "id": "ae067889",
   "metadata": {},
   "outputs": [
    {
     "name": "stdout",
     "output_type": "stream",
     "text": [
      "\n",
      "ACCURACY SCORE TESTING FOR LOGISTIC REGRESSION  --78.83\n"
     ]
    }
   ],
   "source": [
    "print(f\"\\nACCURACY SCORE TESTING FOR LOGISTIC REGRESSION  --{round(lr_test_accuracy*100,2)}\")"
   ]
  },
  {
   "cell_type": "code",
   "execution_count": 104,
   "id": "fcf71159",
   "metadata": {},
   "outputs": [
    {
     "name": "stdout",
     "output_type": "stream",
     "text": [
      "\n",
      "\n",
      "AT CV = 2\n",
      "\n",
      "\n",
      "CROSS VAL SCORE IS -- 0.7542477579159295\n",
      "\n",
      "\n",
      "ACCURACY SCORE IS -- 0.7882882882882883\n",
      "*********------------------------------******************\n",
      "\n",
      "\n",
      "AT CV = 3\n",
      "\n",
      "\n",
      "CROSS VAL SCORE IS -- 0.7767712627882121\n",
      "\n",
      "\n",
      "ACCURACY SCORE IS -- 0.7882882882882883\n",
      "*********------------------------------******************\n",
      "\n",
      "\n",
      "AT CV = 4\n",
      "\n",
      "\n",
      "CROSS VAL SCORE IS -- 0.773404060168766\n",
      "\n",
      "\n",
      "ACCURACY SCORE IS -- 0.7882882882882883\n",
      "*********------------------------------******************\n",
      "\n",
      "\n",
      "AT CV = 5\n",
      "\n",
      "\n",
      "CROSS VAL SCORE IS -- 0.7745127912143719\n",
      "\n",
      "\n",
      "ACCURACY SCORE IS -- 0.7882882882882883\n",
      "*********------------------------------******************\n",
      "\n",
      "\n",
      "AT CV = 6\n",
      "\n",
      "\n",
      "CROSS VAL SCORE IS -- 0.772285040142183\n",
      "\n",
      "\n",
      "ACCURACY SCORE IS -- 0.7882882882882883\n",
      "*********------------------------------******************\n",
      "\n",
      "\n",
      "AT CV = 7\n",
      "\n",
      "\n",
      "CROSS VAL SCORE IS -- 0.7722695377363544\n",
      "\n",
      "\n",
      "ACCURACY SCORE IS -- 0.7882882882882883\n",
      "*********------------------------------******************\n",
      "\n",
      "\n",
      "AT CV = 8\n",
      "\n",
      "\n",
      "CROSS VAL SCORE IS -- 0.774539312039312\n",
      "\n",
      "\n",
      "ACCURACY SCORE IS -- 0.7882882882882883\n",
      "*********------------------------------******************\n",
      "\n",
      "\n",
      "AT CV = 9\n",
      "\n",
      "\n",
      "CROSS VAL SCORE IS -- 0.7756018232208708\n",
      "\n",
      "\n",
      "ACCURACY SCORE IS -- 0.7882882882882883\n",
      "*********------------------------------******************\n"
     ]
    }
   ],
   "source": [
    "for j in range(2,10):\n",
    "    cross_val=cross_val_score(lr,x_scaled,y,cv=j).mean()\n",
    "    print('\\n\\nAT CV =',j)\n",
    "    print('\\n\\nCROSS VAL SCORE IS --',cross_val)\n",
    "    print('\\n\\nACCURACY SCORE IS --',lr_test_accuracy)\n",
    "    print('*********------------------------------******************')\n",
    "    "
   ]
  },
  {
   "cell_type": "markdown",
   "id": "e994feef",
   "metadata": {},
   "source": [
    "### AT CV=3 WE ARE GETTING LESS DIFFERNCE BETWEEN OUR SCORES BETWEEN CROSS VAL SCORE AND ACCURACY SCORE OUR MODEL IT IMPLIES THAT OUR MODEL IS NOT OVERFITTING AND SCORES ARE REASONABLE"
   ]
  },
  {
   "cell_type": "code",
   "execution_count": 106,
   "id": "5faf67ff",
   "metadata": {},
   "outputs": [
    {
     "name": "stdout",
     "output_type": "stream",
     "text": [
      "\n",
      "CROSS VAL SCORE---77.68\n"
     ]
    }
   ],
   "source": [
    "print(f\"\\nCROSS VAL SCORE---{round(cross_val_score(lr,x_scaled,y,cv=3).mean()*100,2)}\")"
   ]
  },
  {
   "cell_type": "code",
   "execution_count": 107,
   "id": "2199064c",
   "metadata": {},
   "outputs": [
    {
     "name": "stdout",
     "output_type": "stream",
     "text": [
      "CLASSIFICATION REPORT FOR LOGISTIC REGRESSION ---\n",
      "\n",
      "\n",
      "               precision    recall  f1-score   support\n",
      "\n",
      "           0       0.78      0.89      0.83       131\n",
      "           1       0.80      0.65      0.72        91\n",
      "\n",
      "    accuracy                           0.79       222\n",
      "   macro avg       0.79      0.77      0.77       222\n",
      "weighted avg       0.79      0.79      0.78       222\n",
      "\n"
     ]
    }
   ],
   "source": [
    "#CLASSIFICATION MATRIX AND CONFUSION MATRIX FOR LOGISTIC REGRESSION\n",
    "\n",
    "from sklearn.metrics import classification_report\n",
    "print(f\"CLASSIFICATION REPORT FOR LOGISTIC REGRESSION ---\\n\\n\\n {(classification_report(y_test,lr_test_pred))}\")"
   ]
  },
  {
   "cell_type": "code",
   "execution_count": 108,
   "id": "08a1656a",
   "metadata": {},
   "outputs": [
    {
     "name": "stdout",
     "output_type": "stream",
     "text": [
      "CONFUSION MATRIX FOR LOGISTIC REGRESSION ---\n",
      "\n",
      "\n",
      " [[116  15]\n",
      " [ 32  59]]\n"
     ]
    }
   ],
   "source": [
    "print(f\"CONFUSION MATRIX FOR LOGISTIC REGRESSION ---\\n\\n\\n {(confusion_matrix(y_test,lr_test_pred))}\")"
   ]
  },
  {
   "cell_type": "code",
   "execution_count": 109,
   "id": "5e464334",
   "metadata": {},
   "outputs": [
    {
     "name": "stdout",
     "output_type": "stream",
     "text": [
      "\n",
      "ACCURACY SCORE TESTIING FOR LOGISTIC REGRESSION  at random state 191 --78.83\n",
      "\n",
      "CROSS VAL SCORE AT CV=3---77.68\n",
      "\n",
      "ACCURACY SCORE TRAINING FOR LOGISTIC REGRESSION  --78.8\n"
     ]
    }
   ],
   "source": [
    "print(f\"\\nACCURACY SCORE TESTIING FOR LOGISTIC REGRESSION  at random state 191 --{round(lr_test_accuracy*100,2)}\")\n",
    "print(f\"\\nCROSS VAL SCORE AT CV=3---{round(cross_val_score(lr,x_scaled,y,cv=3).mean()*100,2)}\")\n",
    "print(f\"\\nACCURACY SCORE TRAINING FOR LOGISTIC REGRESSION  --{round(lr_train_accuracy*100,2)}\")"
   ]
  },
  {
   "cell_type": "markdown",
   "id": "70b90d6f",
   "metadata": {},
   "source": [
    "### Random Forest Classification"
   ]
  },
  {
   "cell_type": "code",
   "execution_count": 110,
   "id": "3f7e899c",
   "metadata": {},
   "outputs": [
    {
     "data": {
      "text/plain": [
       "RandomForestClassifier()"
      ]
     },
     "execution_count": 110,
     "metadata": {},
     "output_type": "execute_result"
    }
   ],
   "source": [
    "from sklearn.ensemble import RandomForestClassifier\n",
    "rfc=RandomForestClassifier()\n",
    "rfc.fit(x_train,y_train)"
   ]
  },
  {
   "cell_type": "code",
   "execution_count": 111,
   "id": "6af4c39f",
   "metadata": {},
   "outputs": [
    {
     "name": "stdout",
     "output_type": "stream",
     "text": [
      "\n",
      "ACCURACY SCORE (TRAINING) FOR RANDOM FOREST CLASSIFIER  AT RANDOM STATE 191 --99.25\n"
     ]
    }
   ],
   "source": [
    "rfc_train_pred=rfc.predict(x_train)\n",
    "rfc_test_pred=rfc.predict(x_test)\n",
    "rfc_test_accuracy=accuracy_score(y_test,rfc_test_pred)\n",
    "rfc_train_accuracy=accuracy_score(y_train,rfc_train_pred)\n",
    "print(f\"\\nACCURACY SCORE (TRAINING) FOR RANDOM FOREST CLASSIFIER  AT RANDOM STATE 191 --{round(rfc_train_accuracy*100,2)}\")"
   ]
  },
  {
   "cell_type": "code",
   "execution_count": 112,
   "id": "b9264c72",
   "metadata": {},
   "outputs": [
    {
     "name": "stdout",
     "output_type": "stream",
     "text": [
      "\n",
      "ACCURACY SCORE (TESTING) FOR RANDOM FOREST CLASSIFIER  AT RANDOM STATE 191 --79.73\n"
     ]
    }
   ],
   "source": [
    "print(f\"\\nACCURACY SCORE (TESTING) FOR RANDOM FOREST CLASSIFIER  AT RANDOM STATE 191 --{round(rfc_test_accuracy*100,2)}\")"
   ]
  },
  {
   "cell_type": "code",
   "execution_count": 113,
   "id": "069b582d",
   "metadata": {},
   "outputs": [
    {
     "name": "stdout",
     "output_type": "stream",
     "text": [
      "\n",
      "CROSS VAL SCORE FOR RANDOM FOREST CLASSIFIER AT CV=3---77.23\n"
     ]
    }
   ],
   "source": [
    "print(f\"\\nCROSS VAL SCORE FOR RANDOM FOREST CLASSIFIER AT CV=3---{round(cross_val_score(rfc,x_scaled,y,cv=3).mean()*100,2)}\")"
   ]
  },
  {
   "cell_type": "code",
   "execution_count": 114,
   "id": "a181fb13",
   "metadata": {},
   "outputs": [],
   "source": [
    "from sklearn.model_selection import GridSearchCV"
   ]
  },
  {
   "cell_type": "code",
   "execution_count": 115,
   "id": "4fc6dd35",
   "metadata": {},
   "outputs": [],
   "source": [
    "parma={\"n_estimators\":np.arange(50,60),\n",
    "      \"criterion\":[\"gini\", \"entropy\", \"log_loss\"],\n",
    "       \"min_samples_split\":np.arange(2,5),\n",
    "       \"oob_score\":[True,False],\n",
    "       }"
   ]
  },
  {
   "cell_type": "code",
   "execution_count": 116,
   "id": "2771bed1",
   "metadata": {},
   "outputs": [],
   "source": [
    "rgsc=GridSearchCV(rfc,param_grid=parma)"
   ]
  },
  {
   "cell_type": "code",
   "execution_count": 117,
   "id": "18fddbc7",
   "metadata": {},
   "outputs": [
    {
     "data": {
      "text/plain": [
       "GridSearchCV(estimator=RandomForestClassifier(),\n",
       "             param_grid={'criterion': ['gini', 'entropy', 'log_loss'],\n",
       "                         'min_samples_split': array([2, 3, 4]),\n",
       "                         'n_estimators': array([50, 51, 52, 53, 54, 55, 56, 57, 58, 59]),\n",
       "                         'oob_score': [True, False]})"
      ]
     },
     "execution_count": 117,
     "metadata": {},
     "output_type": "execute_result"
    }
   ],
   "source": [
    "rgsc.fit(x_train,y_train)"
   ]
  },
  {
   "cell_type": "code",
   "execution_count": 118,
   "id": "f7a95e9f",
   "metadata": {},
   "outputs": [
    {
     "data": {
      "text/plain": [
       "{'criterion': 'gini',\n",
       " 'min_samples_split': 4,\n",
       " 'n_estimators': 53,\n",
       " 'oob_score': False}"
      ]
     },
     "execution_count": 118,
     "metadata": {},
     "output_type": "execute_result"
    }
   ],
   "source": [
    "rgsc.best_params_"
   ]
  },
  {
   "cell_type": "code",
   "execution_count": 119,
   "id": "7b82e7b7",
   "metadata": {},
   "outputs": [],
   "source": [
    "rfc=RandomForestClassifier(criterion='gini',n_estimators=53,min_samples_split=4,oob_score=False)"
   ]
  },
  {
   "cell_type": "code",
   "execution_count": 120,
   "id": "f4937304",
   "metadata": {},
   "outputs": [
    {
     "data": {
      "text/plain": [
       "RandomForestClassifier(min_samples_split=4, n_estimators=53)"
      ]
     },
     "execution_count": 120,
     "metadata": {},
     "output_type": "execute_result"
    }
   ],
   "source": [
    "rfc.fit(x_train,y_train)"
   ]
  },
  {
   "cell_type": "code",
   "execution_count": 121,
   "id": "9b46dc0a",
   "metadata": {},
   "outputs": [],
   "source": [
    "rfc_test_pred=rfc.predict(x_test)\n",
    "rfc_train_pred=rfc.predict(x_train)\n",
    "rfc_test_accuracy=accuracy_score(y_test,rfc_test_pred)\n",
    "rfc_train_accuracy=accuracy_score(y_train,rfc_train_pred)"
   ]
  },
  {
   "cell_type": "code",
   "execution_count": 122,
   "id": "4995880f",
   "metadata": {},
   "outputs": [
    {
     "name": "stdout",
     "output_type": "stream",
     "text": [
      "\n",
      "ACCURACY SCORE (TRAINING) FOR RANDOM FOREST CLASSIFIER  AT RANDOM STATE 191 --95.94\n"
     ]
    }
   ],
   "source": [
    "print(f\"\\nACCURACY SCORE (TRAINING) FOR RANDOM FOREST CLASSIFIER  AT RANDOM STATE 191 --{round(rfc_train_accuracy*100,2)}\")"
   ]
  },
  {
   "cell_type": "code",
   "execution_count": 123,
   "id": "77b1de85",
   "metadata": {},
   "outputs": [
    {
     "name": "stdout",
     "output_type": "stream",
     "text": [
      "\n",
      "ACCURACY SCORE (TESTING) FOR RANDOM FOREST CLASSIFIER  AT RANDOM STATE 191 --81.08\n"
     ]
    }
   ],
   "source": [
    "print(f\"\\nACCURACY SCORE (TESTING) FOR RANDOM FOREST CLASSIFIER  AT RANDOM STATE 191 --{round(rfc_test_accuracy*100,2)}\")"
   ]
  },
  {
   "cell_type": "code",
   "execution_count": 124,
   "id": "3df55d32",
   "metadata": {},
   "outputs": [
    {
     "name": "stdout",
     "output_type": "stream",
     "text": [
      "\n",
      "CROSS VAL SCORE FOR RANDOM FOREST CLASSIFIER AT CV=3---78.69\n"
     ]
    }
   ],
   "source": [
    "print(f\"\\nCROSS VAL SCORE FOR RANDOM FOREST CLASSIFIER AT CV=3---{round(cross_val_score(rfc,x_scaled,y,cv=3).mean()*100,2)}\")"
   ]
  },
  {
   "cell_type": "code",
   "execution_count": 125,
   "id": "9609ca1f",
   "metadata": {},
   "outputs": [],
   "source": [
    "parma={\"n_estimators\":np.arange(60,70),\n",
    "      \"criterion\":[\"gini\", \"entropy\", \"log_loss\"],\n",
    "       \"min_samples_split\":np.arange(4,8),\n",
    "       \"oob_score\":[True,False],\n",
    "       }"
   ]
  },
  {
   "cell_type": "code",
   "execution_count": 126,
   "id": "c4e1c9e8",
   "metadata": {},
   "outputs": [],
   "source": [
    "rfc=RandomForestClassifier()"
   ]
  },
  {
   "cell_type": "code",
   "execution_count": 127,
   "id": "caedbbc4",
   "metadata": {},
   "outputs": [],
   "source": [
    "rgv=GridSearchCV(rfc,param_grid=parma)"
   ]
  },
  {
   "cell_type": "code",
   "execution_count": 128,
   "id": "3a3537f1",
   "metadata": {},
   "outputs": [
    {
     "data": {
      "text/plain": [
       "GridSearchCV(estimator=RandomForestClassifier(),\n",
       "             param_grid={'criterion': ['gini', 'entropy', 'log_loss'],\n",
       "                         'min_samples_split': array([4, 5, 6, 7]),\n",
       "                         'n_estimators': array([60, 61, 62, 63, 64, 65, 66, 67, 68, 69]),\n",
       "                         'oob_score': [True, False]})"
      ]
     },
     "execution_count": 128,
     "metadata": {},
     "output_type": "execute_result"
    }
   ],
   "source": [
    "rgv.fit(x_train,y_train)"
   ]
  },
  {
   "cell_type": "code",
   "execution_count": 129,
   "id": "49d11b83",
   "metadata": {},
   "outputs": [
    {
     "data": {
      "text/plain": [
       "{'criterion': 'gini',\n",
       " 'min_samples_split': 7,\n",
       " 'n_estimators': 69,\n",
       " 'oob_score': False}"
      ]
     },
     "execution_count": 129,
     "metadata": {},
     "output_type": "execute_result"
    }
   ],
   "source": [
    "rgv.best_params_"
   ]
  },
  {
   "cell_type": "code",
   "execution_count": 131,
   "id": "5515f241",
   "metadata": {},
   "outputs": [],
   "source": [
    "rfc=RandomForestClassifier(criterion='entropy',min_samples_split=7,n_estimators=67,oob_score=True)"
   ]
  },
  {
   "cell_type": "code",
   "execution_count": 132,
   "id": "4fc9515d",
   "metadata": {},
   "outputs": [
    {
     "data": {
      "text/plain": [
       "RandomForestClassifier(criterion='entropy', min_samples_split=7,\n",
       "                       n_estimators=67, oob_score=True)"
      ]
     },
     "execution_count": 132,
     "metadata": {},
     "output_type": "execute_result"
    }
   ],
   "source": [
    "rfc.fit(x_train,y_train)"
   ]
  },
  {
   "cell_type": "code",
   "execution_count": 133,
   "id": "005bb5c1",
   "metadata": {},
   "outputs": [],
   "source": [
    "rfc_train_pred=rfc.predict(x_train)"
   ]
  },
  {
   "cell_type": "code",
   "execution_count": 134,
   "id": "0838754f",
   "metadata": {},
   "outputs": [],
   "source": [
    "rfc_test_pred=rfc.predict(x_test)"
   ]
  },
  {
   "cell_type": "code",
   "execution_count": 135,
   "id": "425a9cc2",
   "metadata": {},
   "outputs": [],
   "source": [
    "rfc_accuracy_score=accuracy_score(y_test,rfc_test_pred)"
   ]
  },
  {
   "cell_type": "code",
   "execution_count": 136,
   "id": "ea965ca9",
   "metadata": {},
   "outputs": [],
   "source": [
    "rfc_train_accuracy=accuracy_score(y_train,rfc_train_pred)"
   ]
  },
  {
   "cell_type": "code",
   "execution_count": 137,
   "id": "9e003873",
   "metadata": {},
   "outputs": [
    {
     "name": "stdout",
     "output_type": "stream",
     "text": [
      "\n",
      "ACCURACY SCORE (Training) FOR RANDOM FOREST CLASSIFIER  AT RANDOM STATE 191 --92.48\n"
     ]
    }
   ],
   "source": [
    "print(f\"\\nACCURACY SCORE (Training) FOR RANDOM FOREST CLASSIFIER  AT RANDOM STATE 191 --{round(rfc_train_accuracy*100,2)}\")"
   ]
  },
  {
   "cell_type": "code",
   "execution_count": 138,
   "id": "a3cfde55",
   "metadata": {},
   "outputs": [
    {
     "name": "stdout",
     "output_type": "stream",
     "text": [
      "\n",
      "ACCURACY SCORE(Testing) FOR RANDOM FOREST CLASSIFIER  AT RANDOM STATE 191 --80.18\n"
     ]
    }
   ],
   "source": [
    "print(f\"\\nACCURACY SCORE(Testing) FOR RANDOM FOREST CLASSIFIER  AT RANDOM STATE 191 --{round(rfc_accuracy_score*100,2)}\")"
   ]
  },
  {
   "cell_type": "code",
   "execution_count": 139,
   "id": "92370105",
   "metadata": {},
   "outputs": [
    {
     "name": "stdout",
     "output_type": "stream",
     "text": [
      "\n",
      "CROSS VAL SCORE FOR RANDOM FOREST CLASSIFIER AT CV=3---78.81\n"
     ]
    }
   ],
   "source": [
    "print(f\"\\nCROSS VAL SCORE FOR RANDOM FOREST CLASSIFIER AT CV=3---{round(cross_val_score(rfc,x_scaled,y,cv=3).mean()*100,2)}\")"
   ]
  },
  {
   "cell_type": "code",
   "execution_count": 140,
   "id": "adae797a",
   "metadata": {},
   "outputs": [],
   "source": [
    "rfc=RandomForestClassifier(criterion='entropy',min_samples_split=7,n_estimators=67,oob_score=True)\n",
    "rfc.fit(x_train,y_train)\n",
    "rfc_train_pred=rfc.predict(x_train)\n",
    "rfc_test_pred=rfc.predict(x_test)\n",
    "rfc_test_accuracy=accuracy_score(y_test,rfc_test_pred)\n",
    "rfc_train_accuracy=accuracy_score(y_train,rfc_train_pred)"
   ]
  },
  {
   "cell_type": "code",
   "execution_count": 141,
   "id": "70e923dc",
   "metadata": {},
   "outputs": [
    {
     "name": "stdout",
     "output_type": "stream",
     "text": [
      "\n",
      "ACCURACY SCORE TRAINIG FOR RANDOM FOREST CLASSIFIER  AT RANDOM STATE 191 --91.88\n"
     ]
    }
   ],
   "source": [
    "print(f\"\\nACCURACY SCORE TRAINIG FOR RANDOM FOREST CLASSIFIER  AT RANDOM STATE 191 --{round(rfc_train_accuracy*100,2)}\")"
   ]
  },
  {
   "cell_type": "code",
   "execution_count": 142,
   "id": "4a40ab67",
   "metadata": {},
   "outputs": [
    {
     "name": "stdout",
     "output_type": "stream",
     "text": [
      "\n",
      "ACCURACY SCORE TESTIONG FOR RANDOM FOREST CLASSIFIER  AT RANDOM STATE 191 --78.83\n"
     ]
    }
   ],
   "source": [
    "print(f\"\\nACCURACY SCORE TESTIONG FOR RANDOM FOREST CLASSIFIER  AT RANDOM STATE 191 --{round(rfc_test_accuracy*100,2)}\")"
   ]
  },
  {
   "cell_type": "code",
   "execution_count": 143,
   "id": "b3f9ffc8",
   "metadata": {},
   "outputs": [
    {
     "name": "stdout",
     "output_type": "stream",
     "text": [
      "\n",
      "CROSS VAL SCORE FOR RANDOM FOREST CLASSIFIER AT CV=3---78.8\n"
     ]
    }
   ],
   "source": [
    "print(f\"\\nCROSS VAL SCORE FOR RANDOM FOREST CLASSIFIER AT CV=3---{round(cross_val_score(rfc,x_scaled,y,cv=3).mean()*100,2)}\")"
   ]
  },
  {
   "cell_type": "code",
   "execution_count": 144,
   "id": "3ba8ce3a",
   "metadata": {},
   "outputs": [
    {
     "name": "stdout",
     "output_type": "stream",
     "text": [
      "CLASSIFICATION REPORT FOR RANDOM FOREST CLASSIFIER ---\n",
      "\n",
      "\n",
      "               precision    recall  f1-score   support\n",
      "\n",
      "           0       0.76      0.95      0.84       131\n",
      "           1       0.88      0.56      0.68        91\n",
      "\n",
      "    accuracy                           0.79       222\n",
      "   macro avg       0.82      0.75      0.76       222\n",
      "weighted avg       0.81      0.79      0.78       222\n",
      "\n"
     ]
    }
   ],
   "source": [
    "print(f\"CLASSIFICATION REPORT FOR RANDOM FOREST CLASSIFIER ---\\n\\n\\n {(classification_report(y_test,rfc_test_pred))}\")"
   ]
  },
  {
   "cell_type": "code",
   "execution_count": 145,
   "id": "bf7beeb3",
   "metadata": {},
   "outputs": [
    {
     "name": "stdout",
     "output_type": "stream",
     "text": [
      "CONFUSION MATRIX FOR RANDOM FOREST CLASSIFIER ---\n",
      "\n",
      "\n",
      " [[124   7]\n",
      " [ 40  51]]\n"
     ]
    }
   ],
   "source": [
    "print(f\"CONFUSION MATRIX FOR RANDOM FOREST CLASSIFIER ---\\n\\n\\n {(confusion_matrix(y_test,rfc_test_pred))}\")"
   ]
  },
  {
   "cell_type": "markdown",
   "id": "750e540b",
   "metadata": {},
   "source": [
    "### DECISION TREE"
   ]
  },
  {
   "cell_type": "code",
   "execution_count": 160,
   "id": "7f9d7fb7",
   "metadata": {},
   "outputs": [
    {
     "data": {
      "text/plain": [
       "DecisionTreeClassifier()"
      ]
     },
     "execution_count": 160,
     "metadata": {},
     "output_type": "execute_result"
    }
   ],
   "source": [
    "from sklearn.tree import DecisionTreeClassifier\n",
    "dt=DecisionTreeClassifier()\n",
    "dt.fit(x_train,y_train)"
   ]
  },
  {
   "cell_type": "code",
   "execution_count": 161,
   "id": "11509687",
   "metadata": {},
   "outputs": [],
   "source": [
    "dt_train_pred=dt.predict(x_train)\n",
    "dt_test_pred=dt.predict(x_test)\n",
    "dt_train_pred=dt.predict(x_train)\n",
    "dt_train_accuracy=accuracy_score(y_train,dt_train_pred)\n",
    "dt_test_accuracy=accuracy_score(y_test,dt_test_pred)"
   ]
  },
  {
   "cell_type": "code",
   "execution_count": 162,
   "id": "367e485e",
   "metadata": {},
   "outputs": [
    {
     "name": "stdout",
     "output_type": "stream",
     "text": [
      "\n",
      "ACCURACY SCORE (TRAINING) FOR DECISION TREE CLASSIFIER AT RANDOM STATE 191 --99.25\n"
     ]
    }
   ],
   "source": [
    "print(f\"\\nACCURACY SCORE (TRAINING) FOR DECISION TREE CLASSIFIER AT RANDOM STATE 191 --{round(dt_train_accuracy*100,2)}\")"
   ]
  },
  {
   "cell_type": "code",
   "execution_count": 163,
   "id": "2cbf63a2",
   "metadata": {},
   "outputs": [
    {
     "name": "stdout",
     "output_type": "stream",
     "text": [
      "\n",
      "ACCURACY SCORE(TESTING) FOR DECISION TREE CLASSIFIER AT RANDOM STATE 191 --71.62\n"
     ]
    }
   ],
   "source": [
    "print(f\"\\nACCURACY SCORE(TESTING) FOR DECISION TREE CLASSIFIER AT RANDOM STATE 191 --{round(dt_test_accuracy*100,2)}\")"
   ]
  },
  {
   "cell_type": "code",
   "execution_count": 164,
   "id": "ab29f4f1",
   "metadata": {},
   "outputs": [
    {
     "name": "stdout",
     "output_type": "stream",
     "text": [
      "\n",
      "\n",
      "AT CV = 2\n",
      "\n",
      "\n",
      "CROSS VAL SCORE IS -- 0.7158679559921095\n",
      "\n",
      "\n",
      "ACCURACY SCORE IS -- 0.7162162162162162\n",
      "--------------------***************************************----------------\n",
      "\n",
      "\n",
      "AT CV = 3\n",
      "\n",
      "\n",
      "CROSS VAL SCORE IS -- 0.7384562528630325\n",
      "\n",
      "\n",
      "ACCURACY SCORE IS -- 0.7162162162162162\n",
      "--------------------***************************************----------------\n",
      "\n",
      "\n",
      "AT CV = 4\n",
      "\n",
      "\n",
      "CROSS VAL SCORE IS -- 0.7316762463821288\n",
      "\n",
      "\n",
      "ACCURACY SCORE IS -- 0.7162162162162162\n",
      "--------------------***************************************----------------\n",
      "\n",
      "\n",
      "AT CV = 5\n",
      "\n",
      "\n",
      "CROSS VAL SCORE IS -- 0.7463403796102328\n",
      "\n",
      "\n",
      "ACCURACY SCORE IS -- 0.7162162162162162\n",
      "--------------------***************************************----------------\n",
      "\n",
      "\n",
      "AT CV = 6\n",
      "\n",
      "\n",
      "CROSS VAL SCORE IS -- 0.7441012441012441\n",
      "\n",
      "\n",
      "ACCURACY SCORE IS -- 0.7162162162162162\n",
      "--------------------***************************************----------------\n",
      "\n",
      "\n",
      "AT CV = 7\n",
      "\n",
      "\n",
      "CROSS VAL SCORE IS -- 0.749620583141393\n",
      "\n",
      "\n",
      "ACCURACY SCORE IS -- 0.7162162162162162\n",
      "--------------------***************************************----------------\n",
      "\n",
      "\n",
      "AT CV = 8\n",
      "\n",
      "\n",
      "CROSS VAL SCORE IS -- 0.7406736281736281\n",
      "\n",
      "\n",
      "ACCURACY SCORE IS -- 0.7162162162162162\n",
      "--------------------***************************************----------------\n",
      "\n",
      "\n",
      "AT CV = 9\n",
      "\n",
      "\n",
      "CROSS VAL SCORE IS -- 0.732746970842209\n",
      "\n",
      "\n",
      "ACCURACY SCORE IS -- 0.7162162162162162\n",
      "--------------------***************************************----------------\n"
     ]
    }
   ],
   "source": [
    "for j in range(2,10):\n",
    "    cross_val=cross_val_score(dt,x_scaled,y,cv=j).mean()\n",
    "    print('\\n\\nAT CV =',j)\n",
    "    print('\\n\\nCROSS VAL SCORE IS --',cross_val)\n",
    "    print('\\n\\nACCURACY SCORE IS --',dt_test_accuracy)\n",
    "    print('--------------------***************************************----------------')\n",
    "    "
   ]
  },
  {
   "cell_type": "code",
   "execution_count": 165,
   "id": "0d0acbc2",
   "metadata": {},
   "outputs": [
    {
     "name": "stdout",
     "output_type": "stream",
     "text": [
      "\n",
      "CROSS VAL SCORE FOR DECISION TREE CLASSIFIER AT CV=2---71.25\n"
     ]
    }
   ],
   "source": [
    "print(f\"\\nCROSS VAL SCORE FOR DECISION TREE CLASSIFIER AT CV=2---{round(cross_val_score(dt,x_scaled,y,cv=2).mean()*100,2)}\")"
   ]
  },
  {
   "cell_type": "markdown",
   "id": "b4e3313b",
   "metadata": {},
   "source": [
    "SINCE THERE IS NELGLIGIBLY SMALL DIFFERENCE BETWEEN CROSS VAL SCORE AND ACCURACY_SCORE MODEL IS NOT OVER OR UNDERFITTING\n",
    "\n",
    "HYPER TUNING THE PARAMETERS FOR CHECKING IF WE CAN INCREASE THE ACCURACY AND MAKE IT A BETTER MODEL"
   ]
  },
  {
   "cell_type": "code",
   "execution_count": 166,
   "id": "98fe281e",
   "metadata": {},
   "outputs": [],
   "source": [
    "from sklearn.model_selection import GridSearchCV"
   ]
  },
  {
   "cell_type": "code",
   "execution_count": 167,
   "id": "2a75bfb8",
   "metadata": {},
   "outputs": [],
   "source": [
    "params={\"max_depth\":np.arange(25,30),\n",
    "       \"min_samples_leaf\":np.arange(5,9),\n",
    "       \"min_samples_split\":np.arange(3,5),\n",
    "       \"criterion\":['gini','entropy']}"
   ]
  },
  {
   "cell_type": "code",
   "execution_count": 168,
   "id": "8e6e6e82",
   "metadata": {},
   "outputs": [
    {
     "data": {
      "text/plain": [
       "GridSearchCV(estimator=DecisionTreeClassifier(),\n",
       "             param_grid={'criterion': ['gini', 'entropy'],\n",
       "                         'max_depth': array([25, 26, 27, 28, 29]),\n",
       "                         'min_samples_leaf': array([5, 6, 7, 8]),\n",
       "                         'min_samples_split': array([3, 4])})"
      ]
     },
     "execution_count": 168,
     "metadata": {},
     "output_type": "execute_result"
    }
   ],
   "source": [
    "gs=GridSearchCV(dt,param_grid=params)\n",
    "gs.fit(x_train,y_train)"
   ]
  },
  {
   "cell_type": "code",
   "execution_count": 169,
   "id": "68653ef2",
   "metadata": {},
   "outputs": [
    {
     "data": {
      "text/plain": [
       "{'criterion': 'gini',\n",
       " 'max_depth': 25,\n",
       " 'min_samples_leaf': 5,\n",
       " 'min_samples_split': 4}"
      ]
     },
     "execution_count": 169,
     "metadata": {},
     "output_type": "execute_result"
    }
   ],
   "source": [
    "gs.best_params_"
   ]
  },
  {
   "cell_type": "code",
   "execution_count": 171,
   "id": "5bdd5307",
   "metadata": {},
   "outputs": [],
   "source": [
    "dt=DecisionTreeClassifier(criterion='gini',max_depth=25,min_samples_leaf=5,min_samples_split=4)\n"
   ]
  },
  {
   "cell_type": "code",
   "execution_count": 174,
   "id": "54f31817",
   "metadata": {},
   "outputs": [
    {
     "data": {
      "text/plain": [
       "DecisionTreeClassifier(max_depth=25, min_samples_leaf=5, min_samples_split=4)"
      ]
     },
     "execution_count": 174,
     "metadata": {},
     "output_type": "execute_result"
    }
   ],
   "source": [
    "dt.fit(x_train,y_train)"
   ]
  },
  {
   "cell_type": "code",
   "execution_count": 175,
   "id": "25ba2f29",
   "metadata": {},
   "outputs": [
    {
     "name": "stdout",
     "output_type": "stream",
     "text": [
      "\n",
      "ACCURACY SCORE FOR DECISION TREE CLASSIFIER AT RANDOM STATE 191 --81.53\n"
     ]
    }
   ],
   "source": [
    "dt_test_pred=dt.predict(x_test)\n",
    "dt_test_accuracy=accuracy_score(y_test,dt_test_pred)\n",
    "print(f\"\\nACCURACY SCORE FOR DECISION TREE CLASSIFIER AT RANDOM STATE 191 --{round(dt_test_accuracy*100,2)}\")"
   ]
  },
  {
   "cell_type": "code",
   "execution_count": 176,
   "id": "7061ff8e",
   "metadata": {},
   "outputs": [
    {
     "name": "stdout",
     "output_type": "stream",
     "text": [
      "\n",
      "CROSS VAL SCORE FOR DECISION TREE CLASSIFIER AT CV=2---76.1\n"
     ]
    }
   ],
   "source": [
    "print(f\"\\nCROSS VAL SCORE FOR DECISION TREE CLASSIFIER AT CV=2---{round(cross_val_score(dt,x_scaled,y,cv=2).mean()*100,2)}\")"
   ]
  },
  {
   "cell_type": "code",
   "execution_count": 177,
   "id": "3da9df9f",
   "metadata": {},
   "outputs": [],
   "source": [
    "params={\"max_depth\":np.arange(30,40),\n",
    "       \"min_samples_leaf\":np.arange(4,6),\n",
    "       \"min_samples_split\":np.arange(2,5),\n",
    "       \"criterion\":['gini','entropy']}"
   ]
  },
  {
   "cell_type": "code",
   "execution_count": 178,
   "id": "8447aa57",
   "metadata": {},
   "outputs": [
    {
     "data": {
      "text/plain": [
       "GridSearchCV(estimator=DecisionTreeClassifier(),\n",
       "             param_grid={'criterion': ['gini', 'entropy'],\n",
       "                         'max_depth': array([30, 31, 32, 33, 34, 35, 36, 37, 38, 39]),\n",
       "                         'min_samples_leaf': array([4, 5]),\n",
       "                         'min_samples_split': array([2, 3, 4])})"
      ]
     },
     "execution_count": 178,
     "metadata": {},
     "output_type": "execute_result"
    }
   ],
   "source": [
    "dt=DecisionTreeClassifier()\n",
    "gs=GridSearchCV(dt,param_grid=params)\n",
    "gs.fit(x_train,y_train)"
   ]
  },
  {
   "cell_type": "code",
   "execution_count": 179,
   "id": "d9e78a1a",
   "metadata": {},
   "outputs": [
    {
     "data": {
      "text/plain": [
       "{'criterion': 'gini',\n",
       " 'max_depth': 30,\n",
       " 'min_samples_leaf': 4,\n",
       " 'min_samples_split': 4}"
      ]
     },
     "execution_count": 179,
     "metadata": {},
     "output_type": "execute_result"
    }
   ],
   "source": [
    "gs.best_params_"
   ]
  },
  {
   "cell_type": "code",
   "execution_count": 180,
   "id": "e880b5b7",
   "metadata": {},
   "outputs": [],
   "source": [
    "dt=gs.best_estimator_\n",
    "dt_test_pred=dt.predict(x_test)\n",
    "dt_test_accuracy=accuracy_score(y_test,dt_test_pred)"
   ]
  },
  {
   "cell_type": "code",
   "execution_count": 181,
   "id": "14943acf",
   "metadata": {},
   "outputs": [
    {
     "name": "stdout",
     "output_type": "stream",
     "text": [
      "\n",
      "ACCURACY SCORE FOR DECISION TREE CLASSIFIER AT RANDOM STATE 191 --79.73\n"
     ]
    }
   ],
   "source": [
    "print(f\"\\nACCURACY SCORE FOR DECISION TREE CLASSIFIER AT RANDOM STATE 191 --{round(dt_test_accuracy*100,2)}\")"
   ]
  },
  {
   "cell_type": "code",
   "execution_count": 182,
   "id": "2efabf9a",
   "metadata": {},
   "outputs": [
    {
     "name": "stdout",
     "output_type": "stream",
     "text": [
      "\n",
      "CROSS VAL SCORE FOR DECISION TREE CLASSIFIER AT CV=2---73.28\n"
     ]
    }
   ],
   "source": [
    "print(f\"\\nCROSS VAL SCORE FOR DECISION TREE CLASSIFIER AT CV=2---{round(cross_val_score(dt,x_scaled,y,cv=2).mean()*100,2)}\")"
   ]
  },
  {
   "cell_type": "markdown",
   "id": "7a0fd414",
   "metadata": {},
   "source": [
    "#### CLASSIFICATION REPORT FOR DECISION TREE CLASSIFIER MODEL"
   ]
  },
  {
   "cell_type": "code",
   "execution_count": 183,
   "id": "d521b017",
   "metadata": {},
   "outputs": [
    {
     "name": "stdout",
     "output_type": "stream",
     "text": [
      "CLASSIFICATION REPORT FOR DECISION TREE CLASSIFIER ---\n",
      "\n",
      "\n",
      "               precision    recall  f1-score   support\n",
      "\n",
      "           0       0.77      0.95      0.85       131\n",
      "           1       0.88      0.58      0.70        91\n",
      "\n",
      "    accuracy                           0.80       222\n",
      "   macro avg       0.82      0.76      0.77       222\n",
      "weighted avg       0.81      0.80      0.79       222\n",
      "\n"
     ]
    }
   ],
   "source": [
    "print(f\"CLASSIFICATION REPORT FOR DECISION TREE CLASSIFIER ---\\n\\n\\n {(classification_report(y_test,dt_test_pred))}\")"
   ]
  },
  {
   "cell_type": "markdown",
   "id": "4cae64d9",
   "metadata": {},
   "source": [
    "#### CONFUSION MATRIX FOR DECISION TREE MODEL"
   ]
  },
  {
   "cell_type": "code",
   "execution_count": 184,
   "id": "44a62e7e",
   "metadata": {},
   "outputs": [
    {
     "name": "stdout",
     "output_type": "stream",
     "text": [
      "CONFUSION MATRIX FOR LOGISTIC REGRESSION ---\n",
      "\n",
      "\n",
      " [[124   7]\n",
      " [ 38  53]]\n"
     ]
    }
   ],
   "source": [
    "print(f\"CONFUSION MATRIX FOR LOGISTIC REGRESSION ---\\n\\n\\n {(confusion_matrix(y_test,dt_test_pred))}\")"
   ]
  },
  {
   "cell_type": "code",
   "execution_count": 185,
   "id": "6f7e8b3f",
   "metadata": {},
   "outputs": [
    {
     "name": "stdout",
     "output_type": "stream",
     "text": [
      "\n",
      "ACCURACY SCORE at random state 191 --79.73\n",
      "\n",
      "CROSS VAL SCORE AT CV=2---74.3\n"
     ]
    }
   ],
   "source": [
    "print(f\"\\nACCURACY SCORE at random state 191 --{round(dt_test_accuracy*100,2)}\")\n",
    "print(f\"\\nCROSS VAL SCORE AT CV=2---{round(cross_val_score(dt,x_scaled,y,cv=2).mean()*100,2)}\")"
   ]
  },
  {
   "cell_type": "markdown",
   "id": "80765635",
   "metadata": {},
   "source": [
    "### BAGGING CLASSIFIER"
   ]
  },
  {
   "cell_type": "code",
   "execution_count": 186,
   "id": "bf3b36a0",
   "metadata": {},
   "outputs": [
    {
     "data": {
      "text/plain": [
       "BaggingClassifier()"
      ]
     },
     "execution_count": 186,
     "metadata": {},
     "output_type": "execute_result"
    }
   ],
   "source": [
    "from sklearn.ensemble import BaggingClassifier\n",
    "bc=BaggingClassifier()\n",
    "bc.fit(x_train,y_train)"
   ]
  },
  {
   "cell_type": "code",
   "execution_count": 187,
   "id": "0b9e748d",
   "metadata": {},
   "outputs": [],
   "source": [
    "bc_train_pred=bc.predict(x_train)\n",
    "bc_test_pred=bc.predict(x_test)\n",
    "bc_train_accuracy=accuracy_score(y_train,bc_train_pred)\n",
    "bc_test_accuracy=accuracy_score(y_test,bc_test_pred)"
   ]
  },
  {
   "cell_type": "code",
   "execution_count": 188,
   "id": "151d6ce8",
   "metadata": {},
   "outputs": [
    {
     "name": "stdout",
     "output_type": "stream",
     "text": [
      "\n",
      "ACCURACY SCORE TRAINING FOR BAGGING CLASSIFIER  AT RANDOM STATE 191 --96.84\n"
     ]
    }
   ],
   "source": [
    "print(f\"\\nACCURACY SCORE TRAINING FOR BAGGING CLASSIFIER  AT RANDOM STATE 191 --{round(bc_train_accuracy*100,2)}\")"
   ]
  },
  {
   "cell_type": "code",
   "execution_count": 189,
   "id": "bf7b5315",
   "metadata": {},
   "outputs": [
    {
     "name": "stdout",
     "output_type": "stream",
     "text": [
      "\n",
      "ACCURACY SCORE TESTING FOR BAGGING CLASSIFIER  AT RANDOM STATE 191 --80.18\n"
     ]
    }
   ],
   "source": [
    "print(f\"\\nACCURACY SCORE TESTING FOR BAGGING CLASSIFIER  AT RANDOM STATE 191 --{round(bc_test_accuracy*100,2)}\")"
   ]
  },
  {
   "cell_type": "code",
   "execution_count": 190,
   "id": "4b405073",
   "metadata": {},
   "outputs": [
    {
     "name": "stdout",
     "output_type": "stream",
     "text": [
      "\n",
      "\n",
      "AT CV = 2\n",
      "\n",
      "\n",
      "CROSS VAL SCORE IS -- 0.7666275191670227\n",
      "\n",
      "\n",
      "ACCURACY SCORE IS -- 0.8018018018018018\n",
      "*****************************************\n",
      "\n",
      "\n",
      "AT CV = 3\n",
      "\n",
      "\n",
      "CROSS VAL SCORE IS -- 0.7824133455489387\n",
      "\n",
      "\n",
      "ACCURACY SCORE IS -- 0.8018018018018018\n",
      "*****************************************\n",
      "\n",
      "\n",
      "AT CV = 4\n",
      "\n",
      "\n",
      "CROSS VAL SCORE IS -- 0.7745199951082303\n",
      "\n",
      "\n",
      "ACCURACY SCORE IS -- 0.8018018018018018\n",
      "*****************************************\n",
      "\n",
      "\n",
      "AT CV = 5\n",
      "\n",
      "\n",
      "CROSS VAL SCORE IS -- 0.7790516092172919\n",
      "\n",
      "\n",
      "ACCURACY SCORE IS -- 0.8018018018018018\n",
      "*****************************************\n",
      "\n",
      "\n",
      "AT CV = 6\n",
      "\n",
      "\n",
      "CROSS VAL SCORE IS -- 0.765489979775694\n",
      "\n",
      "\n",
      "ACCURACY SCORE IS -- 0.8018018018018018\n",
      "*****************************************\n",
      "\n",
      "\n",
      "AT CV = 7\n",
      "\n",
      "\n",
      "CROSS VAL SCORE IS -- 0.7778759797882406\n",
      "\n",
      "\n",
      "ACCURACY SCORE IS -- 0.8018018018018018\n",
      "*****************************************\n",
      "\n",
      "\n",
      "AT CV = 8\n",
      "\n",
      "\n",
      "CROSS VAL SCORE IS -- 0.774539312039312\n",
      "\n",
      "\n",
      "ACCURACY SCORE IS -- 0.8018018018018018\n",
      "*****************************************\n",
      "\n",
      "\n",
      "AT CV = 9\n",
      "\n",
      "\n",
      "CROSS VAL SCORE IS -- 0.7722920818158914\n",
      "\n",
      "\n",
      "ACCURACY SCORE IS -- 0.8018018018018018\n",
      "*****************************************\n"
     ]
    }
   ],
   "source": [
    "for j in range(2,10):\n",
    "    cross_val=cross_val_score(bc,x_scaled,y,cv=j).mean()\n",
    "    print('\\n\\nAT CV =',j)\n",
    "    print('\\n\\nCROSS VAL SCORE IS --',cross_val)\n",
    "    print('\\n\\nACCURACY SCORE IS --',bc_test_accuracy)\n",
    "    print('*****************************************')\n",
    "    "
   ]
  },
  {
   "cell_type": "code",
   "execution_count": 191,
   "id": "2cb07d32",
   "metadata": {},
   "outputs": [
    {
     "name": "stdout",
     "output_type": "stream",
     "text": [
      "\n",
      "CROSS VAL SCORE FOR BAGGING CLASSIFIER AT CV=3---77.0\n"
     ]
    }
   ],
   "source": [
    "print(f\"\\nCROSS VAL SCORE FOR BAGGING CLASSIFIER AT CV=3---{round(cross_val_score(bc,x_scaled,y,cv=3).mean()*100,2)}\")"
   ]
  },
  {
   "cell_type": "markdown",
   "id": "e7e4dd78",
   "metadata": {},
   "source": [
    "#### HYPER PARAMETER TUNING *"
   ]
  },
  {
   "cell_type": "code",
   "execution_count": 192,
   "id": "65be4367",
   "metadata": {},
   "outputs": [
    {
     "data": {
      "text/plain": [
       "GridSearchCV(estimator=BaggingClassifier(),\n",
       "             param_grid={'n_estimators': array([50, 51, 52, 53, 54, 55, 56, 57, 58, 59]),\n",
       "                         'oob_score': [True, False],\n",
       "                         'random_state': [200, 220, 275, 300, 375, 350, 325]})"
      ]
     },
     "execution_count": 192,
     "metadata": {},
     "output_type": "execute_result"
    }
   ],
   "source": [
    "par={\"n_estimators\":np.arange(50,60),\n",
    "    \"oob_score\":[True,False],\n",
    "    \"random_state\":[200,220,275,300,375,350,325],\n",
    "    }\n",
    "bcgs=GridSearchCV(bc,param_grid=par)\n",
    "bcgs.fit(x_train,y_train)"
   ]
  },
  {
   "cell_type": "code",
   "execution_count": 193,
   "id": "34e894c6",
   "metadata": {},
   "outputs": [
    {
     "data": {
      "text/plain": [
       "{'n_estimators': 57, 'oob_score': True, 'random_state': 350}"
      ]
     },
     "execution_count": 193,
     "metadata": {},
     "output_type": "execute_result"
    }
   ],
   "source": [
    "bcgs.best_params_"
   ]
  },
  {
   "cell_type": "code",
   "execution_count": 194,
   "id": "c0eb4af1",
   "metadata": {},
   "outputs": [],
   "source": [
    "bc=BaggingClassifier(base_estimator=dt,n_estimators=57,oob_score=True,random_state=350)"
   ]
  },
  {
   "cell_type": "code",
   "execution_count": 195,
   "id": "f76389c1",
   "metadata": {},
   "outputs": [
    {
     "data": {
      "text/plain": [
       "BaggingClassifier(base_estimator=DecisionTreeClassifier(max_depth=30,\n",
       "                                                        min_samples_leaf=4,\n",
       "                                                        min_samples_split=4),\n",
       "                  n_estimators=57, oob_score=True, random_state=350)"
      ]
     },
     "execution_count": 195,
     "metadata": {},
     "output_type": "execute_result"
    }
   ],
   "source": [
    "bc.fit(x_train,y_train)"
   ]
  },
  {
   "cell_type": "code",
   "execution_count": 196,
   "id": "9aa9424e",
   "metadata": {},
   "outputs": [],
   "source": [
    "bc_train_pred=bc.predict(x_train)\n",
    "bc_test_pred=bc.predict(x_test)\n",
    "bc_train_accuracy=accuracy_score(y_train,bc_train_pred)\n",
    "bc_test_accuracy=accuracy_score(y_test,bc_test_pred)"
   ]
  },
  {
   "cell_type": "code",
   "execution_count": 197,
   "id": "02bc1f5b",
   "metadata": {},
   "outputs": [
    {
     "name": "stdout",
     "output_type": "stream",
     "text": [
      "\n",
      "ACCURACY SCORE TRAINING FOR BAGGING CLASSIFIER  AT RANDOM STATE 191 --89.17\n"
     ]
    }
   ],
   "source": [
    "print(f\"\\nACCURACY SCORE TRAINING FOR BAGGING CLASSIFIER  AT RANDOM STATE 191 --{round(bc_train_accuracy*100,2)}\")"
   ]
  },
  {
   "cell_type": "code",
   "execution_count": 198,
   "id": "19e99760",
   "metadata": {},
   "outputs": [
    {
     "name": "stdout",
     "output_type": "stream",
     "text": [
      "\n",
      "ACCURACY SCORE TESTING FOR BAGGING CLASSIFIER  AT RANDOM STATE 191 --81.53\n"
     ]
    }
   ],
   "source": [
    "print(f\"\\nACCURACY SCORE TESTING FOR BAGGING CLASSIFIER  AT RANDOM STATE 191 --{round(bc_test_accuracy*100,2)}\")"
   ]
  },
  {
   "cell_type": "code",
   "execution_count": 199,
   "id": "1b3c5f79",
   "metadata": {},
   "outputs": [
    {
     "name": "stdout",
     "output_type": "stream",
     "text": [
      "\n",
      "CROSS VAL SCORE FOR BAGGING CLASSIFIER AT CV=3---78.69\n"
     ]
    }
   ],
   "source": [
    "print(f\"\\nCROSS VAL SCORE FOR BAGGING CLASSIFIER AT CV=3---{round(cross_val_score(bc,x_scaled,y,cv=3).mean()*100,2)}\")"
   ]
  },
  {
   "cell_type": "code",
   "execution_count": 200,
   "id": "77216eb8",
   "metadata": {},
   "outputs": [],
   "source": [
    "bc=BaggingClassifier(base_estimator=dt,n_estimators=57,oob_score=True,random_state=350)"
   ]
  },
  {
   "cell_type": "code",
   "execution_count": 201,
   "id": "b9d5c8fa",
   "metadata": {},
   "outputs": [
    {
     "data": {
      "text/plain": [
       "BaggingClassifier(base_estimator=DecisionTreeClassifier(max_depth=30,\n",
       "                                                        min_samples_leaf=4,\n",
       "                                                        min_samples_split=4),\n",
       "                  n_estimators=57, oob_score=True, random_state=350)"
      ]
     },
     "execution_count": 201,
     "metadata": {},
     "output_type": "execute_result"
    }
   ],
   "source": [
    "bc.fit(x_train,y_train)"
   ]
  },
  {
   "cell_type": "code",
   "execution_count": 203,
   "id": "2ac3696b",
   "metadata": {},
   "outputs": [],
   "source": [
    "bc_train_pred=bc.predict(x_train)\n",
    "bc_test_pred=bc.predict(x_test)\n",
    "bc_train_accuracy=accuracy_score(y_train,bc_train_pred)\n",
    "bc_test_accuracy=accuracy_score(y_test,bc_test_pred)"
   ]
  },
  {
   "cell_type": "code",
   "execution_count": 204,
   "id": "9fe1d982",
   "metadata": {},
   "outputs": [
    {
     "name": "stdout",
     "output_type": "stream",
     "text": [
      "\n",
      "ACCURACY SCORE TRAINING FOR BAGGING CLASSIFIER  AT RANDOM STATE 191 --89.17\n",
      "\n",
      "ACCURACY SCORE TESTING FOR BAGGING CLASSIFIER  AT RANDOM STATE 191 --81.53\n",
      "\n",
      "CROSS VAL SCORE FOR BAGGING CLASSIFIER AT CV=3---78.69\n"
     ]
    }
   ],
   "source": [
    "print(f\"\\nACCURACY SCORE TRAINING FOR BAGGING CLASSIFIER  AT RANDOM STATE 191 --{round(bc_train_accuracy*100,2)}\")\n",
    "print(f\"\\nACCURACY SCORE TESTING FOR BAGGING CLASSIFIER  AT RANDOM STATE 191 --{round(bc_test_accuracy*100,2)}\")\n",
    "print(f\"\\nCROSS VAL SCORE FOR BAGGING CLASSIFIER AT CV=3---{round(cross_val_score(bc,x_scaled,y,cv=3).mean()*100,2)}\")"
   ]
  },
  {
   "cell_type": "code",
   "execution_count": 205,
   "id": "3a4b089b",
   "metadata": {},
   "outputs": [
    {
     "name": "stdout",
     "output_type": "stream",
     "text": [
      "CLASSIFICATION REPORT FOR BAGGINGG CLASSIFIER ---\n",
      "\n",
      "\n",
      "               precision    recall  f1-score   support\n",
      "\n",
      "           0       0.78      0.95      0.86       131\n",
      "           1       0.90      0.62      0.73        91\n",
      "\n",
      "    accuracy                           0.82       222\n",
      "   macro avg       0.84      0.78      0.80       222\n",
      "weighted avg       0.83      0.82      0.81       222\n",
      "\n"
     ]
    }
   ],
   "source": [
    "print(f\"CLASSIFICATION REPORT FOR BAGGINGG CLASSIFIER ---\\n\\n\\n {(classification_report(y_test,bc_test_pred))}\")"
   ]
  },
  {
   "cell_type": "code",
   "execution_count": 206,
   "id": "93bc1515",
   "metadata": {},
   "outputs": [
    {
     "name": "stdout",
     "output_type": "stream",
     "text": [
      "CONFUSION MATRIX FOR BAGGING CLASSIFIER ---\n",
      "\n",
      "\n",
      " [[125   6]\n",
      " [ 35  56]]\n"
     ]
    }
   ],
   "source": [
    "print(f\"CONFUSION MATRIX FOR BAGGING CLASSIFIER ---\\n\\n\\n {(confusion_matrix(y_test,bc_test_pred))}\")"
   ]
  },
  {
   "cell_type": "markdown",
   "id": "d2f2f818",
   "metadata": {},
   "source": [
    "### ------------KNN- CLassifier---------"
   ]
  },
  {
   "cell_type": "code",
   "execution_count": 207,
   "id": "9eb7e754",
   "metadata": {},
   "outputs": [
    {
     "data": {
      "text/plain": [
       "KNeighborsClassifier()"
      ]
     },
     "execution_count": 207,
     "metadata": {},
     "output_type": "execute_result"
    }
   ],
   "source": [
    "from sklearn.neighbors import KNeighborsClassifier\n",
    "knn=KNeighborsClassifier()\n",
    "knn.fit(x_train,y_train)"
   ]
  },
  {
   "cell_type": "code",
   "execution_count": 208,
   "id": "d60d0ea4",
   "metadata": {},
   "outputs": [],
   "source": [
    "knn_train_pred=knn.predict(x_train)\n",
    "knn_test_pred=knn.predict(x_test)\n",
    "knn_train_accuracy=accuracy_score(y_train,knn_train_pred)\n",
    "knn_test_accuracy=accuracy_score(y_test,knn_test_pred)"
   ]
  },
  {
   "cell_type": "code",
   "execution_count": 210,
   "id": "f4bc4ea9",
   "metadata": {},
   "outputs": [
    {
     "name": "stdout",
     "output_type": "stream",
     "text": [
      "\n",
      "ACCURACY SCORE TRAINING FOR KNN   AT RANDOM STATE 191 --82.71\n"
     ]
    }
   ],
   "source": [
    "print(f\"\\nACCURACY SCORE TRAINING FOR KNN   AT RANDOM STATE 191 --{round(knn_train_accuracy*100,2)}\")"
   ]
  },
  {
   "cell_type": "code",
   "execution_count": 211,
   "id": "959923b3",
   "metadata": {},
   "outputs": [
    {
     "name": "stdout",
     "output_type": "stream",
     "text": [
      "\n",
      "ACCURACY SCORE TESTING FOR KNN  AT RANDOM STATE 191 --77.93\n"
     ]
    }
   ],
   "source": [
    "print(f\"\\nACCURACY SCORE TESTING FOR KNN  AT RANDOM STATE 191 --{round(knn_test_accuracy*100,2)}\")"
   ]
  },
  {
   "cell_type": "code",
   "execution_count": 212,
   "id": "c2fcb717",
   "metadata": {},
   "outputs": [
    {
     "name": "stdout",
     "output_type": "stream",
     "text": [
      "\n",
      "CROSS VAL SCORE FOR KNN AT CV=3---78.24\n"
     ]
    }
   ],
   "source": [
    "print(f\"\\nCROSS VAL SCORE FOR KNN AT CV=3---{round(cross_val_score(knn,x_scaled,y,cv=3).mean()*100,2)}\")"
   ]
  },
  {
   "cell_type": "markdown",
   "id": "c1d7a5d1",
   "metadata": {},
   "source": [
    "### HYPER PARAMETER TUNING--"
   ]
  },
  {
   "cell_type": "code",
   "execution_count": 213,
   "id": "1db66d34",
   "metadata": {},
   "outputs": [
    {
     "data": {
      "text/plain": [
       "dict_keys(['algorithm', 'leaf_size', 'metric', 'metric_params', 'n_jobs', 'n_neighbors', 'p', 'weights'])"
      ]
     },
     "execution_count": 213,
     "metadata": {},
     "output_type": "execute_result"
    }
   ],
   "source": [
    "knn.get_params().keys()"
   ]
  },
  {
   "cell_type": "code",
   "execution_count": 214,
   "id": "fb2adf79",
   "metadata": {},
   "outputs": [],
   "source": [
    "knn=KNeighborsClassifier()"
   ]
  },
  {
   "cell_type": "code",
   "execution_count": 215,
   "id": "199d744c",
   "metadata": {},
   "outputs": [],
   "source": [
    "pop={\"algorithm\":['auto', 'ball_tree', 'kd_tree', 'brute'],\n",
    "    'n_neighbors':np.arange(3,6),\n",
    "    'leaf_size':[25,28,30,32,35,38]}"
   ]
  },
  {
   "cell_type": "code",
   "execution_count": 216,
   "id": "6b5facb7",
   "metadata": {},
   "outputs": [],
   "source": [
    "kgsc=GridSearchCV(knn,param_grid=pop)"
   ]
  },
  {
   "cell_type": "code",
   "execution_count": 217,
   "id": "ef6a0a55",
   "metadata": {},
   "outputs": [
    {
     "data": {
      "text/plain": [
       "GridSearchCV(estimator=KNeighborsClassifier(),\n",
       "             param_grid={'algorithm': ['auto', 'ball_tree', 'kd_tree', 'brute'],\n",
       "                         'leaf_size': [25, 28, 30, 32, 35, 38],\n",
       "                         'n_neighbors': array([3, 4, 5])})"
      ]
     },
     "execution_count": 217,
     "metadata": {},
     "output_type": "execute_result"
    }
   ],
   "source": [
    "kgsc.fit(x_train,y_train)"
   ]
  },
  {
   "cell_type": "code",
   "execution_count": 218,
   "id": "bfef176d",
   "metadata": {},
   "outputs": [
    {
     "data": {
      "text/plain": [
       "{'algorithm': 'auto', 'leaf_size': 25, 'n_neighbors': 5}"
      ]
     },
     "execution_count": 218,
     "metadata": {},
     "output_type": "execute_result"
    }
   ],
   "source": [
    "kgsc.best_params_"
   ]
  },
  {
   "cell_type": "code",
   "execution_count": 219,
   "id": "48d0d69f",
   "metadata": {},
   "outputs": [],
   "source": [
    "knn=KNeighborsClassifier(algorithm='auto',leaf_size=25,n_neighbors=5)"
   ]
  },
  {
   "cell_type": "code",
   "execution_count": 220,
   "id": "303e7987",
   "metadata": {},
   "outputs": [
    {
     "data": {
      "text/plain": [
       "KNeighborsClassifier(leaf_size=25)"
      ]
     },
     "execution_count": 220,
     "metadata": {},
     "output_type": "execute_result"
    }
   ],
   "source": [
    "knn.fit(x_train,y_train)"
   ]
  },
  {
   "cell_type": "code",
   "execution_count": 221,
   "id": "f486990d",
   "metadata": {},
   "outputs": [],
   "source": [
    "knn_train_pred=knn.predict(x_train)\n",
    "knn_test_pred=knn.predict(x_test)\n",
    "knn_train_accuracy=accuracy_score(y_train,knn_train_pred)\n",
    "knn_test_accuracy=accuracy_score(y_test,knn_test_pred)\n"
   ]
  },
  {
   "cell_type": "code",
   "execution_count": 224,
   "id": "615668ee",
   "metadata": {},
   "outputs": [
    {
     "name": "stdout",
     "output_type": "stream",
     "text": [
      "\n",
      "ACCURACY SCORE TRAINING FOR KNN   AT RANDOM STATE 191 --82.71\n",
      "\n",
      "ACCURACY SCORE TESTING FOR KNN  AT RANDOM STATE 191 --77.93\n",
      "\n",
      "CROSS VAL SCORE FOR KNN AT CV=3---78.24\n"
     ]
    }
   ],
   "source": [
    "print(f\"\\nACCURACY SCORE TRAINING FOR KNN   AT RANDOM STATE 191 --{round(knn_train_accuracy*100,2)}\")\n",
    "print(f\"\\nACCURACY SCORE TESTING FOR KNN  AT RANDOM STATE 191 --{round(knn_test_accuracy*100,2)}\")\n",
    "print(f\"\\nCROSS VAL SCORE FOR KNN AT CV=3---{round(cross_val_score(knn,x_scaled,y,cv=3).mean()*100,2)}\")"
   ]
  },
  {
   "cell_type": "markdown",
   "id": "8c85c84a",
   "metadata": {},
   "source": [
    "##TUNING  AGAIN"
   ]
  },
  {
   "cell_type": "code",
   "execution_count": 226,
   "id": "e9b47363",
   "metadata": {},
   "outputs": [],
   "source": [
    "knn=KNeighborsClassifier()\n",
    "pars={\"algorithm\":['auto', 'ball_tree', 'kd_tree', 'brute'],\n",
    "    'n_neighbors':np.arange(2,5),\n",
    "    'leaf_size':[25,28,30,32,35,38,40,45,50,36,38]}"
   ]
  },
  {
   "cell_type": "code",
   "execution_count": 227,
   "id": "d9768d57",
   "metadata": {},
   "outputs": [
    {
     "data": {
      "text/plain": [
       "GridSearchCV(estimator=KNeighborsClassifier(),\n",
       "             param_grid={'algorithm': ['auto', 'ball_tree', 'kd_tree', 'brute'],\n",
       "                         'leaf_size': [25, 28, 30, 32, 35, 38, 40, 45, 50, 36,\n",
       "                                       38],\n",
       "                         'n_neighbors': array([2, 3, 4])})"
      ]
     },
     "execution_count": 227,
     "metadata": {},
     "output_type": "execute_result"
    }
   ],
   "source": [
    "kgsc=GridSearchCV(knn,param_grid=pars)\n",
    "kgsc.fit(x_train,y_train)"
   ]
  },
  {
   "cell_type": "code",
   "execution_count": 228,
   "id": "28647181",
   "metadata": {},
   "outputs": [
    {
     "data": {
      "text/plain": [
       "{'algorithm': 'auto', 'leaf_size': 25, 'n_neighbors': 4}"
      ]
     },
     "execution_count": 228,
     "metadata": {},
     "output_type": "execute_result"
    }
   ],
   "source": [
    "kgsc.best_params_"
   ]
  },
  {
   "cell_type": "code",
   "execution_count": 229,
   "id": "2125c094",
   "metadata": {},
   "outputs": [
    {
     "data": {
      "text/plain": [
       "KNeighborsClassifier(leaf_size=25, n_neighbors=4)"
      ]
     },
     "execution_count": 229,
     "metadata": {},
     "output_type": "execute_result"
    }
   ],
   "source": [
    "knn=KNeighborsClassifier(algorithm='auto',leaf_size=25,n_neighbors=4)\n",
    "knn.fit(x_train,y_train)"
   ]
  },
  {
   "cell_type": "code",
   "execution_count": 230,
   "id": "f601f67e",
   "metadata": {},
   "outputs": [],
   "source": [
    "knn_train_pred=knn.predict(x_train)\n",
    "knn_test_pred=knn.predict(x_test)\n",
    "knn_train_accuracy=accuracy_score(y_train,knn_train_pred)\n",
    "knn_test_accuracy=accuracy_score(y_test,knn_test_pred)"
   ]
  },
  {
   "cell_type": "code",
   "execution_count": 232,
   "id": "97630c2e",
   "metadata": {},
   "outputs": [
    {
     "name": "stdout",
     "output_type": "stream",
     "text": [
      "\n",
      "ACCURACY SCORE TRAINING FOR KNN   AT RANDOM STATE 191 --83.61\n",
      "\n",
      "ACCURACY SCORE TESTING FOR KNN  AT RANDOM STATE 191 --77.03\n",
      "\n",
      "CROSS VAL SCORE FOR KNN AT CV=3---78.24\n"
     ]
    }
   ],
   "source": [
    "print(f\"\\nACCURACY SCORE TRAINING FOR KNN   AT RANDOM STATE 191 --{round(knn_train_accuracy*100,2)}\")\n",
    "print(f\"\\nACCURACY SCORE TESTING FOR KNN  AT RANDOM STATE 191 --{round(knn_test_accuracy*100,2)}\")\n",
    "print(f\"\\nCROSS VAL SCORE FOR KNN AT CV=3---{round(cross_val_score(knn,x_scaled,y,cv=3).mean()*100,2)}\")"
   ]
  },
  {
   "cell_type": "code",
   "execution_count": 233,
   "id": "ff355e62",
   "metadata": {},
   "outputs": [
    {
     "name": "stdout",
     "output_type": "stream",
     "text": [
      "CLASSIFICATION REPORT FOR KNN CLASSIFIER---\n",
      "\n",
      "\n",
      "               precision    recall  f1-score   support\n",
      "\n",
      "           0       0.74      0.95      0.83       131\n",
      "           1       0.88      0.51      0.64        91\n",
      "\n",
      "    accuracy                           0.77       222\n",
      "   macro avg       0.81      0.73      0.74       222\n",
      "weighted avg       0.80      0.77      0.75       222\n",
      "\n"
     ]
    }
   ],
   "source": [
    "print(f\"CLASSIFICATION REPORT FOR KNN CLASSIFIER---\\n\\n\\n {(classification_report(y_test,knn_test_pred))}\")"
   ]
  },
  {
   "cell_type": "code",
   "execution_count": 234,
   "id": "476da677",
   "metadata": {},
   "outputs": [
    {
     "name": "stdout",
     "output_type": "stream",
     "text": [
      "CONFUSION MATRIX FOR BAGGING CLASSIFIER ---\n",
      "\n",
      "\n",
      " [[125   6]\n",
      " [ 45  46]]\n"
     ]
    }
   ],
   "source": [
    "print(f\"CONFUSION MATRIX FOR BAGGING CLASSIFIER ---\\n\\n\\n {(confusion_matrix(y_test,knn_test_pred))}\")"
   ]
  },
  {
   "cell_type": "markdown",
   "id": "a6c760a0",
   "metadata": {},
   "source": [
    "### ADABOOST CLASSIFIER-"
   ]
  },
  {
   "cell_type": "code",
   "execution_count": 235,
   "id": "22d4beb9",
   "metadata": {},
   "outputs": [
    {
     "data": {
      "text/plain": [
       "AdaBoostClassifier()"
      ]
     },
     "execution_count": 235,
     "metadata": {},
     "output_type": "execute_result"
    }
   ],
   "source": [
    "from sklearn.ensemble import AdaBoostClassifier\n",
    "adc=AdaBoostClassifier()\n",
    "adc.fit(x_train,y_train)"
   ]
  },
  {
   "cell_type": "code",
   "execution_count": 236,
   "id": "a1033f2d",
   "metadata": {},
   "outputs": [
    {
     "name": "stdout",
     "output_type": "stream",
     "text": [
      "\n",
      "ACCURACY SCORE TRAINING FOR ADC   AT RANDOM STATE 191 --82.11\n",
      "\n",
      "ACCURACY SCORE TESTING FOR ADC AT RANDOM STATE 191 --80.18\n",
      "\n",
      "CROSS VAL SCORE FOR ADC AT CV=3---77.68\n"
     ]
    }
   ],
   "source": [
    "adc_train_pred=adc.predict(x_train)\n",
    "adc_test_pred=adc.predict(x_test)\n",
    "adc_train_accuracy=accuracy_score(y_train,adc_train_pred)\n",
    "adc_test_accuracy=accuracy_score(y_test,adc_test_pred)\n",
    "print(f\"\\nACCURACY SCORE TRAINING FOR ADC   AT RANDOM STATE 191 --{round(adc_train_accuracy*100,2)}\")\n",
    "print(f\"\\nACCURACY SCORE TESTING FOR ADC AT RANDOM STATE 191 --{round(adc_test_accuracy*100,2)}\")\n",
    "print(f\"\\nCROSS VAL SCORE FOR ADC AT CV=3---{round(cross_val_score(adc,x_scaled,y,cv=3).mean()*100,2)}\")"
   ]
  },
  {
   "cell_type": "code",
   "execution_count": 237,
   "id": "531264ce",
   "metadata": {},
   "outputs": [
    {
     "data": {
      "text/plain": [
       "dict_keys(['algorithm', 'base_estimator', 'learning_rate', 'n_estimators', 'random_state'])"
      ]
     },
     "execution_count": 237,
     "metadata": {},
     "output_type": "execute_result"
    }
   ],
   "source": [
    "adc.get_params().keys()"
   ]
  },
  {
   "cell_type": "code",
   "execution_count": 238,
   "id": "c35b4382",
   "metadata": {},
   "outputs": [
    {
     "data": {
      "text/plain": [
       "GridSearchCV(estimator=AdaBoostClassifier(),\n",
       "             param_grid={'algorithm': ['SAMME', 'SAMME.R'],\n",
       "                         'n_estimators': array([60, 61, 62, 63, 64, 65, 66, 67, 68, 69]),\n",
       "                         'random_state': [121, 234, 345, 389, 567]})"
      ]
     },
     "execution_count": 238,
     "metadata": {},
     "output_type": "execute_result"
    }
   ],
   "source": [
    "param={\"algorithm\":['SAMME', 'SAMME.R'],\n",
    "      'n_estimators':np.arange(60,70),\n",
    "      'random_state':[121,234,345,389,567]}\n",
    "adgs=GridSearchCV(adc,param_grid=param)\n",
    "adgs.fit(x_train,y_train)"
   ]
  },
  {
   "cell_type": "code",
   "execution_count": 239,
   "id": "666b4485",
   "metadata": {},
   "outputs": [
    {
     "data": {
      "text/plain": [
       "{'algorithm': 'SAMME', 'n_estimators': 60, 'random_state': 121}"
      ]
     },
     "execution_count": 239,
     "metadata": {},
     "output_type": "execute_result"
    }
   ],
   "source": [
    "adgs.best_params_"
   ]
  },
  {
   "cell_type": "code",
   "execution_count": 240,
   "id": "010a32c1",
   "metadata": {},
   "outputs": [],
   "source": [
    "adc=AdaBoostClassifier(algorithm='SAMME',\n",
    "                      n_estimators=60,\n",
    "                       random_state=121)"
   ]
  },
  {
   "cell_type": "code",
   "execution_count": 241,
   "id": "e4f4e6b1",
   "metadata": {},
   "outputs": [
    {
     "data": {
      "text/plain": [
       "AdaBoostClassifier(algorithm='SAMME', n_estimators=60, random_state=121)"
      ]
     },
     "execution_count": 241,
     "metadata": {},
     "output_type": "execute_result"
    }
   ],
   "source": [
    "adc.fit(x_train,y_train)"
   ]
  },
  {
   "cell_type": "code",
   "execution_count": 242,
   "id": "0dd06e01",
   "metadata": {},
   "outputs": [
    {
     "name": "stdout",
     "output_type": "stream",
     "text": [
      "\n",
      "ACCURACY SCORE TRAINING FOR ADC   AT RANDOM STATE 191 --79.25\n",
      "\n",
      "ACCURACY SCORE TESTING FOR ADC AT RANDOM STATE 191 --79.28\n",
      "\n",
      "CROSS VAL SCORE FOR ADC AT CV=3---76.55\n"
     ]
    }
   ],
   "source": [
    "adc_train_pred=adc.predict(x_train)\n",
    "adc_test_pred=adc.predict(x_test)\n",
    "adc_train_accuracy=accuracy_score(y_train,adc_train_pred)\n",
    "adc_test_accuracy=accuracy_score(y_test,adc_test_pred)\n",
    "print(f\"\\nACCURACY SCORE TRAINING FOR ADC   AT RANDOM STATE 191 --{round(adc_train_accuracy*100,2)}\")\n",
    "print(f\"\\nACCURACY SCORE TESTING FOR ADC AT RANDOM STATE 191 --{round(adc_test_accuracy*100,2)}\")\n",
    "print(f\"\\nCROSS VAL SCORE FOR ADC AT CV=3---{round(cross_val_score(adc,x_scaled,y,cv=3).mean()*100,2)}\")"
   ]
  },
  {
   "cell_type": "code",
   "execution_count": 243,
   "id": "511d4f11",
   "metadata": {},
   "outputs": [
    {
     "name": "stdout",
     "output_type": "stream",
     "text": [
      "CLASSIFICATION REPORT FOR ADC CLASSIFIER---\n",
      "\n",
      "\n",
      "               precision    recall  f1-score   support\n",
      "\n",
      "           0       0.80      0.87      0.83       131\n",
      "           1       0.78      0.68      0.73        91\n",
      "\n",
      "    accuracy                           0.79       222\n",
      "   macro avg       0.79      0.78      0.78       222\n",
      "weighted avg       0.79      0.79      0.79       222\n",
      "\n"
     ]
    }
   ],
   "source": [
    "print(f\"CLASSIFICATION REPORT FOR ADC CLASSIFIER---\\n\\n\\n {(classification_report(y_test,adc_test_pred))}\")"
   ]
  },
  {
   "cell_type": "code",
   "execution_count": 244,
   "id": "d5a17852",
   "metadata": {},
   "outputs": [
    {
     "name": "stdout",
     "output_type": "stream",
     "text": [
      "CONFUSION MATRIX FOR ADC CLASSIFIER ---\n",
      "\n",
      "\n",
      " [[114  17]\n",
      " [ 29  62]]\n"
     ]
    }
   ],
   "source": [
    "print(f\"CONFUSION MATRIX FOR ADC CLASSIFIER ---\\n\\n\\n {(confusion_matrix(y_test,adc_test_pred))}\")"
   ]
  },
  {
   "cell_type": "code",
   "execution_count": 245,
   "id": "f66d5b3d",
   "metadata": {},
   "outputs": [
    {
     "data": {
      "text/plain": [
       "SVC()"
      ]
     },
     "execution_count": 245,
     "metadata": {},
     "output_type": "execute_result"
    }
   ],
   "source": [
    "from sklearn.svm import SVC\n",
    "svc=SVC()\n",
    "svc.fit(x_train,y_train)"
   ]
  },
  {
   "cell_type": "code",
   "execution_count": 246,
   "id": "41eba7de",
   "metadata": {},
   "outputs": [
    {
     "name": "stdout",
     "output_type": "stream",
     "text": [
      "\n",
      "ACCURACY SCORE TRAINING FOR SVM   AT RANDOM STATE 191 --81.95\n",
      "\n",
      "ACCURACY SCORE TESTING FOR SVM AT RANDOM STATE 191 --80.18\n",
      "\n",
      "CROSS VAL SCORE FOR SVM AT CV=3---80.72\n"
     ]
    }
   ],
   "source": [
    "svc_train_pred=svc.predict(x_train)\n",
    "svc_test_pred=svc.predict(x_test)\n",
    "svc_train_accuracy=accuracy_score(y_train,svc_train_pred)\n",
    "svc_test_accuracy=accuracy_score(y_test,svc_test_pred)\n",
    "print(f\"\\nACCURACY SCORE TRAINING FOR SVM   AT RANDOM STATE 191 --{round(svc_train_accuracy*100,2)}\")\n",
    "print(f\"\\nACCURACY SCORE TESTING FOR SVM AT RANDOM STATE 191 --{round(svc_test_accuracy*100,2)}\")\n",
    "print(f\"\\nCROSS VAL SCORE FOR SVM AT CV=3---{round(cross_val_score(svc,x_scaled,y,cv=3).mean()*100,2)}\")"
   ]
  },
  {
   "cell_type": "code",
   "execution_count": 247,
   "id": "1d6f9b44",
   "metadata": {},
   "outputs": [
    {
     "name": "stdout",
     "output_type": "stream",
     "text": [
      "CLASSIFICATION REPORT FOR SVC CLASSIFIER---\n",
      "\n",
      "\n",
      "               precision    recall  f1-score   support\n",
      "\n",
      "           0       0.76      0.98      0.85       131\n",
      "           1       0.94      0.55      0.69        91\n",
      "\n",
      "    accuracy                           0.80       222\n",
      "   macro avg       0.85      0.76      0.77       222\n",
      "weighted avg       0.83      0.80      0.79       222\n",
      "\n"
     ]
    }
   ],
   "source": [
    "print(f\"CLASSIFICATION REPORT FOR SVC CLASSIFIER---\\n\\n\\n {(classification_report(y_test,svc_test_pred))}\")"
   ]
  },
  {
   "cell_type": "code",
   "execution_count": 248,
   "id": "143c36ca",
   "metadata": {},
   "outputs": [
    {
     "name": "stdout",
     "output_type": "stream",
     "text": [
      "CONFUSION MATRIX FOR SVC CLASSIFIER ---\n",
      "\n",
      "\n",
      " [[128   3]\n",
      " [ 41  50]]\n"
     ]
    }
   ],
   "source": [
    "print(f\"CONFUSION MATRIX FOR SVC CLASSIFIER ---\\n\\n\\n {(confusion_matrix(y_test,svc_test_pred))}\")"
   ]
  },
  {
   "cell_type": "code",
   "execution_count": null,
   "id": "1d64f4cc",
   "metadata": {},
   "outputs": [],
   "source": []
  },
  {
   "cell_type": "code",
   "execution_count": null,
   "id": "d796d697",
   "metadata": {},
   "outputs": [],
   "source": [
    "PLOTTING ROC CURVES FOR BOTH TESTING AND TRAINIG"
   ]
  },
  {
   "cell_type": "code",
   "execution_count": 249,
   "id": "25114bd3",
   "metadata": {},
   "outputs": [],
   "source": [
    "from sklearn.metrics import plot_roc_curve"
   ]
  },
  {
   "cell_type": "markdown",
   "id": "ffee1b21",
   "metadata": {},
   "source": [
    "#### ROC curve for training data"
   ]
  },
  {
   "cell_type": "code",
   "execution_count": 250,
   "id": "ceea34df",
   "metadata": {},
   "outputs": [
    {
     "data": {
      "image/png": "[encoded data removed]",
      "text/plain": [
       "<Figure size 432x288 with 1 Axes>"
      ]
     },
     "metadata": {
      "needs_background": "light"
     },
     "output_type": "display_data"
    }
   ],
   "source": [
    "disp=plot_roc_curve(lr,x_train,y_train)\n",
    "plot_roc_curve(dt,x_train,y_train,ax=disp.ax_)\n",
    "plot_roc_curve(knn,x_train,y_train,ax=disp.ax_)\n",
    "plot_roc_curve(svc,x_train,y_train,ax=disp.ax_)\n",
    "plot_roc_curve(rfc,x_train,y_train,ax=disp.ax_)\n",
    "plot_roc_curve(adc,x_train,y_train,ax=disp.ax_)\n",
    "plot_roc_curve(bc,x_train,y_train,ax=disp.ax_)\n",
    "\n",
    "plt.legend(prop={'size':11},loc='lower right')\n",
    "plt.show()"
   ]
  },
  {
   "cell_type": "markdown",
   "id": "a5e8131e",
   "metadata": {},
   "source": [
    "#### ROC curve for testing Data"
   ]
  },
  {
   "cell_type": "code",
   "execution_count": 251,
   "id": "e1840b8c",
   "metadata": {},
   "outputs": [
    {
     "data": {
      "image/png": "[encoded data removed]",
      "text/plain": [
       "<Figure size 432x288 with 1 Axes>"
      ]
     },
     "metadata": {
      "needs_background": "light"
     },
     "output_type": "display_data"
    }
   ],
   "source": [
    "disp=plot_roc_curve(lr,x_test,y_test)\n",
    "plot_roc_curve(dt,x_test,y_test,ax=disp.ax_)\n",
    "plot_roc_curve(knn,x_test,y_test,ax=disp.ax_)\n",
    "plot_roc_curve(svc,x_test,y_test,ax=disp.ax_)\n",
    "plot_roc_curve(rfc,x_test,y_test,ax=disp.ax_)\n",
    "plot_roc_curve(adc,x_train,y_train,ax=disp.ax_)\n",
    "plot_roc_curve(bc,x_train,y_train,ax=disp.ax_)\n",
    "plt.legend(prop={'size':11},loc='lower right')\n",
    "plt.show()"
   ]
  },
  {
   "cell_type": "markdown",
   "id": "6000398f",
   "metadata": {},
   "source": [
    "SINCE BAGGING CLASSIFIER HAVE HIGH VALUES FOR ACCURACIES FOR BOTH TRAINING AND TESTING AND THERE IS A VERY LESS DIFFERENCE BETWEEN CROSS VAL SCORE ,ACCURAY SCORE FOR TRAINING AND TESTING SCORE FOR TESTING WE WILL PROCEED WITH THIS MODEL"
   ]
  },
  {
   "cell_type": "code",
   "execution_count": null,
   "id": "1dc64675",
   "metadata": {},
   "outputs": [],
   "source": []
  }
 ],
 "metadata": {
  "kernelspec": {
   "display_name": "Python 3 (ipykernel)",
   "language": "python",
   "name": "python3"
  },
  "language_info": {
   "codemirror_mode": {
    "name": "ipython",
    "version": 3
   },
   "file_extension": ".py",
   "mimetype": "text/x-python",
   "name": "python",
   "nbconvert_exporter": "python",
   "pygments_lexer": "ipython3",
   "version": "3.9.12"
  }
 },
 "nbformat": 4,
 "nbformat_minor": 5
}
