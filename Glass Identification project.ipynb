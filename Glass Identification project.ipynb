{
 "cells": [
  {
   "cell_type": "markdown",
   "id": "32a37e72",
   "metadata": {},
   "source": [
    "#### Problem Statement:\n",
    "##### The dataset describes the chemical properties of glass and involves classifying samples of glass using their chemical properties as one of six classes. The dataset was credited to Vina Spiehler in 1987. The study of classification of types of glass was motivated by criminological investigation. At the scene of the crime, the glass left can be used as evidence...if it is correctly identified!\n",
    "\n",
    "##### The chemical compositions are measured as the weight percent in corresponding oxide.\n",
    "\n",
    "#### Attribute Information-\n",
    "\n",
    "1) Id number: 1 to 214\n",
    "2) RI: refractive index\n",
    "3) Na: Sodium (unit measurement: weight percent in corresponding oxide, as are attributes 4-10)\n",
    "4) Mg: Magnesium \n",
    "5) Al: Aluminum \n",
    "6) Si: Silicon\n",
    "7) K: Potassium \n",
    "8) Ca: Calcium \n",
    "9) Ba: Barium \n",
    "10) Fe: Iron \n",
    "11) Type of glass: \n",
    " ##### (class attribute) \n",
    "1- building_windows_float_processed \n",
    "2- building_windows_non_float_processed \n",
    "3- vehicle_windows_float_processed \n",
    "4- vehicle_windows_non_float_processed (none in this database)\n",
    "5- containers \n",
    "6- tableware \n",
    "7- headlamps\n",
    "\n",
    "There are 214 observations in the dataset. The dataset can be divided into window glass (classes 1-4) and non-window glass (classes 5-7).\n",
    "\n",
    "### Predict : Type of glass"
   ]
  },
  {
   "cell_type": "code",
   "execution_count": 3,
   "id": "a3a3befd",
   "metadata": {},
   "outputs": [],
   "source": [
    "import pandas as pd\n",
    "import numpy as np\n",
    "import matplotlib.pyplot as plt\n",
    "from sklearn.preprocessing import LabelEncoder\n",
    "from sklearn.preprocessing import StandardScaler\n",
    "from sklearn.model_selection import cross_val_score,StratifiedKFold,RepeatedStratifiedKFold\n",
    "from sklearn.linear_model import LogisticRegression\n",
    "from sklearn.svm import SVC\n",
    "from sklearn.neighbors import KNeighborsClassifier\n",
    "from sklearn.tree import DecisionTreeClassifier\n",
    "from sklearn.ensemble import RandomForestClassifier\n",
    "from imblearn.over_sampling import SMOTE,SMOTENC\n",
    "from sklearn.metrics import accuracy_score,confusion_matrix\n",
    "from sklearn.model_selection import GridSearchCV\n",
    "import warnings\n",
    "warnings.filterwarnings('ignore')"
   ]
  },
  {
   "cell_type": "code",
   "execution_count": 2,
   "id": "4175f263",
   "metadata": {},
   "outputs": [],
   "source": [
    "# read the datas\n",
    "data = pd.read_csv(\"glass.csv\""
   ]
  },
  {
   "cell_type": "markdown",
   "id": "a776bbf5",
   "metadata": {},
   "source": [
    "##### in our dataset column name is not available and first row became the column name , so we have to make it correct through adding column name "
   ]
  },
  {
   "cell_type": "code",
   "execution_count": 6,
   "id": "a5623b0f",
   "metadata": {},
   "outputs": [
    {
     "name": "stdout",
     "output_type": "stream",
     "text": [
      "        RI     Na    Mg    Al     Si     K    Ca   Ba   Fe  Class\n",
      "0  1.52101  13.64  4.49  1.10  71.78  0.06  8.75  0.0  0.0      1\n",
      "1  1.51761  13.89  3.60  1.36  72.73  0.48  7.83  0.0  0.0      1\n",
      "2  1.51618  13.53  3.55  1.54  72.99  0.39  7.78  0.0  0.0      1\n",
      "3  1.51766  13.21  3.69  1.29  72.61  0.57  8.22  0.0  0.0      1\n",
      "4  1.51742  13.27  3.62  1.24  73.08  0.55  8.07  0.0  0.0      1\n"
     ]
    }
   ],
   "source": [
    "df = pd.read_csv('glass.csv',header=None)\n",
    "df.columns = ['ID','RI','Na','Mg','Al','Si','K','Ca','Ba','Fe','Class']\n",
    "df = df.iloc[:,1:]\n",
    "print(df.head())"
   ]
  },
  {
   "cell_type": "code",
   "execution_count": 8,
   "id": "1c89b91c",
   "metadata": {},
   "outputs": [
    {
     "data": {
      "text/html": [
       "<div>\n",
       "<style scoped>\n",
       "    .dataframe tbody tr th:only-of-type {\n",
       "        vertical-align: middle;\n",
       "    }\n",
       "\n",
       "    .dataframe tbody tr th {\n",
       "        vertical-align: top;\n",
       "    }\n",
       "\n",
       "    .dataframe thead th {\n",
       "        text-align: right;\n",
       "    }\n",
       "</style>\n",
       "<table border=\"1\" class=\"dataframe\">\n",
       "  <thead>\n",
       "    <tr style=\"text-align: right;\">\n",
       "      <th></th>\n",
       "      <th>RI</th>\n",
       "      <th>Na</th>\n",
       "      <th>Mg</th>\n",
       "      <th>Al</th>\n",
       "      <th>Si</th>\n",
       "      <th>K</th>\n",
       "      <th>Ca</th>\n",
       "      <th>Ba</th>\n",
       "      <th>Fe</th>\n",
       "      <th>Class</th>\n",
       "    </tr>\n",
       "  </thead>\n",
       "  <tbody>\n",
       "    <tr>\n",
       "      <th>count</th>\n",
       "      <td>214.000000</td>\n",
       "      <td>214.000000</td>\n",
       "      <td>214.000000</td>\n",
       "      <td>214.000000</td>\n",
       "      <td>214.000000</td>\n",
       "      <td>214.000000</td>\n",
       "      <td>214.000000</td>\n",
       "      <td>214.000000</td>\n",
       "      <td>214.000000</td>\n",
       "      <td>214.000000</td>\n",
       "    </tr>\n",
       "    <tr>\n",
       "      <th>mean</th>\n",
       "      <td>1.518365</td>\n",
       "      <td>13.407850</td>\n",
       "      <td>2.684533</td>\n",
       "      <td>1.444907</td>\n",
       "      <td>72.650935</td>\n",
       "      <td>0.497056</td>\n",
       "      <td>8.956963</td>\n",
       "      <td>0.175047</td>\n",
       "      <td>0.057009</td>\n",
       "      <td>2.780374</td>\n",
       "    </tr>\n",
       "    <tr>\n",
       "      <th>std</th>\n",
       "      <td>0.003037</td>\n",
       "      <td>0.816604</td>\n",
       "      <td>1.442408</td>\n",
       "      <td>0.499270</td>\n",
       "      <td>0.774546</td>\n",
       "      <td>0.652192</td>\n",
       "      <td>1.423153</td>\n",
       "      <td>0.497219</td>\n",
       "      <td>0.097439</td>\n",
       "      <td>2.103739</td>\n",
       "    </tr>\n",
       "    <tr>\n",
       "      <th>min</th>\n",
       "      <td>1.511150</td>\n",
       "      <td>10.730000</td>\n",
       "      <td>0.000000</td>\n",
       "      <td>0.290000</td>\n",
       "      <td>69.810000</td>\n",
       "      <td>0.000000</td>\n",
       "      <td>5.430000</td>\n",
       "      <td>0.000000</td>\n",
       "      <td>0.000000</td>\n",
       "      <td>1.000000</td>\n",
       "    </tr>\n",
       "    <tr>\n",
       "      <th>25%</th>\n",
       "      <td>1.516522</td>\n",
       "      <td>12.907500</td>\n",
       "      <td>2.115000</td>\n",
       "      <td>1.190000</td>\n",
       "      <td>72.280000</td>\n",
       "      <td>0.122500</td>\n",
       "      <td>8.240000</td>\n",
       "      <td>0.000000</td>\n",
       "      <td>0.000000</td>\n",
       "      <td>1.000000</td>\n",
       "    </tr>\n",
       "    <tr>\n",
       "      <th>50%</th>\n",
       "      <td>1.517680</td>\n",
       "      <td>13.300000</td>\n",
       "      <td>3.480000</td>\n",
       "      <td>1.360000</td>\n",
       "      <td>72.790000</td>\n",
       "      <td>0.555000</td>\n",
       "      <td>8.600000</td>\n",
       "      <td>0.000000</td>\n",
       "      <td>0.000000</td>\n",
       "      <td>2.000000</td>\n",
       "    </tr>\n",
       "    <tr>\n",
       "      <th>75%</th>\n",
       "      <td>1.519157</td>\n",
       "      <td>13.825000</td>\n",
       "      <td>3.600000</td>\n",
       "      <td>1.630000</td>\n",
       "      <td>73.087500</td>\n",
       "      <td>0.610000</td>\n",
       "      <td>9.172500</td>\n",
       "      <td>0.000000</td>\n",
       "      <td>0.100000</td>\n",
       "      <td>3.000000</td>\n",
       "    </tr>\n",
       "    <tr>\n",
       "      <th>max</th>\n",
       "      <td>1.533930</td>\n",
       "      <td>17.380000</td>\n",
       "      <td>4.490000</td>\n",
       "      <td>3.500000</td>\n",
       "      <td>75.410000</td>\n",
       "      <td>6.210000</td>\n",
       "      <td>16.190000</td>\n",
       "      <td>3.150000</td>\n",
       "      <td>0.510000</td>\n",
       "      <td>7.000000</td>\n",
       "    </tr>\n",
       "  </tbody>\n",
       "</table>\n",
       "</div>"
      ],
      "text/plain": [
       "               RI          Na          Mg          Al          Si           K  \\\n",
       "count  214.000000  214.000000  214.000000  214.000000  214.000000  214.000000   \n",
       "mean     1.518365   13.407850    2.684533    1.444907   72.650935    0.497056   \n",
       "std      0.003037    0.816604    1.442408    0.499270    0.774546    0.652192   \n",
       "min      1.511150   10.730000    0.000000    0.290000   69.810000    0.000000   \n",
       "25%      1.516522   12.907500    2.115000    1.190000   72.280000    0.122500   \n",
       "50%      1.517680   13.300000    3.480000    1.360000   72.790000    0.555000   \n",
       "75%      1.519157   13.825000    3.600000    1.630000   73.087500    0.610000   \n",
       "max      1.533930   17.380000    4.490000    3.500000   75.410000    6.210000   \n",
       "\n",
       "               Ca          Ba          Fe       Class  \n",
       "count  214.000000  214.000000  214.000000  214.000000  \n",
       "mean     8.956963    0.175047    0.057009    2.780374  \n",
       "std      1.423153    0.497219    0.097439    2.103739  \n",
       "min      5.430000    0.000000    0.000000    1.000000  \n",
       "25%      8.240000    0.000000    0.000000    1.000000  \n",
       "50%      8.600000    0.000000    0.000000    2.000000  \n",
       "75%      9.172500    0.000000    0.100000    3.000000  \n",
       "max     16.190000    3.150000    0.510000    7.000000  "
      ]
     },
     "execution_count": 8,
     "metadata": {},
     "output_type": "execute_result"
    }
   ],
   "source": [
    "df.describe()"
   ]
  },
  {
   "cell_type": "markdown",
   "id": "e5da4785",
   "metadata": {},
   "source": [
    "Now that we have got a glimpse of the dataset, we know that it doesn't have any null values and all the attributes are numerical. Even the type which is categorical in nature is represented as integers. Please note there is no order among the classes."
   ]
  },
  {
   "cell_type": "code",
   "execution_count": 9,
   "id": "5a88f624",
   "metadata": {},
   "outputs": [
    {
     "name": "stdout",
     "output_type": "stream",
     "text": [
      "Class\n",
      "1    70\n",
      "2    76\n",
      "3    17\n",
      "5    13\n",
      "6     9\n",
      "7    29\n",
      "Name: RI, dtype: int64\n"
     ]
    }
   ],
   "source": [
    "class_info = df.groupby('Class').count().iloc[:,0]\n",
    "print(class_info)"
   ]
  },
  {
   "cell_type": "code",
   "execution_count": 10,
   "id": "c3c9d58e",
   "metadata": {},
   "outputs": [],
   "source": [
    "import matplotlib.pyplot as plt # plot graph\n",
    "import seaborn as sns # graphical plotting\n",
    "from sklearn.metrics import classification_report"
   ]
  },
  {
   "cell_type": "code",
   "execution_count": 13,
   "id": "f6083e6a",
   "metadata": {},
   "outputs": [
    {
     "data": {
      "image/png": "[encoded data removed]",
      "text/plain": [
       "<Figure size 1080x576 with 1 Axes>"
      ]
     },
     "metadata": {},
     "output_type": "display_data"
    }
   ],
   "source": [
    "sns.set(style=\"whitegrid\", font_scale=1.8)\n",
    "plt.subplots(figsize = (15,8))\n",
    "sns.countplot('Class',data=df).set_title('Count of Glass Types')\n",
    "plt.show()"
   ]
  },
  {
   "cell_type": "markdown",
   "id": "fe99e5a3",
   "metadata": {},
   "source": [
    "we can easily makeout that this data is not balanced "
   ]
  },
  {
   "cell_type": "markdown",
   "id": "d28cc07c",
   "metadata": {},
   "source": [
    "### which is more balanced"
   ]
  },
  {
   "cell_type": "code",
   "execution_count": 14,
   "id": "91cb97cc",
   "metadata": {},
   "outputs": [
    {
     "name": "stdout",
     "output_type": "stream",
     "text": [
      "Class 1, Count:70, Percentage:32.71%\n",
      "Class 2, Count:76, Percentage:35.514%\n",
      "Class 3, Count:17, Percentage:7.944%\n",
      "Class 5, Count:13, Percentage:6.075%\n",
      "Class 6, Count:9, Percentage:4.206%\n",
      "Class 7, Count:29, Percentage:13.551%\n"
     ]
    }
   ],
   "source": [
    "for i in class_info.index:\n",
    "    c = class_info[i]\n",
    "    print(f'Class {i}, Count:{c}, Percentage:{round(c*100/214,3)}%')"
   ]
  },
  {
   "cell_type": "code",
   "execution_count": 15,
   "id": "1e1b521f",
   "metadata": {},
   "outputs": [
    {
     "data": {
      "text/html": [
       "<div>\n",
       "<style scoped>\n",
       "    .dataframe tbody tr th:only-of-type {\n",
       "        vertical-align: middle;\n",
       "    }\n",
       "\n",
       "    .dataframe tbody tr th {\n",
       "        vertical-align: top;\n",
       "    }\n",
       "\n",
       "    .dataframe thead th {\n",
       "        text-align: right;\n",
       "    }\n",
       "</style>\n",
       "<table border=\"1\" class=\"dataframe\">\n",
       "  <thead>\n",
       "    <tr style=\"text-align: right;\">\n",
       "      <th></th>\n",
       "      <th>Class</th>\n",
       "      <th>RI</th>\n",
       "      <th>Na</th>\n",
       "      <th>Mg</th>\n",
       "      <th>Al</th>\n",
       "      <th>Si</th>\n",
       "      <th>K</th>\n",
       "      <th>Ca</th>\n",
       "      <th>Ba</th>\n",
       "      <th>Fe</th>\n",
       "    </tr>\n",
       "  </thead>\n",
       "  <tbody>\n",
       "    <tr>\n",
       "      <th>0</th>\n",
       "      <td>1</td>\n",
       "      <td>1.518718</td>\n",
       "      <td>13.242286</td>\n",
       "      <td>3.552429</td>\n",
       "      <td>1.163857</td>\n",
       "      <td>72.619143</td>\n",
       "      <td>0.447429</td>\n",
       "      <td>8.797286</td>\n",
       "      <td>0.012714</td>\n",
       "      <td>0.057000</td>\n",
       "    </tr>\n",
       "    <tr>\n",
       "      <th>1</th>\n",
       "      <td>2</td>\n",
       "      <td>1.518619</td>\n",
       "      <td>13.111711</td>\n",
       "      <td>3.002105</td>\n",
       "      <td>1.408158</td>\n",
       "      <td>72.598026</td>\n",
       "      <td>0.521053</td>\n",
       "      <td>9.073684</td>\n",
       "      <td>0.050263</td>\n",
       "      <td>0.079737</td>\n",
       "    </tr>\n",
       "    <tr>\n",
       "      <th>2</th>\n",
       "      <td>3</td>\n",
       "      <td>1.517964</td>\n",
       "      <td>13.437059</td>\n",
       "      <td>3.543529</td>\n",
       "      <td>1.201176</td>\n",
       "      <td>72.404706</td>\n",
       "      <td>0.406471</td>\n",
       "      <td>8.782941</td>\n",
       "      <td>0.008824</td>\n",
       "      <td>0.057059</td>\n",
       "    </tr>\n",
       "    <tr>\n",
       "      <th>3</th>\n",
       "      <td>5</td>\n",
       "      <td>1.518928</td>\n",
       "      <td>12.827692</td>\n",
       "      <td>0.773846</td>\n",
       "      <td>2.033846</td>\n",
       "      <td>72.366154</td>\n",
       "      <td>1.470000</td>\n",
       "      <td>10.123846</td>\n",
       "      <td>0.187692</td>\n",
       "      <td>0.060769</td>\n",
       "    </tr>\n",
       "    <tr>\n",
       "      <th>4</th>\n",
       "      <td>6</td>\n",
       "      <td>1.517456</td>\n",
       "      <td>14.646667</td>\n",
       "      <td>1.305556</td>\n",
       "      <td>1.366667</td>\n",
       "      <td>73.206667</td>\n",
       "      <td>0.000000</td>\n",
       "      <td>9.356667</td>\n",
       "      <td>0.000000</td>\n",
       "      <td>0.000000</td>\n",
       "    </tr>\n",
       "    <tr>\n",
       "      <th>5</th>\n",
       "      <td>7</td>\n",
       "      <td>1.517116</td>\n",
       "      <td>14.442069</td>\n",
       "      <td>0.538276</td>\n",
       "      <td>2.122759</td>\n",
       "      <td>72.965862</td>\n",
       "      <td>0.325172</td>\n",
       "      <td>8.491379</td>\n",
       "      <td>1.040000</td>\n",
       "      <td>0.013448</td>\n",
       "    </tr>\n",
       "  </tbody>\n",
       "</table>\n",
       "</div>"
      ],
      "text/plain": [
       "   Class        RI         Na        Mg        Al         Si         K  \\\n",
       "0      1  1.518718  13.242286  3.552429  1.163857  72.619143  0.447429   \n",
       "1      2  1.518619  13.111711  3.002105  1.408158  72.598026  0.521053   \n",
       "2      3  1.517964  13.437059  3.543529  1.201176  72.404706  0.406471   \n",
       "3      5  1.518928  12.827692  0.773846  2.033846  72.366154  1.470000   \n",
       "4      6  1.517456  14.646667  1.305556  1.366667  73.206667  0.000000   \n",
       "5      7  1.517116  14.442069  0.538276  2.122759  72.965862  0.325172   \n",
       "\n",
       "          Ca        Ba        Fe  \n",
       "0   8.797286  0.012714  0.057000  \n",
       "1   9.073684  0.050263  0.079737  \n",
       "2   8.782941  0.008824  0.057059  \n",
       "3  10.123846  0.187692  0.060769  \n",
       "4   9.356667  0.000000  0.000000  \n",
       "5   8.491379  1.040000  0.013448  "
      ]
     },
     "execution_count": 15,
     "metadata": {},
     "output_type": "execute_result"
    }
   ],
   "source": [
    "# Checked both mean and median. mean seemed more informative\n",
    "df.groupby('Class', as_index=False).mean()"
   ]
  },
  {
   "cell_type": "code",
   "execution_count": 18,
   "id": "7ce76ae7",
   "metadata": {},
   "outputs": [],
   "source": [
    "from sklearn.model_selection import train_test_split\n",
    "X = df.iloc[:,:-1].values\n",
    "Y = df.iloc[:,-1].values\n",
    "X_train,X_test, y_train,y_test = train_test_split(X,Y,test_size=0.33,stratify=Y,random_state=1)"
   ]
  },
  {
   "cell_type": "code",
   "execution_count": 19,
   "id": "165d5d1c",
   "metadata": {},
   "outputs": [
    {
     "name": "stdout",
     "output_type": "stream",
     "text": [
      "X,y shape: (143, 9) (143,)\n"
     ]
    }
   ],
   "source": [
    "ss=StandardScaler()\n",
    "le=LabelEncoder()\n",
    "X = ss.fit_transform(X_train)\n",
    "y = le.fit_transform(y_train)\n",
    "X_test = ss.transform(X_test)\n",
    "y_test = le.transform(y_test)\n",
    "print(\"X,y shape:\",X.shape,y.shape)"
   ]
  },
  {
   "cell_type": "code",
   "execution_count": 20,
   "id": "6c6a7fc8",
   "metadata": {},
   "outputs": [],
   "source": [
    "def evaluate(X,y,estimator):\n",
    "    cv=RepeatedStratifiedKFold(n_splits=10,n_repeats=10)\n",
    "    score = cross_val_score(estimator,X,y,scoring='accuracy',cv=cv)\n",
    "    return score"
   ]
  },
  {
   "cell_type": "markdown",
   "id": "6480af72",
   "metadata": {},
   "source": [
    "### Baseline: 35% (Predicting class 2 for every sample)\n",
    "### We'll now evaluate several models"
   ]
  },
  {
   "cell_type": "code",
   "execution_count": 21,
   "id": "46e255ab",
   "metadata": {},
   "outputs": [
    {
     "name": "stdout",
     "output_type": "stream",
     "text": [
      "Cross val average accuracy(without oversampling or hyperparameter tuning)\n",
      "Logistic Regression: 0.605\n",
      "SVM: 0.646\n",
      "KNN: 0.587\n",
      "Decision Tree: 0.659\n",
      "Random Forest: 0.749\n"
     ]
    }
   ],
   "source": [
    "lm = LogisticRegression(penalty='l2',solver='newton-cg')\n",
    "svm = SVC(gamma='auto')\n",
    "knn = KNeighborsClassifier()\n",
    "dTree = DecisionTreeClassifier(max_depth=100)\n",
    "weights = {0:1.0,1:1.0,2:2.0,3:2.0,4:2.0,5:2.0}\n",
    "rf = RandomForestClassifier(n_estimators=1000,class_weight=weights)\n",
    "\n",
    "models = {'Logistic Regression':lm,'SVM':svm,'KNN':knn,'Decision Tree':dTree,'Random Forest': rf}\n",
    "\n",
    "results = []\n",
    "print(\"Cross val average accuracy(without oversampling or hyperparameter tuning)\")\n",
    "for k,v in models.items():\n",
    "    result = evaluate(X,y,v)\n",
    "    results.append(result)\n",
    "    print(f'{k}: {round(np.mean(result),3)}')"
   ]
  },
  {
   "cell_type": "code",
   "execution_count": 22,
   "id": "f07c739d",
   "metadata": {},
   "outputs": [
    {
     "data": {
      "image/png": "[encoded data removed]",
      "text/plain": [
       "<Figure size 432x288 with 1 Axes>"
      ]
     },
     "metadata": {},
     "output_type": "display_data"
    }
   ],
   "source": [
    "plt.boxplot(results,labels=models.keys(),showmeans=True)\n",
    "plt.show()"
   ]
  },
  {
   "cell_type": "markdown",
   "id": "1091dedb",
   "metadata": {},
   "source": [
    "Using SMOTE(Synthetic Minority Oversampling technique) Oversampling\n",
    "Let's take a look again on what the class ditribution looks like"
   ]
  },
  {
   "cell_type": "code",
   "execution_count": 23,
   "id": "7434ed6f",
   "metadata": {},
   "outputs": [
    {
     "data": {
      "image/png": "[encoded data removed]",
      "text/plain": [
       "<Figure size 432x288 with 1 Axes>"
      ]
     },
     "metadata": {},
     "output_type": "display_data"
    }
   ],
   "source": [
    "plt.bar(np.unique(y),class_info)\n",
    "plt.show()"
   ]
  },
  {
   "cell_type": "markdown",
   "id": "ed24679d",
   "metadata": {},
   "source": [
    "### Using SMOTE"
   ]
  },
  {
   "cell_type": "code",
   "execution_count": 25,
   "id": "231a58ef",
   "metadata": {},
   "outputs": [],
   "source": [
    "X,y = SMOTE(sampling_strategy = {0:200, 1:200, 2:200, 3:200, 4:200, 5:200}).fit_resample(X,y)"
   ]
  },
  {
   "cell_type": "code",
   "execution_count": 26,
   "id": "ab717d7c",
   "metadata": {},
   "outputs": [
    {
     "data": {
      "image/png": "[encoded data removed]",
      "text/plain": [
       "<Figure size 432x288 with 1 Axes>"
      ]
     },
     "metadata": {},
     "output_type": "display_data"
    }
   ],
   "source": [
    "names,counts = np.unique(y,return_counts=True)\n",
    "plt.bar(names,counts)\n",
    "plt.show()"
   ]
  },
  {
   "cell_type": "code",
   "execution_count": 27,
   "id": "7b1f9889",
   "metadata": {},
   "outputs": [
    {
     "name": "stdout",
     "output_type": "stream",
     "text": [
      "Cross val average accuracy on oversampled data(without hyperparameter tuning)\n",
      "Logistic Regression: 0.88\n",
      "SVM: 0.921\n",
      "KNN: 0.96\n",
      "Decision Tree: 0.946\n",
      "Random Forest: 0.981\n"
     ]
    }
   ],
   "source": [
    "lm = LogisticRegression(penalty='l2',solver='newton-cg')\n",
    "svm = SVC(gamma='auto')\n",
    "knn = KNeighborsClassifier()\n",
    "dTree = DecisionTreeClassifier(max_depth=100)\n",
    "rf = RandomForestClassifier(n_estimators=1000,class_weight='balanced')\n",
    "\n",
    "models = {'Logistic Regression':lm,'SVM':svm,'KNN':knn,'Decision Tree':dTree,'Random Forest': rf}\n",
    "\n",
    "results = []\n",
    "print(\"Cross val average accuracy on oversampled data(without hyperparameter tuning)\")\n",
    "for k,v in models.items():\n",
    "    result = evaluate(X,y,v)\n",
    "    results.append(result)\n",
    "    print(f'{k}: {round(np.mean(result),3)}')"
   ]
  },
  {
   "cell_type": "code",
   "execution_count": 28,
   "id": "1ecb1c45",
   "metadata": {},
   "outputs": [
    {
     "data": {
      "image/png": "[encoded data removed]",
      "text/plain": [
       "<Figure size 432x288 with 1 Axes>"
      ]
     },
     "metadata": {},
     "output_type": "display_data"
    }
   ],
   "source": [
    "plt.boxplot(results,labels=models.keys(),showmeans=True)\n",
    "plt.show()"
   ]
  },
  {
   "cell_type": "markdown",
   "id": "22187fc7",
   "metadata": {},
   "source": [
    "### Hyperparameter Tuning"
   ]
  },
  {
   "cell_type": "code",
   "execution_count": 29,
   "id": "9ffe38da",
   "metadata": {},
   "outputs": [
    {
     "name": "stdout",
     "output_type": "stream",
     "text": [
      "Logistic Regresion:\n",
      "Best Result: 0.8925000000000001\n",
      "Best Param: {'C': 5.0, 'class_weight': 'balanced', 'multi_class': 'auto', 'penalty': 'l2', 'solver': 'newton-cg', 'tol': 0.0001}\n"
     ]
    }
   ],
   "source": [
    "params = {'penalty':('l1', 'l2'),'tol':[1e-4,1e-3],'C':[1.0,3.0,5.0],\n",
    "             'class_weight':('balanced',None),'solver':('newton-cg', 'lbfgs', 'liblinear'),'multi_class':('auto', 'ovr', 'multinomial')}\n",
    "clf = GridSearchCV(LogisticRegression(),params,cv=5,scoring='accuracy')\n",
    "clf.fit(X,y)\n",
    "lm_best = clf.best_estimator_\n",
    "print(\"Logistic Regresion:\")\n",
    "print('Best Result:',clf.best_score_)\n",
    "print('Best Param:',clf.best_params_)"
   ]
  },
  {
   "cell_type": "code",
   "execution_count": 30,
   "id": "5e808d69",
   "metadata": {},
   "outputs": [
    {
     "name": "stdout",
     "output_type": "stream",
     "text": [
      "KNN\n",
      "Best Result: 0.9841666666666666\n",
      "Best Param: {'algorithm': 'auto', 'n_neighbors': 1, 'p': 1, 'weights': 'uniform'}\n"
     ]
    }
   ],
   "source": [
    "from sklearn.model_selection import GridSearchCV\n",
    "params = {'n_neighbors':[1,2,3,4,5,6,7,8,9,10],'weights':('uniform','distance'),\n",
    "             'algorithm':('auto', 'ball_tree', 'kd_tree', 'brute'),\n",
    "         'p':[1,2,3,4]}\n",
    "clf = GridSearchCV(KNeighborsClassifier(),params,cv=5,scoring='accuracy')\n",
    "clf.fit(X,y)\n",
    "knn_best = clf.best_estimator_\n",
    "print(\"KNN\")\n",
    "print('Best Result:',clf.best_score_)\n",
    "print('Best Param:',clf.best_params_)"
   ]
  },
  {
   "cell_type": "code",
   "execution_count": 31,
   "id": "02bfad8f",
   "metadata": {},
   "outputs": [
    {
     "name": "stdout",
     "output_type": "stream",
     "text": [
      "SVM\n",
      "Best Result: 0.9483333333333333\n",
      "Best Param: {'C': 5.0, 'decision_function_shape': 'ovo', 'gamma': 'auto', 'kernel': 'rbf'}\n"
     ]
    }
   ],
   "source": [
    "params = {'C':[1.0,1.5,2.0,2.5,3.0,4.0,5.0],'kernel':('linear', 'poly', 'rbf', 'sigmoid'),\n",
    "             'gamma':('scale','auto'),'decision_function_shape':('ovo', 'ovr')}\n",
    "clf = GridSearchCV(SVC(),params,cv=5,scoring='accuracy')\n",
    "clf.fit(X,y)\n",
    "svm_best = clf.best_estimator_\n",
    "print(\"SVM\")\n",
    "print('Best Result:',clf.best_score_)\n",
    "print('Best Param:',clf.best_params_)"
   ]
  },
  {
   "cell_type": "code",
   "execution_count": 32,
   "id": "515c35c5",
   "metadata": {},
   "outputs": [
    {
     "name": "stdout",
     "output_type": "stream",
     "text": [
      "Decision Tree\n",
      "Best Result: 0.96\n",
      "Best Param: {'criterion': 'entropy', 'max_depth': 50, 'max_features': None, 'min_samples_leaf': 1, 'min_samples_split': 2, 'splitter': 'random'}\n"
     ]
    }
   ],
   "source": [
    "params = {'criterion':('gini', 'entropy'),'splitter':('best', 'random'),'max_depth':[10,50,100,500,1000],\n",
    "          'min_samples_split':[1,2,5,10],'min_samples_leaf':[1,2,3,5],'max_features':('auto','sqrt','log2',None)}\n",
    "clf = GridSearchCV(DecisionTreeClassifier(),params,cv=5,scoring='accuracy')\n",
    "clf.fit(X,y)\n",
    "dTree_best = clf.best_estimator_\n",
    "print(\"Decision Tree\")\n",
    "print('Best Result:',clf.best_score_)\n",
    "print('Best Param:',clf.best_params_)"
   ]
  },
  {
   "cell_type": "code",
   "execution_count": 33,
   "id": "e3c7e105",
   "metadata": {},
   "outputs": [
    {
     "name": "stdout",
     "output_type": "stream",
     "text": [
      "Random Forest\n",
      "Best Result: 0.9833333333333334\n",
      "Best Param: {'class_weight': 'balanced', 'max_depth': 1000, 'min_samples_leaf': 1, 'min_samples_split': 2, 'n_estimators': 1000}\n"
     ]
    }
   ],
   "source": [
    "params = {'n_estimators':[1,10,100,1000],'max_depth':[1,10,100,1000],\n",
    "          'min_samples_split':[1,2],'min_samples_leaf':[1,2],\n",
    "         'class_weight':('balanced', 'balanced_subsample',None)}\n",
    "clf = GridSearchCV(RandomForestClassifier(),params,cv=5,scoring='accuracy')\n",
    "clf.fit(X,y)\n",
    "rf_best = clf.best_estimator_\n",
    "print(\"Random Forest\")\n",
    "print('Best Result:',clf.best_score_)\n",
    "print('Best Param:',clf.best_params_)"
   ]
  },
  {
   "cell_type": "code",
   "execution_count": 34,
   "id": "dcf08481",
   "metadata": {},
   "outputs": [
    {
     "name": "stdout",
     "output_type": "stream",
     "text": [
      "Cross val average accuracy on oversampled data and hyperparameter tuned model\n",
      "Logistic Regression: 0.893\n",
      "SVM: 0.946\n",
      "KNN: 0.985\n",
      "Decision Tree: 0.948\n",
      "Random Forest: 0.982\n"
     ]
    }
   ],
   "source": [
    "models = {'Logistic Regression':lm_best,'SVM':svm_best,'KNN':knn_best,'Decision Tree':dTree_best,'Random Forest': rf_best}\n",
    "\n",
    "results = []\n",
    "print(\"Cross val average accuracy on oversampled data and hyperparameter tuned model\")\n",
    "for k,v in models.items():\n",
    "    result = evaluate(X,y,v)\n",
    "    results.append(result)\n",
    "    print(f'{k}: {round(np.mean(result),3)}')"
   ]
  },
  {
   "cell_type": "code",
   "execution_count": 35,
   "id": "26334c91",
   "metadata": {},
   "outputs": [
    {
     "data": {
      "image/png": "[encoded data removed]",
      "text/plain": [
       "<Figure size 432x288 with 1 Axes>"
      ]
     },
     "metadata": {},
     "output_type": "display_data"
    }
   ],
   "source": [
    "plt.boxplot(results,labels=models.keys(),showmeans=True)\n",
    "plt.show()"
   ]
  },
  {
   "cell_type": "code",
   "execution_count": 36,
   "id": "88611b0c",
   "metadata": {},
   "outputs": [
    {
     "name": "stdout",
     "output_type": "stream",
     "text": [
      "Test set accuracy\n",
      "Logistic Regression: 0.676\n",
      "SVM: 0.746\n",
      "KNN: 0.789\n",
      "Decision Tree: 0.704\n",
      "Random Forest: 0.845\n"
     ]
    }
   ],
   "source": [
    "models = {'Logistic Regression':lm_best,'SVM':svm_best,'KNN':knn_best,'Decision Tree':dTree_best,'Random Forest': rf_best}\n",
    "results = []\n",
    "print(\"Test set accuracy\")\n",
    "for k,v in models.items():\n",
    "    v.fit(X,y)\n",
    "    y_pred = v.predict(X_test)\n",
    "    results.append(accuracy_score(y_test,y_pred))\n",
    "    print(f'{k}: {round(accuracy_score(y_test,y_pred),3)}')"
   ]
  },
  {
   "cell_type": "code",
   "execution_count": 38,
   "id": "09fae094",
   "metadata": {},
   "outputs": [
    {
     "name": "stdout",
     "output_type": "stream",
     "text": [
      "Overall test accuracy\n",
      "Logistic Regression: 0.6761\n",
      "SVM: 0.7465\n",
      "KNN: 0.7887\n",
      "Decision Tree: 0.7042\n",
      "Random Forest: 0.8451\n"
     ]
    },
    {
     "data": {
      "image/png": "[encoded data removed]",
      "text/plain": [
       "<Figure size 432x288 with 1 Axes>"
      ]
     },
     "metadata": {},
     "output_type": "display_data"
    }
   ],
   "source": [
    "all_models = list(models.keys())\n",
    "\n",
    "all_results = list(results)\n",
    "\n",
    "print(\"Overall test accuracy\")\n",
    "for i,m in enumerate(all_models):\n",
    "    print(f\"{m}: {round(all_results[i],4)}\")\n",
    "plt.bar(all_models,all_results, align='center',width=0.7)\n",
    "plt.xticks(rotation=45)\n",
    "plt.show()"
   ]
  },
  {
   "cell_type": "markdown",
   "id": "5e0a93a5",
   "metadata": {},
   "source": [
    "### AS HERE WE CAN EASILY MAKE A DECISION THAT RANDOM FOREST IS SHOWING EXCELLENT OVERALL ACCURECY AMONG ALL THE MACHINE LEARNING MODELS .\n",
    "### SO OUR FINAL CHOICE OF MODEL WILL BE RANDOM FOREST"
   ]
  },
  {
   "cell_type": "markdown",
   "id": "b8212391",
   "metadata": {},
   "source": [
    "SAVING THE MODEL USING PIKLE[pickle.dump(model, open('model.pkl', 'wb'))]"
   ]
  },
  {
   "cell_type": "code",
   "execution_count": null,
   "id": "db45e0be",
   "metadata": {},
   "outputs": [],
   "source": []
  }
 ],
 "metadata": {
  "kernelspec": {
   "display_name": "Python 3 (ipykernel)",
   "language": "python",
   "name": "python3"
  },
  "language_info": {
   "codemirror_mode": {
    "name": "ipython",
    "version": 3
   },
   "file_extension": ".py",
   "mimetype": "text/x-python",
   "name": "python",
   "nbconvert_exporter": "python",
   "pygments_lexer": "ipython3",
   "version": "3.9.12"
  }
 },
 "nbformat": 4,
 "nbformat_minor": 5
}
