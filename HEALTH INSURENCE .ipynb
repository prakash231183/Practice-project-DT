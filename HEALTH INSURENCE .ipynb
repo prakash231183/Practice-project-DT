{
 "cells": [
  {
   "cell_type": "code",
   "execution_count": 1,
   "id": "df485e3c",
   "metadata": {},
   "outputs": [],
   "source": [
    "import pandas as pd\n",
    "import numpy as np\n",
    "import matplotlib.pyplot as plt\n",
    "import seaborn as sns\n",
    "import warnings\n",
    "warnings.filterwarnings('ignore')\n"
   ]
  },
  {
   "cell_type": "code",
   "execution_count": null,
   "id": "82e7cd51",
   "metadata": {},
   "outputs": [],
   "source": []
  },
  {
   "cell_type": "code",
   "execution_count": 2,
   "id": "ad3b241a",
   "metadata": {},
   "outputs": [],
   "source": [
    "df=pd.read_csv(\"medical_cost_insurance.csv\")"
   ]
  },
  {
   "cell_type": "code",
   "execution_count": 3,
   "id": "2cc8c5a6",
   "metadata": {},
   "outputs": [
    {
     "data": {
      "text/html": [
       "<div>\n",
       "<style scoped>\n",
       "    .dataframe tbody tr th:only-of-type {\n",
       "        vertical-align: middle;\n",
       "    }\n",
       "\n",
       "    .dataframe tbody tr th {\n",
       "        vertical-align: top;\n",
       "    }\n",
       "\n",
       "    .dataframe thead th {\n",
       "        text-align: right;\n",
       "    }\n",
       "</style>\n",
       "<table border=\"1\" class=\"dataframe\">\n",
       "  <thead>\n",
       "    <tr style=\"text-align: right;\">\n",
       "      <th></th>\n",
       "      <th>age</th>\n",
       "      <th>sex</th>\n",
       "      <th>bmi</th>\n",
       "      <th>children</th>\n",
       "      <th>smoker</th>\n",
       "      <th>region</th>\n",
       "      <th>charges</th>\n",
       "    </tr>\n",
       "  </thead>\n",
       "  <tbody>\n",
       "    <tr>\n",
       "      <th>0</th>\n",
       "      <td>19</td>\n",
       "      <td>female</td>\n",
       "      <td>27.900</td>\n",
       "      <td>0</td>\n",
       "      <td>yes</td>\n",
       "      <td>southwest</td>\n",
       "      <td>16884.92400</td>\n",
       "    </tr>\n",
       "    <tr>\n",
       "      <th>1</th>\n",
       "      <td>18</td>\n",
       "      <td>male</td>\n",
       "      <td>33.770</td>\n",
       "      <td>1</td>\n",
       "      <td>no</td>\n",
       "      <td>southeast</td>\n",
       "      <td>1725.55230</td>\n",
       "    </tr>\n",
       "    <tr>\n",
       "      <th>2</th>\n",
       "      <td>28</td>\n",
       "      <td>male</td>\n",
       "      <td>33.000</td>\n",
       "      <td>3</td>\n",
       "      <td>no</td>\n",
       "      <td>southeast</td>\n",
       "      <td>4449.46200</td>\n",
       "    </tr>\n",
       "    <tr>\n",
       "      <th>3</th>\n",
       "      <td>33</td>\n",
       "      <td>male</td>\n",
       "      <td>22.705</td>\n",
       "      <td>0</td>\n",
       "      <td>no</td>\n",
       "      <td>northwest</td>\n",
       "      <td>21984.47061</td>\n",
       "    </tr>\n",
       "    <tr>\n",
       "      <th>4</th>\n",
       "      <td>32</td>\n",
       "      <td>male</td>\n",
       "      <td>28.880</td>\n",
       "      <td>0</td>\n",
       "      <td>no</td>\n",
       "      <td>northwest</td>\n",
       "      <td>3866.85520</td>\n",
       "    </tr>\n",
       "    <tr>\n",
       "      <th>5</th>\n",
       "      <td>31</td>\n",
       "      <td>female</td>\n",
       "      <td>25.740</td>\n",
       "      <td>0</td>\n",
       "      <td>no</td>\n",
       "      <td>southeast</td>\n",
       "      <td>3756.62160</td>\n",
       "    </tr>\n",
       "    <tr>\n",
       "      <th>6</th>\n",
       "      <td>46</td>\n",
       "      <td>female</td>\n",
       "      <td>33.440</td>\n",
       "      <td>1</td>\n",
       "      <td>no</td>\n",
       "      <td>southeast</td>\n",
       "      <td>8240.58960</td>\n",
       "    </tr>\n",
       "    <tr>\n",
       "      <th>7</th>\n",
       "      <td>37</td>\n",
       "      <td>female</td>\n",
       "      <td>27.740</td>\n",
       "      <td>3</td>\n",
       "      <td>no</td>\n",
       "      <td>northwest</td>\n",
       "      <td>7281.50560</td>\n",
       "    </tr>\n",
       "    <tr>\n",
       "      <th>8</th>\n",
       "      <td>37</td>\n",
       "      <td>male</td>\n",
       "      <td>29.830</td>\n",
       "      <td>2</td>\n",
       "      <td>no</td>\n",
       "      <td>northeast</td>\n",
       "      <td>6406.41070</td>\n",
       "    </tr>\n",
       "    <tr>\n",
       "      <th>9</th>\n",
       "      <td>60</td>\n",
       "      <td>female</td>\n",
       "      <td>25.840</td>\n",
       "      <td>0</td>\n",
       "      <td>no</td>\n",
       "      <td>northwest</td>\n",
       "      <td>28923.13692</td>\n",
       "    </tr>\n",
       "  </tbody>\n",
       "</table>\n",
       "</div>"
      ],
      "text/plain": [
       "   age     sex     bmi  children smoker     region      charges\n",
       "0   19  female  27.900         0    yes  southwest  16884.92400\n",
       "1   18    male  33.770         1     no  southeast   1725.55230\n",
       "2   28    male  33.000         3     no  southeast   4449.46200\n",
       "3   33    male  22.705         0     no  northwest  21984.47061\n",
       "4   32    male  28.880         0     no  northwest   3866.85520\n",
       "5   31  female  25.740         0     no  southeast   3756.62160\n",
       "6   46  female  33.440         1     no  southeast   8240.58960\n",
       "7   37  female  27.740         3     no  northwest   7281.50560\n",
       "8   37    male  29.830         2     no  northeast   6406.41070\n",
       "9   60  female  25.840         0     no  northwest  28923.13692"
      ]
     },
     "execution_count": 3,
     "metadata": {},
     "output_type": "execute_result"
    }
   ],
   "source": [
    "df.head(10)"
   ]
  },
  {
   "cell_type": "code",
   "execution_count": 4,
   "id": "71329bcd",
   "metadata": {},
   "outputs": [
    {
     "data": {
      "text/plain": [
       "age         0\n",
       "sex         0\n",
       "bmi         0\n",
       "children    0\n",
       "smoker      0\n",
       "region      0\n",
       "charges     0\n",
       "dtype: int64"
      ]
     },
     "execution_count": 4,
     "metadata": {},
     "output_type": "execute_result"
    }
   ],
   "source": [
    "df.isnull().sum()"
   ]
  },
  {
   "cell_type": "markdown",
   "id": "0369d29c",
   "metadata": {},
   "source": [
    "Nulls are absent"
   ]
  },
  {
   "cell_type": "code",
   "execution_count": 5,
   "id": "61a2cb60",
   "metadata": {},
   "outputs": [
    {
     "data": {
      "text/html": [
       "<div>\n",
       "<style scoped>\n",
       "    .dataframe tbody tr th:only-of-type {\n",
       "        vertical-align: middle;\n",
       "    }\n",
       "\n",
       "    .dataframe tbody tr th {\n",
       "        vertical-align: top;\n",
       "    }\n",
       "\n",
       "    .dataframe thead th {\n",
       "        text-align: right;\n",
       "    }\n",
       "</style>\n",
       "<table border=\"1\" class=\"dataframe\">\n",
       "  <thead>\n",
       "    <tr style=\"text-align: right;\">\n",
       "      <th></th>\n",
       "      <th>age</th>\n",
       "      <th>bmi</th>\n",
       "      <th>children</th>\n",
       "      <th>charges</th>\n",
       "    </tr>\n",
       "  </thead>\n",
       "  <tbody>\n",
       "    <tr>\n",
       "      <th>count</th>\n",
       "      <td>1338.000000</td>\n",
       "      <td>1338.000000</td>\n",
       "      <td>1338.000000</td>\n",
       "      <td>1338.000000</td>\n",
       "    </tr>\n",
       "    <tr>\n",
       "      <th>mean</th>\n",
       "      <td>39.207025</td>\n",
       "      <td>30.663397</td>\n",
       "      <td>1.094918</td>\n",
       "      <td>13270.422265</td>\n",
       "    </tr>\n",
       "    <tr>\n",
       "      <th>std</th>\n",
       "      <td>14.049960</td>\n",
       "      <td>6.098187</td>\n",
       "      <td>1.205493</td>\n",
       "      <td>12110.011237</td>\n",
       "    </tr>\n",
       "    <tr>\n",
       "      <th>min</th>\n",
       "      <td>18.000000</td>\n",
       "      <td>15.960000</td>\n",
       "      <td>0.000000</td>\n",
       "      <td>1121.873900</td>\n",
       "    </tr>\n",
       "    <tr>\n",
       "      <th>25%</th>\n",
       "      <td>27.000000</td>\n",
       "      <td>26.296250</td>\n",
       "      <td>0.000000</td>\n",
       "      <td>4740.287150</td>\n",
       "    </tr>\n",
       "    <tr>\n",
       "      <th>50%</th>\n",
       "      <td>39.000000</td>\n",
       "      <td>30.400000</td>\n",
       "      <td>1.000000</td>\n",
       "      <td>9382.033000</td>\n",
       "    </tr>\n",
       "    <tr>\n",
       "      <th>75%</th>\n",
       "      <td>51.000000</td>\n",
       "      <td>34.693750</td>\n",
       "      <td>2.000000</td>\n",
       "      <td>16639.912515</td>\n",
       "    </tr>\n",
       "    <tr>\n",
       "      <th>max</th>\n",
       "      <td>64.000000</td>\n",
       "      <td>53.130000</td>\n",
       "      <td>5.000000</td>\n",
       "      <td>63770.428010</td>\n",
       "    </tr>\n",
       "  </tbody>\n",
       "</table>\n",
       "</div>"
      ],
      "text/plain": [
       "               age          bmi     children       charges\n",
       "count  1338.000000  1338.000000  1338.000000   1338.000000\n",
       "mean     39.207025    30.663397     1.094918  13270.422265\n",
       "std      14.049960     6.098187     1.205493  12110.011237\n",
       "min      18.000000    15.960000     0.000000   1121.873900\n",
       "25%      27.000000    26.296250     0.000000   4740.287150\n",
       "50%      39.000000    30.400000     1.000000   9382.033000\n",
       "75%      51.000000    34.693750     2.000000  16639.912515\n",
       "max      64.000000    53.130000     5.000000  63770.428010"
      ]
     },
     "execution_count": 5,
     "metadata": {},
     "output_type": "execute_result"
    }
   ],
   "source": [
    "df.describe()"
   ]
  },
  {
   "cell_type": "markdown",
   "id": "da31bb0d",
   "metadata": {},
   "source": [
    "### mean and std deviation difference are much higher in case of Age and BMi"
   ]
  },
  {
   "cell_type": "code",
   "execution_count": 7,
   "id": "e8428e1a",
   "metadata": {},
   "outputs": [
    {
     "name": "stdout",
     "output_type": "stream",
     "text": [
      "<class 'pandas.core.frame.DataFrame'>\n",
      "RangeIndex: 1338 entries, 0 to 1337\n",
      "Data columns (total 7 columns):\n",
      " #   Column    Non-Null Count  Dtype  \n",
      "---  ------    --------------  -----  \n",
      " 0   age       1338 non-null   int64  \n",
      " 1   sex       1338 non-null   object \n",
      " 2   bmi       1338 non-null   float64\n",
      " 3   children  1338 non-null   int64  \n",
      " 4   smoker    1338 non-null   object \n",
      " 5   region    1338 non-null   object \n",
      " 6   charges   1338 non-null   float64\n",
      "dtypes: float64(2), int64(2), object(3)\n",
      "memory usage: 73.3+ KB\n"
     ]
    }
   ],
   "source": [
    "df.info()"
   ]
  },
  {
   "cell_type": "markdown",
   "id": "3b2711a9",
   "metadata": {},
   "source": [
    "OBSERVATION LEVEL-1 6 COLUMNS INCLUDING AGE,SEX,BMI,CHILDREN,SMOKER,REGION ARE OUR FEATURES AND CHARGES IS OUR TARGET"
   ]
  },
  {
   "cell_type": "code",
   "execution_count": 10,
   "id": "03c31311",
   "metadata": {},
   "outputs": [
    {
     "name": "stdout",
     "output_type": "stream",
     "text": [
      "southeast    364\n",
      "southwest    325\n",
      "northwest    325\n",
      "northeast    324\n",
      "Name: region, dtype: int64\n"
     ]
    },
    {
     "data": {
      "image/png": "[encoded data removed]",
      "text/plain": [
       "<Figure size 432x288 with 1 Axes>"
      ]
     },
     "metadata": {
      "needs_background": "light"
     },
     "output_type": "display_data"
    }
   ],
   "source": [
    "print(df['region'].value_counts())\n",
    "sns.countplot(df['region'])\n",
    "plt.show()"
   ]
  },
  {
   "cell_type": "code",
   "execution_count": 11,
   "id": "7af9a8b3",
   "metadata": {},
   "outputs": [
    {
     "name": "stdout",
     "output_type": "stream",
     "text": [
      "male      676\n",
      "female    662\n",
      "Name: sex, dtype: int64\n"
     ]
    },
    {
     "data": {
      "image/png": "[encoded data removed]",
      "text/plain": [
       "<Figure size 432x288 with 1 Axes>"
      ]
     },
     "metadata": {
      "needs_background": "light"
     },
     "output_type": "display_data"
    }
   ],
   "source": [
    "print(df['sex'].value_counts())\n",
    "sns.countplot(df['sex'])\n",
    "plt.show()"
   ]
  },
  {
   "cell_type": "markdown",
   "id": "1031e48f",
   "metadata": {},
   "source": [
    "DATA SEEMS BALANCE IN TERM OF GENDER( SEX) AND REGION "
   ]
  },
  {
   "cell_type": "code",
   "execution_count": 13,
   "id": "ecdd69d9",
   "metadata": {},
   "outputs": [
    {
     "name": "stdout",
     "output_type": "stream",
     "text": [
      "no     1064\n",
      "yes     274\n",
      "Name: smoker, dtype: int64\n"
     ]
    },
    {
     "data": {
      "image/png": "[encoded data removed]",
      "text/plain": [
       "<Figure size 432x288 with 1 Axes>"
      ]
     },
     "metadata": {
      "needs_background": "light"
     },
     "output_type": "display_data"
    }
   ],
   "source": [
    "print(df['smoker'].value_counts())\n",
    "sns.countplot(df['smoker'])\n",
    "plt.show()"
   ]
  },
  {
   "cell_type": "code",
   "execution_count": null,
   "id": "c4c9df36",
   "metadata": {},
   "outputs": [],
   "source": []
  },
  {
   "cell_type": "code",
   "execution_count": 14,
   "id": "acb89e2f",
   "metadata": {},
   "outputs": [
    {
     "name": "stdout",
     "output_type": "stream",
     "text": [
      "0    574\n",
      "1    324\n",
      "2    240\n",
      "3    157\n",
      "4     25\n",
      "5     18\n",
      "Name: children, dtype: int64\n"
     ]
    },
    {
     "data": {
      "image/png": "[encoded data removed]",
      "text/plain": [
       "<Figure size 432x288 with 1 Axes>"
      ]
     },
     "metadata": {
      "needs_background": "light"
     },
     "output_type": "display_data"
    }
   ],
   "source": [
    "print(df['children'].value_counts())\n",
    "sns.countplot(df['children'])\n",
    "plt.show()"
   ]
  },
  {
   "cell_type": "code",
   "execution_count": null,
   "id": "50df35fb",
   "metadata": {},
   "outputs": [],
   "source": []
  },
  {
   "cell_type": "code",
   "execution_count": 16,
   "id": "594b340e",
   "metadata": {},
   "outputs": [
    {
     "data": {
      "image/png": "[encoded data removed]",
      "text/plain": [
       "<Figure size 432x288 with 1 Axes>"
      ]
     },
     "metadata": {
      "needs_background": "light"
     },
     "output_type": "display_data"
    }
   ],
   "source": [
    "df.corr()['charges'].drop(['charges']).sort_values().plot(kind='bar')\n",
    "plt.show()"
   ]
  },
  {
   "cell_type": "code",
   "execution_count": 17,
   "id": "bf539ea7",
   "metadata": {},
   "outputs": [
    {
     "data": {
      "image/png": "[encoded data removed]",
      "text/plain": [
       "<Figure size 576x576 with 2 Axes>"
      ]
     },
     "metadata": {
      "needs_background": "light"
     },
     "output_type": "display_data"
    }
   ],
   "source": [
    "plt.figure(figsize=(8,8))\n",
    "sns.heatmap(df.corr(),annot=True,annot_kws={'size':10})\n",
    "plt.show()"
   ]
  },
  {
   "cell_type": "code",
   "execution_count": 18,
   "id": "97d4d3d0",
   "metadata": {},
   "outputs": [
    {
     "data": {
      "image/png": "[encoded data removed]",
      "text/plain": [
       "<Figure size 432x288 with 1 Axes>"
      ]
     },
     "metadata": {
      "needs_background": "light"
     },
     "output_type": "display_data"
    }
   ],
   "source": [
    "sns.scatterplot(x=df['age'],y=df['charges'],hue=df['smoker'])\n",
    "plt.show()"
   ]
  },
  {
   "cell_type": "code",
   "execution_count": 19,
   "id": "5f163b95",
   "metadata": {},
   "outputs": [
    {
     "data": {
      "image/png": "[encoded data removed]",
      "text/plain": [
       "<Figure size 432x288 with 1 Axes>"
      ]
     },
     "metadata": {
      "needs_background": "light"
     },
     "output_type": "display_data"
    }
   ],
   "source": [
    "sns.scatterplot(x=df['bmi'],y=df['charges'],hue=df[\"smoker\"])\n",
    "plt.show()"
   ]
  },
  {
   "cell_type": "code",
   "execution_count": 20,
   "id": "c8f62a4d",
   "metadata": {},
   "outputs": [
    {
     "data": {
      "image/png": "[encoded data removed]",
      "text/plain": [
       "<Figure size 432x288 with 1 Axes>"
      ]
     },
     "metadata": {
      "needs_background": "light"
     },
     "output_type": "display_data"
    }
   ],
   "source": [
    "sns.barplot(x=df['sex'],y=df['charges'],hue=df['smoker'])\n",
    "plt.show()"
   ]
  },
  {
   "cell_type": "code",
   "execution_count": 22,
   "id": "912e8028",
   "metadata": {},
   "outputs": [
    {
     "data": {
      "image/png": "[encoded data removed]",
      "text/plain": [
       "<Figure size 432x288 with 1 Axes>"
      ]
     },
     "metadata": {
      "needs_background": "light"
     },
     "output_type": "display_data"
    }
   ],
   "source": [
    "sns.barplot(x=df['smoker'],y=df['charges'])\n",
    "plt.show()"
   ]
  },
  {
   "cell_type": "code",
   "execution_count": 23,
   "id": "032c26d1",
   "metadata": {},
   "outputs": [
    {
     "data": {
      "image/png": "[encoded data removed]",
      "text/plain": [
       "<Figure size 432x288 with 1 Axes>"
      ]
     },
     "metadata": {
      "needs_background": "light"
     },
     "output_type": "display_data"
    }
   ],
   "source": [
    "sns.barplot(x=df['sex'],y=df['charges'],hue=df['children'])\n",
    "plt.show()"
   ]
  },
  {
   "cell_type": "code",
   "execution_count": 24,
   "id": "4f80d00e",
   "metadata": {},
   "outputs": [
    {
     "data": {
      "image/png": "[encoded data removed]",
      "text/plain": [
       "<Figure size 432x288 with 1 Axes>"
      ]
     },
     "metadata": {
      "needs_background": "light"
     },
     "output_type": "display_data"
    }
   ],
   "source": [
    "sns.barplot(x=df['children'],y=df['charges'])\n",
    "plt.show()"
   ]
  },
  {
   "cell_type": "code",
   "execution_count": 25,
   "id": "36e1dc99",
   "metadata": {},
   "outputs": [
    {
     "data": {
      "text/html": [
       "<div>\n",
       "<style scoped>\n",
       "    .dataframe tbody tr th:only-of-type {\n",
       "        vertical-align: middle;\n",
       "    }\n",
       "\n",
       "    .dataframe tbody tr th {\n",
       "        vertical-align: top;\n",
       "    }\n",
       "\n",
       "    .dataframe thead th {\n",
       "        text-align: right;\n",
       "    }\n",
       "</style>\n",
       "<table border=\"1\" class=\"dataframe\">\n",
       "  <thead>\n",
       "    <tr style=\"text-align: right;\">\n",
       "      <th></th>\n",
       "      <th>sex_female</th>\n",
       "      <th>sex_male</th>\n",
       "      <th>smoker_no</th>\n",
       "      <th>smoker_yes</th>\n",
       "      <th>region_northeast</th>\n",
       "      <th>region_northwest</th>\n",
       "      <th>region_southeast</th>\n",
       "      <th>region_southwest</th>\n",
       "    </tr>\n",
       "  </thead>\n",
       "  <tbody>\n",
       "    <tr>\n",
       "      <th>0</th>\n",
       "      <td>1</td>\n",
       "      <td>0</td>\n",
       "      <td>0</td>\n",
       "      <td>1</td>\n",
       "      <td>0</td>\n",
       "      <td>0</td>\n",
       "      <td>0</td>\n",
       "      <td>1</td>\n",
       "    </tr>\n",
       "    <tr>\n",
       "      <th>1</th>\n",
       "      <td>0</td>\n",
       "      <td>1</td>\n",
       "      <td>1</td>\n",
       "      <td>0</td>\n",
       "      <td>0</td>\n",
       "      <td>0</td>\n",
       "      <td>1</td>\n",
       "      <td>0</td>\n",
       "    </tr>\n",
       "    <tr>\n",
       "      <th>2</th>\n",
       "      <td>0</td>\n",
       "      <td>1</td>\n",
       "      <td>1</td>\n",
       "      <td>0</td>\n",
       "      <td>0</td>\n",
       "      <td>0</td>\n",
       "      <td>1</td>\n",
       "      <td>0</td>\n",
       "    </tr>\n",
       "    <tr>\n",
       "      <th>3</th>\n",
       "      <td>0</td>\n",
       "      <td>1</td>\n",
       "      <td>1</td>\n",
       "      <td>0</td>\n",
       "      <td>0</td>\n",
       "      <td>1</td>\n",
       "      <td>0</td>\n",
       "      <td>0</td>\n",
       "    </tr>\n",
       "    <tr>\n",
       "      <th>4</th>\n",
       "      <td>0</td>\n",
       "      <td>1</td>\n",
       "      <td>1</td>\n",
       "      <td>0</td>\n",
       "      <td>0</td>\n",
       "      <td>1</td>\n",
       "      <td>0</td>\n",
       "      <td>0</td>\n",
       "    </tr>\n",
       "    <tr>\n",
       "      <th>...</th>\n",
       "      <td>...</td>\n",
       "      <td>...</td>\n",
       "      <td>...</td>\n",
       "      <td>...</td>\n",
       "      <td>...</td>\n",
       "      <td>...</td>\n",
       "      <td>...</td>\n",
       "      <td>...</td>\n",
       "    </tr>\n",
       "    <tr>\n",
       "      <th>1333</th>\n",
       "      <td>0</td>\n",
       "      <td>1</td>\n",
       "      <td>1</td>\n",
       "      <td>0</td>\n",
       "      <td>0</td>\n",
       "      <td>1</td>\n",
       "      <td>0</td>\n",
       "      <td>0</td>\n",
       "    </tr>\n",
       "    <tr>\n",
       "      <th>1334</th>\n",
       "      <td>1</td>\n",
       "      <td>0</td>\n",
       "      <td>1</td>\n",
       "      <td>0</td>\n",
       "      <td>1</td>\n",
       "      <td>0</td>\n",
       "      <td>0</td>\n",
       "      <td>0</td>\n",
       "    </tr>\n",
       "    <tr>\n",
       "      <th>1335</th>\n",
       "      <td>1</td>\n",
       "      <td>0</td>\n",
       "      <td>1</td>\n",
       "      <td>0</td>\n",
       "      <td>0</td>\n",
       "      <td>0</td>\n",
       "      <td>1</td>\n",
       "      <td>0</td>\n",
       "    </tr>\n",
       "    <tr>\n",
       "      <th>1336</th>\n",
       "      <td>1</td>\n",
       "      <td>0</td>\n",
       "      <td>1</td>\n",
       "      <td>0</td>\n",
       "      <td>0</td>\n",
       "      <td>0</td>\n",
       "      <td>0</td>\n",
       "      <td>1</td>\n",
       "    </tr>\n",
       "    <tr>\n",
       "      <th>1337</th>\n",
       "      <td>1</td>\n",
       "      <td>0</td>\n",
       "      <td>0</td>\n",
       "      <td>1</td>\n",
       "      <td>0</td>\n",
       "      <td>1</td>\n",
       "      <td>0</td>\n",
       "      <td>0</td>\n",
       "    </tr>\n",
       "  </tbody>\n",
       "</table>\n",
       "<p>1338 rows × 8 columns</p>\n",
       "</div>"
      ],
      "text/plain": [
       "      sex_female  sex_male  smoker_no  smoker_yes  region_northeast  \\\n",
       "0              1         0          0           1                 0   \n",
       "1              0         1          1           0                 0   \n",
       "2              0         1          1           0                 0   \n",
       "3              0         1          1           0                 0   \n",
       "4              0         1          1           0                 0   \n",
       "...          ...       ...        ...         ...               ...   \n",
       "1333           0         1          1           0                 0   \n",
       "1334           1         0          1           0                 1   \n",
       "1335           1         0          1           0                 0   \n",
       "1336           1         0          1           0                 0   \n",
       "1337           1         0          0           1                 0   \n",
       "\n",
       "      region_northwest  region_southeast  region_southwest  \n",
       "0                    0                 0                 1  \n",
       "1                    0                 1                 0  \n",
       "2                    0                 1                 0  \n",
       "3                    1                 0                 0  \n",
       "4                    1                 0                 0  \n",
       "...                ...               ...               ...  \n",
       "1333                 1                 0                 0  \n",
       "1334                 0                 0                 0  \n",
       "1335                 0                 1                 0  \n",
       "1336                 0                 0                 1  \n",
       "1337                 1                 0                 0  \n",
       "\n",
       "[1338 rows x 8 columns]"
      ]
     },
     "execution_count": 25,
     "metadata": {},
     "output_type": "execute_result"
    }
   ],
   "source": [
    "dt=pd.DataFrame(pd.get_dummies(df[['sex','smoker','region']]))\n",
    "dt"
   ]
  },
  {
   "cell_type": "code",
   "execution_count": 26,
   "id": "1ae76907",
   "metadata": {},
   "outputs": [
    {
     "data": {
      "text/html": [
       "<div>\n",
       "<style scoped>\n",
       "    .dataframe tbody tr th:only-of-type {\n",
       "        vertical-align: middle;\n",
       "    }\n",
       "\n",
       "    .dataframe tbody tr th {\n",
       "        vertical-align: top;\n",
       "    }\n",
       "\n",
       "    .dataframe thead th {\n",
       "        text-align: right;\n",
       "    }\n",
       "</style>\n",
       "<table border=\"1\" class=\"dataframe\">\n",
       "  <thead>\n",
       "    <tr style=\"text-align: right;\">\n",
       "      <th></th>\n",
       "      <th>age</th>\n",
       "      <th>sex</th>\n",
       "      <th>bmi</th>\n",
       "      <th>children</th>\n",
       "      <th>smoker</th>\n",
       "      <th>region</th>\n",
       "      <th>charges</th>\n",
       "      <th>sex_female</th>\n",
       "      <th>sex_male</th>\n",
       "      <th>smoker_no</th>\n",
       "      <th>smoker_yes</th>\n",
       "      <th>region_northeast</th>\n",
       "      <th>region_northwest</th>\n",
       "      <th>region_southeast</th>\n",
       "      <th>region_southwest</th>\n",
       "    </tr>\n",
       "  </thead>\n",
       "  <tbody>\n",
       "    <tr>\n",
       "      <th>0</th>\n",
       "      <td>19</td>\n",
       "      <td>female</td>\n",
       "      <td>27.900</td>\n",
       "      <td>0</td>\n",
       "      <td>yes</td>\n",
       "      <td>southwest</td>\n",
       "      <td>16884.92400</td>\n",
       "      <td>1</td>\n",
       "      <td>0</td>\n",
       "      <td>0</td>\n",
       "      <td>1</td>\n",
       "      <td>0</td>\n",
       "      <td>0</td>\n",
       "      <td>0</td>\n",
       "      <td>1</td>\n",
       "    </tr>\n",
       "    <tr>\n",
       "      <th>1</th>\n",
       "      <td>18</td>\n",
       "      <td>male</td>\n",
       "      <td>33.770</td>\n",
       "      <td>1</td>\n",
       "      <td>no</td>\n",
       "      <td>southeast</td>\n",
       "      <td>1725.55230</td>\n",
       "      <td>0</td>\n",
       "      <td>1</td>\n",
       "      <td>1</td>\n",
       "      <td>0</td>\n",
       "      <td>0</td>\n",
       "      <td>0</td>\n",
       "      <td>1</td>\n",
       "      <td>0</td>\n",
       "    </tr>\n",
       "    <tr>\n",
       "      <th>2</th>\n",
       "      <td>28</td>\n",
       "      <td>male</td>\n",
       "      <td>33.000</td>\n",
       "      <td>3</td>\n",
       "      <td>no</td>\n",
       "      <td>southeast</td>\n",
       "      <td>4449.46200</td>\n",
       "      <td>0</td>\n",
       "      <td>1</td>\n",
       "      <td>1</td>\n",
       "      <td>0</td>\n",
       "      <td>0</td>\n",
       "      <td>0</td>\n",
       "      <td>1</td>\n",
       "      <td>0</td>\n",
       "    </tr>\n",
       "    <tr>\n",
       "      <th>3</th>\n",
       "      <td>33</td>\n",
       "      <td>male</td>\n",
       "      <td>22.705</td>\n",
       "      <td>0</td>\n",
       "      <td>no</td>\n",
       "      <td>northwest</td>\n",
       "      <td>21984.47061</td>\n",
       "      <td>0</td>\n",
       "      <td>1</td>\n",
       "      <td>1</td>\n",
       "      <td>0</td>\n",
       "      <td>0</td>\n",
       "      <td>1</td>\n",
       "      <td>0</td>\n",
       "      <td>0</td>\n",
       "    </tr>\n",
       "    <tr>\n",
       "      <th>4</th>\n",
       "      <td>32</td>\n",
       "      <td>male</td>\n",
       "      <td>28.880</td>\n",
       "      <td>0</td>\n",
       "      <td>no</td>\n",
       "      <td>northwest</td>\n",
       "      <td>3866.85520</td>\n",
       "      <td>0</td>\n",
       "      <td>1</td>\n",
       "      <td>1</td>\n",
       "      <td>0</td>\n",
       "      <td>0</td>\n",
       "      <td>1</td>\n",
       "      <td>0</td>\n",
       "      <td>0</td>\n",
       "    </tr>\n",
       "  </tbody>\n",
       "</table>\n",
       "</div>"
      ],
      "text/plain": [
       "   age     sex     bmi  children smoker     region      charges  sex_female  \\\n",
       "0   19  female  27.900         0    yes  southwest  16884.92400           1   \n",
       "1   18    male  33.770         1     no  southeast   1725.55230           0   \n",
       "2   28    male  33.000         3     no  southeast   4449.46200           0   \n",
       "3   33    male  22.705         0     no  northwest  21984.47061           0   \n",
       "4   32    male  28.880         0     no  northwest   3866.85520           0   \n",
       "\n",
       "   sex_male  smoker_no  smoker_yes  region_northeast  region_northwest  \\\n",
       "0         0          0           1                 0                 0   \n",
       "1         1          1           0                 0                 0   \n",
       "2         1          1           0                 0                 0   \n",
       "3         1          1           0                 0                 1   \n",
       "4         1          1           0                 0                 1   \n",
       "\n",
       "   region_southeast  region_southwest  \n",
       "0                 0                 1  \n",
       "1                 1                 0  \n",
       "2                 1                 0  \n",
       "3                 0                 0  \n",
       "4                 0                 0  "
      ]
     },
     "execution_count": 26,
     "metadata": {},
     "output_type": "execute_result"
    }
   ],
   "source": [
    "df=pd.concat([df,dt],axis=1)\n",
    "df.head()"
   ]
  },
  {
   "cell_type": "code",
   "execution_count": 27,
   "id": "4fb6e574",
   "metadata": {},
   "outputs": [
    {
     "data": {
      "text/html": [
       "<div>\n",
       "<style scoped>\n",
       "    .dataframe tbody tr th:only-of-type {\n",
       "        vertical-align: middle;\n",
       "    }\n",
       "\n",
       "    .dataframe tbody tr th {\n",
       "        vertical-align: top;\n",
       "    }\n",
       "\n",
       "    .dataframe thead th {\n",
       "        text-align: right;\n",
       "    }\n",
       "</style>\n",
       "<table border=\"1\" class=\"dataframe\">\n",
       "  <thead>\n",
       "    <tr style=\"text-align: right;\">\n",
       "      <th></th>\n",
       "      <th>age</th>\n",
       "      <th>bmi</th>\n",
       "      <th>children</th>\n",
       "      <th>charges</th>\n",
       "      <th>sex_female</th>\n",
       "      <th>sex_male</th>\n",
       "      <th>smoker_no</th>\n",
       "      <th>smoker_yes</th>\n",
       "      <th>region_northeast</th>\n",
       "      <th>region_northwest</th>\n",
       "      <th>region_southeast</th>\n",
       "      <th>region_southwest</th>\n",
       "    </tr>\n",
       "  </thead>\n",
       "  <tbody>\n",
       "    <tr>\n",
       "      <th>0</th>\n",
       "      <td>19</td>\n",
       "      <td>27.900</td>\n",
       "      <td>0</td>\n",
       "      <td>16884.92400</td>\n",
       "      <td>1</td>\n",
       "      <td>0</td>\n",
       "      <td>0</td>\n",
       "      <td>1</td>\n",
       "      <td>0</td>\n",
       "      <td>0</td>\n",
       "      <td>0</td>\n",
       "      <td>1</td>\n",
       "    </tr>\n",
       "    <tr>\n",
       "      <th>1</th>\n",
       "      <td>18</td>\n",
       "      <td>33.770</td>\n",
       "      <td>1</td>\n",
       "      <td>1725.55230</td>\n",
       "      <td>0</td>\n",
       "      <td>1</td>\n",
       "      <td>1</td>\n",
       "      <td>0</td>\n",
       "      <td>0</td>\n",
       "      <td>0</td>\n",
       "      <td>1</td>\n",
       "      <td>0</td>\n",
       "    </tr>\n",
       "    <tr>\n",
       "      <th>2</th>\n",
       "      <td>28</td>\n",
       "      <td>33.000</td>\n",
       "      <td>3</td>\n",
       "      <td>4449.46200</td>\n",
       "      <td>0</td>\n",
       "      <td>1</td>\n",
       "      <td>1</td>\n",
       "      <td>0</td>\n",
       "      <td>0</td>\n",
       "      <td>0</td>\n",
       "      <td>1</td>\n",
       "      <td>0</td>\n",
       "    </tr>\n",
       "    <tr>\n",
       "      <th>3</th>\n",
       "      <td>33</td>\n",
       "      <td>22.705</td>\n",
       "      <td>0</td>\n",
       "      <td>21984.47061</td>\n",
       "      <td>0</td>\n",
       "      <td>1</td>\n",
       "      <td>1</td>\n",
       "      <td>0</td>\n",
       "      <td>0</td>\n",
       "      <td>1</td>\n",
       "      <td>0</td>\n",
       "      <td>0</td>\n",
       "    </tr>\n",
       "    <tr>\n",
       "      <th>4</th>\n",
       "      <td>32</td>\n",
       "      <td>28.880</td>\n",
       "      <td>0</td>\n",
       "      <td>3866.85520</td>\n",
       "      <td>0</td>\n",
       "      <td>1</td>\n",
       "      <td>1</td>\n",
       "      <td>0</td>\n",
       "      <td>0</td>\n",
       "      <td>1</td>\n",
       "      <td>0</td>\n",
       "      <td>0</td>\n",
       "    </tr>\n",
       "  </tbody>\n",
       "</table>\n",
       "</div>"
      ],
      "text/plain": [
       "   age     bmi  children      charges  sex_female  sex_male  smoker_no  \\\n",
       "0   19  27.900         0  16884.92400           1         0          0   \n",
       "1   18  33.770         1   1725.55230           0         1          1   \n",
       "2   28  33.000         3   4449.46200           0         1          1   \n",
       "3   33  22.705         0  21984.47061           0         1          1   \n",
       "4   32  28.880         0   3866.85520           0         1          1   \n",
       "\n",
       "   smoker_yes  region_northeast  region_northwest  region_southeast  \\\n",
       "0           1                 0                 0                 0   \n",
       "1           0                 0                 0                 1   \n",
       "2           0                 0                 0                 1   \n",
       "3           0                 0                 1                 0   \n",
       "4           0                 0                 1                 0   \n",
       "\n",
       "   region_southwest  \n",
       "0                 1  \n",
       "1                 0  \n",
       "2                 0  \n",
       "3                 0  \n",
       "4                 0  "
      ]
     },
     "execution_count": 27,
     "metadata": {},
     "output_type": "execute_result"
    }
   ],
   "source": [
    "df.drop(['sex','smoker','region'],axis=1,inplace=True)\n",
    "df.head()"
   ]
  },
  {
   "cell_type": "code",
   "execution_count": 28,
   "id": "8c2e4911",
   "metadata": {},
   "outputs": [
    {
     "data": {
      "image/png": "[encoded data removed]",
      "text/plain": [
       "<Figure size 432x288 with 1 Axes>"
      ]
     },
     "metadata": {
      "needs_background": "light"
     },
     "output_type": "display_data"
    }
   ],
   "source": [
    "# checking for outliers\n",
    "sns.boxplot(y=df['age'])\n",
    "plt.ylabel('age')\n",
    "plt.show()"
   ]
  },
  {
   "cell_type": "markdown",
   "id": "38e2351d",
   "metadata": {},
   "source": [
    "No Outliers present"
   ]
  },
  {
   "cell_type": "code",
   "execution_count": 29,
   "id": "537fcca2",
   "metadata": {},
   "outputs": [
    {
     "data": {
      "image/png": "[encoded data removed]",
      "text/plain": [
       "<Figure size 432x288 with 1 Axes>"
      ]
     },
     "metadata": {
      "needs_background": "light"
     },
     "output_type": "display_data"
    }
   ],
   "source": [
    "sns.boxplot(y=df['bmi'])\n",
    "plt.ylabel('bmi')\n",
    "plt.show()"
   ]
  },
  {
   "cell_type": "markdown",
   "id": "c59d468f",
   "metadata": {},
   "source": [
    "outliers are present , need to controle"
   ]
  },
  {
   "cell_type": "code",
   "execution_count": 30,
   "id": "f17159a3",
   "metadata": {},
   "outputs": [
    {
     "data": {
      "text/plain": [
       "(1338, 12)"
      ]
     },
     "execution_count": 30,
     "metadata": {},
     "output_type": "execute_result"
    }
   ],
   "source": [
    "#Trying to manage outlier using Zscore\n",
    "\n",
    "from scipy.stats import zscore\n",
    "z=np.abs(zscore(df))\n",
    "df.shape"
   ]
  },
  {
   "cell_type": "code",
   "execution_count": 31,
   "id": "aa6200cc",
   "metadata": {},
   "outputs": [
    {
     "data": {
      "text/plain": [
       "(1309, 12)"
      ]
     },
     "execution_count": 31,
     "metadata": {},
     "output_type": "execute_result"
    }
   ],
   "source": [
    "df=df[(z<3).all(axis=1)]\n",
    "df.shape"
   ]
  },
  {
   "cell_type": "code",
   "execution_count": 34,
   "id": "554fe844",
   "metadata": {},
   "outputs": [
    {
     "data": {
      "text/plain": [
       "2.167414050822123"
      ]
     },
     "execution_count": 34,
     "metadata": {},
     "output_type": "execute_result"
    }
   ],
   "source": [
    "#LOSS IN DATA AFTER HANDLING THE OUTLIERS\n",
    "\n",
    "(1338-1309)/1338*100"
   ]
  },
  {
   "cell_type": "code",
   "execution_count": 35,
   "id": "f12abc5a",
   "metadata": {},
   "outputs": [
    {
     "data": {
      "image/png": "[encoded data removed]",
      "text/plain": [
       "<Figure size 432x288 with 1 Axes>"
      ]
     },
     "metadata": {
      "needs_background": "light"
     },
     "output_type": "display_data"
    }
   ],
   "source": [
    "#Plot after data loss\n",
    "\n",
    "sns.boxplot(y=df['bmi'])\n",
    "plt.ylabel('bmi')\n",
    "plt.show()"
   ]
  },
  {
   "cell_type": "code",
   "execution_count": 36,
   "id": "b5c04444",
   "metadata": {},
   "outputs": [
    {
     "data": {
      "image/png": "[encoded data removed]",
      "text/plain": [
       "<Figure size 432x288 with 1 Axes>"
      ]
     },
     "metadata": {
      "needs_background": "light"
     },
     "output_type": "display_data"
    }
   ],
   "source": [
    "# Checking for the distribution of BMI\n",
    "sns.distplot(df['bmi'])\n",
    "plt.xlabel('BMI')\n",
    "plt.show()"
   ]
  },
  {
   "cell_type": "markdown",
   "id": "1e2cd036",
   "metadata": {},
   "source": [
    "Normal distribution can be seen in BMI"
   ]
  },
  {
   "cell_type": "code",
   "execution_count": 37,
   "id": "d72d2614",
   "metadata": {},
   "outputs": [
    {
     "data": {
      "image/png": "[encoded data removed]",
      "text/plain": [
       "<Figure size 432x288 with 1 Axes>"
      ]
     },
     "metadata": {
      "needs_background": "light"
     },
     "output_type": "display_data"
    }
   ],
   "source": [
    "sns.distplot(df['age'])\n",
    "plt.xlabel('age')\n",
    "plt.show()"
   ]
  },
  {
   "cell_type": "code",
   "execution_count": 38,
   "id": "dc8e12bf",
   "metadata": {},
   "outputs": [
    {
     "data": {
      "text/plain": [
       "Index(['age', 'bmi', 'children', 'charges', 'sex_female', 'sex_male',\n",
       "       'smoker_no', 'smoker_yes', 'region_northeast', 'region_northwest',\n",
       "       'region_southeast', 'region_southwest'],\n",
       "      dtype='object')"
      ]
     },
     "execution_count": 38,
     "metadata": {},
     "output_type": "execute_result"
    }
   ],
   "source": [
    "df.columns"
   ]
  },
  {
   "cell_type": "code",
   "execution_count": 39,
   "id": "2ff5b208",
   "metadata": {},
   "outputs": [],
   "source": [
    "# Removing charges column from other features as this is our lable/ Target\n",
    "\n",
    "x=df.drop(['charges'],axis=1)\n",
    "y=df['charges']"
   ]
  },
  {
   "cell_type": "markdown",
   "id": "adcb30b2",
   "metadata": {},
   "source": [
    "Now Standerdising Our Feature Using Power Transformer"
   ]
  },
  {
   "cell_type": "code",
   "execution_count": 40,
   "id": "27e44c86",
   "metadata": {},
   "outputs": [],
   "source": [
    "from sklearn.preprocessing import StandardScaler\n",
    "pt=StandardScaler()\n",
    "df_scaled=pd.DataFrame(pt.fit_transform(df),columns=df.columns)\n",
    "x_scaled=df_scaled.drop(['charges'],axis=1)\n",
    "y=df_scaled['charges']"
   ]
  },
  {
   "cell_type": "code",
   "execution_count": 41,
   "id": "8feab69e",
   "metadata": {},
   "outputs": [
    {
     "data": {
      "image/png": "[encoded data removed]",
      "text/plain": [
       "<Figure size 432x288 with 1 Axes>"
      ]
     },
     "metadata": {
      "needs_background": "light"
     },
     "output_type": "display_data"
    }
   ],
   "source": [
    "sns.distplot(x_scaled['age'])\n",
    "plt.xlabel('age')\n",
    "plt.show()"
   ]
  },
  {
   "cell_type": "code",
   "execution_count": 42,
   "id": "b3bdbdcf",
   "metadata": {},
   "outputs": [
    {
     "data": {
      "text/html": [
       "<div>\n",
       "<style scoped>\n",
       "    .dataframe tbody tr th:only-of-type {\n",
       "        vertical-align: middle;\n",
       "    }\n",
       "\n",
       "    .dataframe tbody tr th {\n",
       "        vertical-align: top;\n",
       "    }\n",
       "\n",
       "    .dataframe thead th {\n",
       "        text-align: right;\n",
       "    }\n",
       "</style>\n",
       "<table border=\"1\" class=\"dataframe\">\n",
       "  <thead>\n",
       "    <tr style=\"text-align: right;\">\n",
       "      <th></th>\n",
       "      <th>features</th>\n",
       "      <th>scores</th>\n",
       "    </tr>\n",
       "  </thead>\n",
       "  <tbody>\n",
       "    <tr>\n",
       "      <th>0</th>\n",
       "      <td>age</td>\n",
       "      <td>1.020798</td>\n",
       "    </tr>\n",
       "    <tr>\n",
       "      <th>1</th>\n",
       "      <td>bmi</td>\n",
       "      <td>1.105513</td>\n",
       "    </tr>\n",
       "    <tr>\n",
       "      <th>2</th>\n",
       "      <td>children</td>\n",
       "      <td>1.008207</td>\n",
       "    </tr>\n",
       "  </tbody>\n",
       "</table>\n",
       "</div>"
      ],
      "text/plain": [
       "   features    scores\n",
       "0       age  1.020798\n",
       "1       bmi  1.105513\n",
       "2  children  1.008207"
      ]
     },
     "execution_count": 42,
     "metadata": {},
     "output_type": "execute_result"
    }
   ],
   "source": [
    "#Checking for the multicollinearity Using VIF \n",
    "\n",
    "from statsmodels.stats.outliers_influence import variance_inflation_factor\n",
    "vif=pd.DataFrame()\n",
    "vif['features']=x_scaled.columns\n",
    "vif['scores']=[variance_inflation_factor(x_scaled,i) for i in range(x_scaled.shape[1])]\n",
    "vif[:3]"
   ]
  },
  {
   "cell_type": "markdown",
   "id": "65e8bdee",
   "metadata": {},
   "source": [
    "No multicollinearity found"
   ]
  },
  {
   "cell_type": "code",
   "execution_count": 43,
   "id": "652a0933",
   "metadata": {},
   "outputs": [],
   "source": [
    "from sklearn.preprocessing import StandardScaler\n",
    "pt=StandardScaler()\n",
    "from statsmodels.stats.outliers_influence import variance_inflation_factor\n",
    "from sklearn.model_selection import train_test_split,cross_val_score\n",
    "from sklearn.linear_model import LinearRegression\n",
    "from sklearn.metrics import r2_score\n",
    "from sklearn.metrics import mean_squared_error,mean_absolute_error\n",
    "from sklearn.tree import DecisionTreeRegressor\n",
    "from sklearn.tree import DecisionTreeRegressor\n",
    "dt=DecisionTreeRegressor()\n",
    "from sklearn.model_selection import GridSearchCV\n",
    "from sklearn.neighbors import KNeighborsRegressor\n",
    "knr=KNeighborsRegressor()\n",
    "from sklearn.ensemble import AdaBoostRegressor\n",
    "adr=AdaBoostRegressor()\n",
    "from sklearn.ensemble import RandomForestRegressor\n",
    "rfr=RandomForestRegressor()\n",
    "from sklearn.svm import SVR\n",
    "svr=SVR()"
   ]
  },
  {
   "cell_type": "markdown",
   "id": "6670f196",
   "metadata": {},
   "source": [
    "SPILIITING THE DATA INTO TRAIN AND TEST"
   ]
  },
  {
   "cell_type": "code",
   "execution_count": 44,
   "id": "c2bbca52",
   "metadata": {},
   "outputs": [
    {
     "name": "stdout",
     "output_type": "stream",
     "text": [
      "\n",
      "\n",
      "AT RANDOM STATE-- 198\n",
      "\n",
      "\n",
      "TRAINING ACCURACY IS -75.27--AND TESTING ACCURACY IS 75.29\n",
      "\n",
      "\n",
      "AT RANDOM STATE-- 286\n",
      "\n",
      "\n",
      "TRAINING ACCURACY IS -75.25--AND TESTING ACCURACY IS 75.26\n",
      "\n",
      "\n",
      "AT RANDOM STATE-- 404\n",
      "\n",
      "\n",
      "TRAINING ACCURACY IS -75.26--AND TESTING ACCURACY IS 75.25\n",
      "\n",
      "\n",
      "AT RANDOM STATE-- 664\n",
      "\n",
      "\n",
      "TRAINING ACCURACY IS -75.29--AND TESTING ACCURACY IS 75.31\n",
      "\n",
      "\n",
      "AT RANDOM STATE-- 764\n",
      "\n",
      "\n",
      "TRAINING ACCURACY IS -75.29--AND TESTING ACCURACY IS 75.3\n"
     ]
    }
   ],
   "source": [
    "for i in range (0,1000):\n",
    "    x_train,x_test,y_train,y_test=train_test_split(x_scaled,y,test_size=0.20,random_state=i)\n",
    "    lr=LinearRegression()\n",
    "    lr.fit(x_train,y_train)\n",
    "    lr_train_pred=lr.predict(x_train)\n",
    "    lr_test_pred=lr.predict(x_test)\n",
    "    lr_train_accuracy=r2_score(y_train,lr_train_pred)\n",
    "    lr_test_accuracy=r2_score(y_test,lr_test_pred)\n",
    "    if(round(lr_train_accuracy*100,1)==round(lr_test_accuracy*100,1)):\n",
    "        print('\\n\\nAT RANDOM STATE--',i)\n",
    "        print(f'\\n\\nTRAINING ACCURACY IS -{round((lr_train_accuracy)*100,2)}--AND TESTING ACCURACY IS {round((lr_test_accuracy)*100,2)}')\n",
    "        "
   ]
  },
  {
   "cell_type": "code",
   "execution_count": 45,
   "id": "e46360a9",
   "metadata": {},
   "outputs": [],
   "source": [
    "x_train,x_test,y_train,y_test=train_test_split(x_scaled,y,random_state=404,test_size=0.20)"
   ]
  },
  {
   "cell_type": "markdown",
   "id": "8c287adf",
   "metadata": {},
   "source": [
    "### 1 ) LINEAR REGRATION MODEL"
   ]
  },
  {
   "cell_type": "code",
   "execution_count": 46,
   "id": "5468adeb",
   "metadata": {},
   "outputs": [
    {
     "data": {
      "text/plain": [
       "LinearRegression()"
      ]
     },
     "execution_count": 46,
     "metadata": {},
     "output_type": "execute_result"
    }
   ],
   "source": [
    "lr.fit(x_train,y_train)"
   ]
  },
  {
   "cell_type": "markdown",
   "id": "6338d69d",
   "metadata": {},
   "source": [
    "Checking for the overfitting using CV Score"
   ]
  },
  {
   "cell_type": "code",
   "execution_count": 47,
   "id": "a3fa57ce",
   "metadata": {},
   "outputs": [],
   "source": [
    "from sklearn.metrics import mean_squared_error,mean_absolute_error\n",
    "def score(mod,x_train,x_test,y_train,y_test,train):\n",
    "    n=x_train.shape[0]\n",
    "    p=6\n",
    "    if (train==True):\n",
    "        mod.fit(x_train,y_train)\n",
    "        y_pred=mod.predict(x_train)\n",
    "        accuracy=r2_score(y_train,y_pred)\n",
    "        mse=mean_squared_error(y_train,y_pred)\n",
    "        mae=mean_absolute_error(y_train,y_pred)\n",
    "        rsme=np.sqrt(mse)\n",
    "        print(f\"\\n\\nTraining SCORE FOR THE {mod} is {round(accuracy*100,2)}\")\n",
    "        print('\\nmean sqaured error is --',mse)\n",
    "        print('\\nmean sqaured error is --',mse)\n",
    "        print('\\nroot mean sqaured error is --',rsme)\n",
    "        print('\\nmean aboslute error is --',mae)\n",
    "        print('\\ndifference between rmse and mae is ',rsme-mae)\n",
    "    elif(train==False):\n",
    "        mod.fit(x_train,y_train)\n",
    "        y_pred=mod.predict(x_test)\n",
    "        accuracy=r2_score(y_test,y_pred)\n",
    "        cross_val=cross_val_score(mod,x_scaled,y,cv=4).mean()\n",
    "        ad_r=1-(1-accuracy)*(n-1)/(n-p-1)\n",
    "        mse=mean_squared_error(y_test,y_pred)\n",
    "        mae=mean_absolute_error(y_test,y_pred)\n",
    "        rsme=np.sqrt(mse)\n",
    "        print(f\"\\n\\nTesting SCORE FOR THE {mod} is {round(accuracy*100,2)}\")\n",
    "        print('\\n\\nCROSS VAL SCORE IS --',cross_val)\n",
    "        print(f\"\\nadjusted r2_score for {mod} is {round(ad_r*100,2)}\")\n",
    "        print('\\nmean sqaured error is --',mse)\n",
    "        print('\\nmean aboslute error is -',mae)\n",
    "        print('\\nroot mean sqaured error is --',rsme)\n",
    "        print('\\nmean aboslute error is --',mae)\n",
    "        print('\\ndifference between rmse and mae is ',rsme-mae)"
   ]
  },
  {
   "cell_type": "code",
   "execution_count": 48,
   "id": "98bf4a18",
   "metadata": {},
   "outputs": [
    {
     "name": "stdout",
     "output_type": "stream",
     "text": [
      "\n",
      "\n",
      "Training SCORE FOR THE LinearRegression() is 75.26\n",
      "\n",
      "mean sqaured error is -- 0.2478840783740981\n",
      "\n",
      "mean sqaured error is -- 0.2478840783740981\n",
      "\n",
      "root mean sqaured error is -- 0.497879582202462\n",
      "\n",
      "mean aboslute error is -- 0.34742908363190594\n",
      "\n",
      "difference between rmse and mae is  0.15045049857055603\n",
      "\n",
      "\n",
      "Testing SCORE FOR THE LinearRegression() is 75.25\n",
      "\n",
      "\n",
      "CROSS VAL SCORE IS -- 0.7443822826157359\n",
      "\n",
      "adjusted r2_score for LinearRegression() is 75.11\n",
      "\n",
      "mean sqaured error is -- 0.24519360057127834\n",
      "\n",
      "mean aboslute error is - 0.36133911918863626\n",
      "\n",
      "root mean sqaured error is -- 0.49517027432114535\n",
      "\n",
      "mean aboslute error is -- 0.36133911918863626\n",
      "\n",
      "difference between rmse and mae is  0.1338311551325091\n"
     ]
    }
   ],
   "source": [
    "score(lr,x_train,x_test,y_train,y_test,train=True)\n",
    "score(lr,x_train,x_test,y_train,y_test,train=False)"
   ]
  },
  {
   "cell_type": "markdown",
   "id": "8b60c6c1",
   "metadata": {},
   "source": [
    "### DT(DECISION TREE MODEL)"
   ]
  },
  {
   "cell_type": "code",
   "execution_count": 49,
   "id": "a8ca47c3",
   "metadata": {},
   "outputs": [
    {
     "name": "stdout",
     "output_type": "stream",
     "text": [
      "\n",
      "\n",
      "Training SCORE FOR THE DecisionTreeRegressor() is 99.95\n",
      "\n",
      "mean sqaured error is -- 0.0005420746571114759\n",
      "\n",
      "mean sqaured error is -- 0.0005420746571114759\n",
      "\n",
      "root mean sqaured error is -- 0.02328249679719673\n",
      "\n",
      "mean aboslute error is -- 0.001017586200513548\n",
      "\n",
      "difference between rmse and mae is  0.02226491059668318\n",
      "\n",
      "\n",
      "Testing SCORE FOR THE DecisionTreeRegressor() is 70.71\n",
      "\n",
      "\n",
      "CROSS VAL SCORE IS -- 0.6906286724312403\n",
      "\n",
      "adjusted r2_score for DecisionTreeRegressor() is 70.54\n",
      "\n",
      "mean sqaured error is -- 0.2902255910604393\n",
      "\n",
      "mean aboslute error is - 0.2599329305336331\n",
      "\n",
      "root mean sqaured error is -- 0.5387258960366016\n",
      "\n",
      "mean aboslute error is -- 0.2599329305336331\n",
      "\n",
      "difference between rmse and mae is  0.2787929655029685\n"
     ]
    }
   ],
   "source": [
    "score(dt,x_train,x_test,y_train,y_test,train=True)\n",
    "score(dt,x_train,x_test,y_train,y_test,train=False)"
   ]
  },
  {
   "cell_type": "markdown",
   "id": "405006f0",
   "metadata": {},
   "source": [
    "HYPERTUING THE PARAMETERS"
   ]
  },
  {
   "cell_type": "code",
   "execution_count": 50,
   "id": "c348026e",
   "metadata": {},
   "outputs": [
    {
     "data": {
      "text/plain": [
       "GridSearchCV(estimator=DecisionTreeRegressor(),\n",
       "             param_grid={'criterion': ['squared_error', 'friedman_mse',\n",
       "                                       'absolute_error'],\n",
       "                         'min_samples_split': array([2, 3, 4]),\n",
       "                         'random_state': [404, 350, 234, 210, 198],\n",
       "                         'splitter': ['best', 'random']})"
      ]
     },
     "execution_count": 50,
     "metadata": {},
     "output_type": "execute_result"
    }
   ],
   "source": [
    "param={'criterion':[\"squared_error\", \"friedman_mse\", \"absolute_error\"],\n",
    "      'splitter':[\"best\", \"random\"],\n",
    "      'min_samples_split':np.arange(2,5),\n",
    "      'random_state':[404,350,234,210,198]}\n",
    "from sklearn.model_selection import GridSearchCV\n",
    "lgs=GridSearchCV(dt,param_grid=param)\n",
    "lgs.fit(x_train,y_train)"
   ]
  },
  {
   "cell_type": "code",
   "execution_count": 51,
   "id": "df53a48c",
   "metadata": {},
   "outputs": [
    {
     "data": {
      "text/plain": [
       "{'criterion': 'squared_error',\n",
       " 'min_samples_split': 4,\n",
       " 'random_state': 210,\n",
       " 'splitter': 'random'}"
      ]
     },
     "execution_count": 51,
     "metadata": {},
     "output_type": "execute_result"
    }
   ],
   "source": [
    "lgs.best_params_"
   ]
  },
  {
   "cell_type": "code",
   "execution_count": 52,
   "id": "eb9af8aa",
   "metadata": {},
   "outputs": [
    {
     "data": {
      "text/plain": [
       "DecisionTreeRegressor(min_samples_split=4, random_state=210, splitter='random')"
      ]
     },
     "execution_count": 52,
     "metadata": {},
     "output_type": "execute_result"
    }
   ],
   "source": [
    "dt=DecisionTreeRegressor(criterion='squared_error',min_samples_split=4,random_state=210,splitter='random')\n",
    "dt.fit(x_train,y_train)"
   ]
  },
  {
   "cell_type": "code",
   "execution_count": 53,
   "id": "79c95d14",
   "metadata": {},
   "outputs": [
    {
     "name": "stdout",
     "output_type": "stream",
     "text": [
      "\n",
      "\n",
      "Training SCORE FOR THE DecisionTreeRegressor(min_samples_split=4, random_state=210, splitter='random') is 95.64\n",
      "\n",
      "mean sqaured error is -- 0.04366224723785679\n",
      "\n",
      "mean sqaured error is -- 0.04366224723785679\n",
      "\n",
      "root mean sqaured error is -- 0.20895513211657854\n",
      "\n",
      "mean aboslute error is -- 0.07842913549845144\n",
      "\n",
      "difference between rmse and mae is  0.13052599661812708\n",
      "\n",
      "\n",
      "Testing SCORE FOR THE DecisionTreeRegressor(min_samples_split=4, random_state=210, splitter='random') is 79.01\n",
      "\n",
      "\n",
      "CROSS VAL SCORE IS -- 0.7167479345632357\n",
      "\n",
      "adjusted r2_score for DecisionTreeRegressor(min_samples_split=4, random_state=210, splitter='random') is 78.89\n",
      "\n",
      "mean sqaured error is -- 0.20794533154537842\n",
      "\n",
      "mean aboslute error is - 0.21809692009372444\n",
      "\n",
      "root mean sqaured error is -- 0.45601023184285944\n",
      "\n",
      "mean aboslute error is -- 0.21809692009372444\n",
      "\n",
      "difference between rmse and mae is  0.237913311749135\n"
     ]
    }
   ],
   "source": [
    "score(dt,x_train,x_test,y_train,y_test,train=True)\n",
    "score(dt,x_train,x_test,y_train,y_test,train=False)"
   ]
  },
  {
   "cell_type": "code",
   "execution_count": 54,
   "id": "48a3001b",
   "metadata": {},
   "outputs": [],
   "source": [
    "dt=DecisionTreeRegressor()"
   ]
  },
  {
   "cell_type": "code",
   "execution_count": 55,
   "id": "14108eac",
   "metadata": {},
   "outputs": [
    {
     "data": {
      "text/plain": [
       "GridSearchCV(estimator=DecisionTreeRegressor(),\n",
       "             param_grid={'criterion': ['squared_error', 'friedman_mse',\n",
       "                                       'absolute_error'],\n",
       "                         'max_depth': array([20, 21, 22, 23, 24]),\n",
       "                         'min_samples_split': array([4, 5, 6]),\n",
       "                         'random_state': [404, 350, 234, 210, 198],\n",
       "                         'splitter': ['best', 'random']})"
      ]
     },
     "execution_count": 55,
     "metadata": {},
     "output_type": "execute_result"
    }
   ],
   "source": [
    "pp={'criterion':[\"squared_error\", \"friedman_mse\", \"absolute_error\"],\n",
    "      'splitter':[\"best\", \"random\"],\n",
    "      'min_samples_split':np.arange(4,7),\n",
    "    \n",
    "      'random_state':[404,350,234,210,198],\n",
    "    'max_depth':np.arange(20,25)}\n",
    "                                    \n",
    "lgp=GridSearchCV(dt,param_grid=pp)\n",
    "lgp.fit(x_train,y_train)"
   ]
  },
  {
   "cell_type": "code",
   "execution_count": 56,
   "id": "50be4081",
   "metadata": {},
   "outputs": [
    {
     "data": {
      "text/plain": [
       "{'criterion': 'squared_error',\n",
       " 'max_depth': 20,\n",
       " 'min_samples_split': 6,\n",
       " 'random_state': 210,\n",
       " 'splitter': 'random'}"
      ]
     },
     "execution_count": 56,
     "metadata": {},
     "output_type": "execute_result"
    }
   ],
   "source": [
    "lgp.best_params_"
   ]
  },
  {
   "cell_type": "code",
   "execution_count": 57,
   "id": "aeccd661",
   "metadata": {},
   "outputs": [
    {
     "data": {
      "text/plain": [
       "DecisionTreeRegressor(max_depth=20, min_samples_split=6, random_state=210,\n",
       "                      splitter='random')"
      ]
     },
     "execution_count": 57,
     "metadata": {},
     "output_type": "execute_result"
    }
   ],
   "source": [
    "dt=lgp.best_estimator_\n",
    "dt.fit(x_train,y_train)"
   ]
  },
  {
   "cell_type": "code",
   "execution_count": 58,
   "id": "ca9f44f3",
   "metadata": {},
   "outputs": [
    {
     "name": "stdout",
     "output_type": "stream",
     "text": [
      "\n",
      "\n",
      "Training SCORE FOR THE DecisionTreeRegressor(max_depth=20, min_samples_split=6, random_state=210,\n",
      "                      splitter='random') is 93.21\n",
      "\n",
      "mean sqaured error is -- 0.068063708684634\n",
      "\n",
      "mean sqaured error is -- 0.068063708684634\n",
      "\n",
      "root mean sqaured error is -- 0.26089022343628365\n",
      "\n",
      "mean aboslute error is -- 0.12254337630909762\n",
      "\n",
      "difference between rmse and mae is  0.13834684712718603\n",
      "\n",
      "\n",
      "Testing SCORE FOR THE DecisionTreeRegressor(max_depth=20, min_samples_split=6, random_state=210,\n",
      "                      splitter='random') is 82.38\n",
      "\n",
      "\n",
      "CROSS VAL SCORE IS -- 0.7817812492543875\n",
      "\n",
      "adjusted r2_score for DecisionTreeRegressor(max_depth=20, min_samples_split=6, random_state=210,\n",
      "                      splitter='random') is 82.28\n",
      "\n",
      "mean sqaured error is -- 0.17456844055485557\n",
      "\n",
      "mean aboslute error is - 0.2188514855359163\n",
      "\n",
      "root mean sqaured error is -- 0.4178138826736799\n",
      "\n",
      "mean aboslute error is -- 0.2188514855359163\n",
      "\n",
      "difference between rmse and mae is  0.19896239713776362\n"
     ]
    }
   ],
   "source": [
    "score(dt,x_train,x_test,y_train,y_test,train=True)\n",
    "score(dt,x_train,x_test,y_train,y_test,train=False)"
   ]
  },
  {
   "cell_type": "markdown",
   "id": "fe2510dc",
   "metadata": {},
   "source": [
    " TUNING THE PARAMETERS AGAIN"
   ]
  },
  {
   "cell_type": "code",
   "execution_count": 59,
   "id": "a631efea",
   "metadata": {},
   "outputs": [
    {
     "data": {
      "text/plain": [
       "GridSearchCV(estimator=DecisionTreeRegressor(),\n",
       "             param_grid={'criterion': ['squared_error', 'friedman_mse',\n",
       "                                       'absolute_error'],\n",
       "                         'max_depth': array([28, 29, 30, 31]),\n",
       "                         'min_samples_leaf': array([3, 4, 5]),\n",
       "                         'min_samples_split': array([2, 3, 4]),\n",
       "                         'random_state': [404, 350, 234, 210, 198],\n",
       "                         'splitter': ['best', 'random']})"
      ]
     },
     "execution_count": 59,
     "metadata": {},
     "output_type": "execute_result"
    }
   ],
   "source": [
    "dt=DecisionTreeRegressor()\n",
    "ppo={'criterion':[\"squared_error\", \"friedman_mse\", \"absolute_error\"],\n",
    "      'splitter':[\"best\", \"random\"],\n",
    "      'min_samples_split':np.arange(2,5),\n",
    "    'min_samples_leaf':np.arange(3,6),\n",
    "    'random_state':[404,350,234,210,198],\n",
    "    'max_depth':np.arange(28,32)}\n",
    "                           \n",
    "lgt=GridSearchCV(dt,param_grid=ppo)\n",
    "lgt.fit(x_train,y_train)"
   ]
  },
  {
   "cell_type": "code",
   "execution_count": 60,
   "id": "4f05e7a6",
   "metadata": {},
   "outputs": [
    {
     "data": {
      "text/plain": [
       "{'criterion': 'absolute_error',\n",
       " 'max_depth': 28,\n",
       " 'min_samples_leaf': 4,\n",
       " 'min_samples_split': 2,\n",
       " 'random_state': 210,\n",
       " 'splitter': 'random'}"
      ]
     },
     "execution_count": 60,
     "metadata": {},
     "output_type": "execute_result"
    }
   ],
   "source": [
    "lgt.best_params_"
   ]
  },
  {
   "cell_type": "code",
   "execution_count": 61,
   "id": "5f015f6f",
   "metadata": {},
   "outputs": [
    {
     "data": {
      "text/plain": [
       "DecisionTreeRegressor(criterion='absolute_error', max_depth=28,\n",
       "                      min_samples_leaf=4, random_state=210, splitter='random')"
      ]
     },
     "execution_count": 61,
     "metadata": {},
     "output_type": "execute_result"
    }
   ],
   "source": [
    "dt=lgt.best_estimator_\n",
    "dt.fit(x_train,y_train)"
   ]
  },
  {
   "cell_type": "code",
   "execution_count": 62,
   "id": "df6285b8",
   "metadata": {},
   "outputs": [
    {
     "name": "stdout",
     "output_type": "stream",
     "text": [
      "\n",
      "\n",
      "Training SCORE FOR THE DecisionTreeRegressor(criterion='absolute_error', max_depth=28,\n",
      "                      min_samples_leaf=4, random_state=210, splitter='random') is 86.23\n",
      "\n",
      "mean sqaured error is -- 0.1379283788533897\n",
      "\n",
      "mean sqaured error is -- 0.1379283788533897\n",
      "\n",
      "root mean sqaured error is -- 0.37138710108644013\n",
      "\n",
      "mean aboslute error is -- 0.1313246960564449\n",
      "\n",
      "difference between rmse and mae is  0.24006240502999524\n",
      "\n",
      "\n",
      "Testing SCORE FOR THE DecisionTreeRegressor(criterion='absolute_error', max_depth=28,\n",
      "                      min_samples_leaf=4, random_state=210, splitter='random') is 86.32\n",
      "\n",
      "\n",
      "CROSS VAL SCORE IS -- 0.8293608366558658\n",
      "\n",
      "adjusted r2_score for DecisionTreeRegressor(criterion='absolute_error', max_depth=28,\n",
      "                      min_samples_leaf=4, random_state=210, splitter='random') is 86.24\n",
      "\n",
      "mean sqaured error is -- 0.13558270148735704\n",
      "\n",
      "mean aboslute error is - 0.14590436711680266\n",
      "\n",
      "root mean sqaured error is -- 0.36821556388528315\n",
      "\n",
      "mean aboslute error is -- 0.14590436711680266\n",
      "\n",
      "difference between rmse and mae is  0.2223111967684805\n"
     ]
    }
   ],
   "source": [
    "score(dt,x_train,x_test,y_train,y_test,train=True)\n",
    "score(dt,x_train,x_test,y_train,y_test,train=False)"
   ]
  },
  {
   "cell_type": "markdown",
   "id": "48bdebdd",
   "metadata": {},
   "source": [
    "#### ADABOOST REGRESSOR"
   ]
  },
  {
   "cell_type": "code",
   "execution_count": 63,
   "id": "4959e569",
   "metadata": {},
   "outputs": [
    {
     "data": {
      "text/plain": [
       "AdaBoostRegressor()"
      ]
     },
     "execution_count": 63,
     "metadata": {},
     "output_type": "execute_result"
    }
   ],
   "source": [
    "adr.fit(x_train,y_train)"
   ]
  },
  {
   "cell_type": "code",
   "execution_count": 64,
   "id": "0c7ae584",
   "metadata": {},
   "outputs": [
    {
     "name": "stdout",
     "output_type": "stream",
     "text": [
      "\n",
      "\n",
      "Training SCORE FOR THE AdaBoostRegressor() is 82.99\n",
      "\n",
      "mean sqaured error is -- 0.17047936876935899\n",
      "\n",
      "mean sqaured error is -- 0.17047936876935899\n",
      "\n",
      "root mean sqaured error is -- 0.4128914733551166\n",
      "\n",
      "mean aboslute error is -- 0.3326889789767901\n",
      "\n",
      "difference between rmse and mae is  0.0802024943783265\n",
      "\n",
      "\n",
      "Testing SCORE FOR THE AdaBoostRegressor() is 84.05\n",
      "\n",
      "\n",
      "CROSS VAL SCORE IS -- 0.8143020873207987\n",
      "\n",
      "adjusted r2_score for AdaBoostRegressor() is 83.96\n",
      "\n",
      "mean sqaured error is -- 0.15805916997910627\n",
      "\n",
      "mean aboslute error is - 0.3003658465258427\n",
      "\n",
      "root mean sqaured error is -- 0.3975665604387601\n",
      "\n",
      "mean aboslute error is -- 0.3003658465258427\n",
      "\n",
      "difference between rmse and mae is  0.0972007139129174\n"
     ]
    }
   ],
   "source": [
    "score(adr,x_train,x_test,y_train,y_test,train=True)\n",
    "score(adr,x_train,x_test,y_train,y_test,train=False)"
   ]
  },
  {
   "cell_type": "markdown",
   "id": "fa02fb38",
   "metadata": {},
   "source": [
    "Accuracies are quite good enough and also the difference between RMSE and MAE"
   ]
  },
  {
   "cell_type": "code",
   "execution_count": 65,
   "id": "af5624fc",
   "metadata": {},
   "outputs": [
    {
     "data": {
      "text/plain": [
       "dict_keys(['base_estimator', 'learning_rate', 'loss', 'n_estimators', 'random_state'])"
      ]
     },
     "execution_count": 65,
     "metadata": {},
     "output_type": "execute_result"
    }
   ],
   "source": [
    "#Hyper parameter tuning\n",
    "adr.get_params().keys()"
   ]
  },
  {
   "cell_type": "code",
   "execution_count": 66,
   "id": "ea10d197",
   "metadata": {},
   "outputs": [
    {
     "data": {
      "text/plain": [
       "GridSearchCV(estimator=AdaBoostRegressor(),\n",
       "             param_grid={'learning_rate': [0.001, 0.025, 0.03],\n",
       "                         'n_estimators': [48, 52, 60, 72],\n",
       "                         'random_state': [232, 345, 678]})"
      ]
     },
     "execution_count": 66,
     "metadata": {},
     "output_type": "execute_result"
    }
   ],
   "source": [
    "para={\n",
    "     'n_estimators':[48,52,60,72],\n",
    "     'learning_rate':[0.001,0.025,0.03],\n",
    "     'random_state':[232,345,678]}\n",
    "ags=GridSearchCV(adr,param_grid=para)\n",
    "ags.fit(x_train,y_train)"
   ]
  },
  {
   "cell_type": "code",
   "execution_count": 67,
   "id": "e94dec48",
   "metadata": {},
   "outputs": [
    {
     "data": {
      "text/plain": [
       "{'learning_rate': 0.001, 'n_estimators': 48, 'random_state': 678}"
      ]
     },
     "execution_count": 67,
     "metadata": {},
     "output_type": "execute_result"
    }
   ],
   "source": [
    "ags.best_params_"
   ]
  },
  {
   "cell_type": "code",
   "execution_count": 68,
   "id": "fa17642b",
   "metadata": {},
   "outputs": [
    {
     "name": "stdout",
     "output_type": "stream",
     "text": [
      "\n",
      "\n",
      "Training SCORE FOR THE AdaBoostRegressor(learning_rate=0.001, n_estimators=48, random_state=678) is 85.79\n",
      "\n",
      "mean sqaured error is -- 0.14233756747172752\n",
      "\n",
      "mean sqaured error is -- 0.14233756747172752\n",
      "\n",
      "root mean sqaured error is -- 0.3772765132786926\n",
      "\n",
      "mean aboslute error is -- 0.21956904096970548\n",
      "\n",
      "difference between rmse and mae is  0.15770747230898713\n",
      "\n",
      "\n",
      "Testing SCORE FOR THE AdaBoostRegressor(learning_rate=0.001, n_estimators=48, random_state=678) is 86.33\n",
      "\n",
      "\n",
      "CROSS VAL SCORE IS -- 0.8428641644492507\n",
      "\n",
      "adjusted r2_score for AdaBoostRegressor(learning_rate=0.001, n_estimators=48, random_state=678) is 86.25\n",
      "\n",
      "mean sqaured error is -- 0.13542816612611824\n",
      "\n",
      "mean aboslute error is - 0.21812495559676381\n",
      "\n",
      "root mean sqaured error is -- 0.36800566045390964\n",
      "\n",
      "mean aboslute error is -- 0.21812495559676381\n",
      "\n",
      "difference between rmse and mae is  0.14988070485714583\n"
     ]
    }
   ],
   "source": [
    "adr=ags.best_estimator_\n",
    "score(adr,x_train,x_test,y_train,y_test,train=True)\n",
    "score(adr,x_train,x_test,y_train,y_test,train=False)"
   ]
  },
  {
   "cell_type": "code",
   "execution_count": 69,
   "id": "7fd1d26c",
   "metadata": {},
   "outputs": [
    {
     "data": {
      "text/plain": [
       "GridSearchCV(estimator=AdaBoostRegressor(),\n",
       "             param_grid={'learning_rate': [0.001, 0.025, 0.03, 0.003, 0.18,\n",
       "                                           0.4],\n",
       "                         'n_estimators': [55, 52, 60, 72, 68, 70],\n",
       "                         'random_state': [232, 345, 678]})"
      ]
     },
     "execution_count": 69,
     "metadata": {},
     "output_type": "execute_result"
    }
   ],
   "source": [
    "# TUNING THE PARAMETERS AGAIN\n",
    "\n",
    "\n",
    "adr=AdaBoostRegressor()\n",
    "pa={\n",
    "     'n_estimators':[55,52,60,72,68,70],\n",
    "     'learning_rate':[0.001,0.025,0.03,0.0030,0.18,0.40],\n",
    "     'random_state':[232,345,678]}\n",
    "agv=GridSearchCV(adr,param_grid=pa)\n",
    "agv.fit(x_train,y_train)"
   ]
  },
  {
   "cell_type": "code",
   "execution_count": 70,
   "id": "a3d57b1f",
   "metadata": {},
   "outputs": [
    {
     "data": {
      "text/plain": [
       "{'learning_rate': 0.001, 'n_estimators': 60, 'random_state': 678}"
      ]
     },
     "execution_count": 70,
     "metadata": {},
     "output_type": "execute_result"
    }
   ],
   "source": [
    "agv.best_params_"
   ]
  },
  {
   "cell_type": "code",
   "execution_count": 71,
   "id": "f23afab4",
   "metadata": {},
   "outputs": [
    {
     "data": {
      "text/plain": [
       "AdaBoostRegressor(learning_rate=0.001, n_estimators=60, random_state=678)"
      ]
     },
     "execution_count": 71,
     "metadata": {},
     "output_type": "execute_result"
    }
   ],
   "source": [
    "adr=agv.best_estimator_\n",
    "adr.fit(x_train,y_train)"
   ]
  },
  {
   "cell_type": "code",
   "execution_count": 72,
   "id": "145ae144",
   "metadata": {},
   "outputs": [
    {
     "name": "stdout",
     "output_type": "stream",
     "text": [
      "\n",
      "\n",
      "Training SCORE FOR THE AdaBoostRegressor(learning_rate=0.001, n_estimators=60, random_state=678) is 85.88\n",
      "\n",
      "mean sqaured error is -- 0.14148879496955796\n",
      "\n",
      "mean sqaured error is -- 0.14148879496955796\n",
      "\n",
      "root mean sqaured error is -- 0.3761499634049669\n",
      "\n",
      "mean aboslute error is -- 0.22137941074007741\n",
      "\n",
      "difference between rmse and mae is  0.1547705526648895\n",
      "\n",
      "\n",
      "Testing SCORE FOR THE AdaBoostRegressor(learning_rate=0.001, n_estimators=60, random_state=678) is 86.33\n",
      "\n",
      "\n",
      "CROSS VAL SCORE IS -- 0.842499673140725\n",
      "\n",
      "adjusted r2_score for AdaBoostRegressor(learning_rate=0.001, n_estimators=60, random_state=678) is 86.25\n",
      "\n",
      "mean sqaured error is -- 0.13548824604898188\n",
      "\n",
      "mean aboslute error is - 0.2201404819176317\n",
      "\n",
      "root mean sqaured error is -- 0.3680872804770383\n",
      "\n",
      "mean aboslute error is -- 0.2201404819176317\n",
      "\n",
      "difference between rmse and mae is  0.14794679855940662\n"
     ]
    }
   ],
   "source": [
    "score(adr,x_train,x_test,y_train,y_test,train=True)\n",
    "score(adr,x_train,x_test,y_train,y_test,train=False)"
   ]
  },
  {
   "cell_type": "markdown",
   "id": "d803555e",
   "metadata": {},
   "source": [
    "#### RANDOM FOREST REGRESSOR"
   ]
  },
  {
   "cell_type": "code",
   "execution_count": 73,
   "id": "b3cac12e",
   "metadata": {},
   "outputs": [
    {
     "data": {
      "text/plain": [
       "RandomForestRegressor()"
      ]
     },
     "execution_count": 73,
     "metadata": {},
     "output_type": "execute_result"
    }
   ],
   "source": [
    "rfr.fit(x_train,y_train)"
   ]
  },
  {
   "cell_type": "code",
   "execution_count": 74,
   "id": "986b1f11",
   "metadata": {},
   "outputs": [
    {
     "name": "stdout",
     "output_type": "stream",
     "text": [
      "\n",
      "\n",
      "Training SCORE FOR THE RandomForestRegressor() is 97.58\n",
      "\n",
      "mean sqaured error is -- 0.024208403936943776\n",
      "\n",
      "mean sqaured error is -- 0.024208403936943776\n",
      "\n",
      "root mean sqaured error is -- 0.15559050079276618\n",
      "\n",
      "mean aboslute error is -- 0.08217724430003541\n",
      "\n",
      "difference between rmse and mae is  0.07341325649273077\n",
      "\n",
      "\n",
      "Testing SCORE FOR THE RandomForestRegressor() is 85.29\n",
      "\n",
      "\n",
      "CROSS VAL SCORE IS -- 0.8296691851011303\n",
      "\n",
      "adjusted r2_score for RandomForestRegressor() is 85.2\n",
      "\n",
      "mean sqaured error is -- 0.14577955421306474\n",
      "\n",
      "mean aboslute error is - 0.20888295193344317\n",
      "\n",
      "root mean sqaured error is -- 0.38181088802320023\n",
      "\n",
      "mean aboslute error is -- 0.20888295193344317\n",
      "\n",
      "difference between rmse and mae is  0.17292793608975707\n"
     ]
    }
   ],
   "source": [
    "score(rfr,x_train,x_test,y_train,y_test,train=True)\n",
    "score(rfr,x_train,x_test,y_train,y_test,train=False)"
   ]
  },
  {
   "cell_type": "code",
   "execution_count": 75,
   "id": "7778c3d0",
   "metadata": {},
   "outputs": [
    {
     "data": {
      "text/plain": [
       "GridSearchCV(estimator=RandomForestRegressor(),\n",
       "             param_grid={'criterion': ['squared_error', 'absolute_error',\n",
       "                                       'poisson'],\n",
       "                         'max_depth': [25, 28, 30],\n",
       "                         'min_samples_split': [2, 3, 5],\n",
       "                         'n_estimators': [60, 72, 82]})"
      ]
     },
     "execution_count": 75,
     "metadata": {},
     "output_type": "execute_result"
    }
   ],
   "source": [
    "### Hyper parameter tuning \n",
    "\n",
    "rfr=RandomForestRegressor()\n",
    "par={\"n_estimators\":[60,72,82],\n",
    "     \"criterion\":[\"squared_error\", \"absolute_error\", \"poisson\"],\n",
    "     \"max_depth\":[25,28,30],\n",
    "     \"min_samples_split\":[2,3,5]}\n",
    "rgs=GridSearchCV(rfr,param_grid=par)\n",
    "rgs.fit(x_train,y_train)    "
   ]
  },
  {
   "cell_type": "code",
   "execution_count": 76,
   "id": "4a4e0a27",
   "metadata": {},
   "outputs": [
    {
     "data": {
      "text/plain": [
       "{'criterion': 'squared_error',\n",
       " 'max_depth': 30,\n",
       " 'min_samples_split': 5,\n",
       " 'n_estimators': 60}"
      ]
     },
     "execution_count": 76,
     "metadata": {},
     "output_type": "execute_result"
    }
   ],
   "source": [
    "rgs.best_params_"
   ]
  },
  {
   "cell_type": "code",
   "execution_count": 77,
   "id": "15aa144f",
   "metadata": {},
   "outputs": [],
   "source": [
    "rfr=rgs.best_estimator_\n"
   ]
  },
  {
   "cell_type": "code",
   "execution_count": 78,
   "id": "9a27acd8",
   "metadata": {},
   "outputs": [
    {
     "name": "stdout",
     "output_type": "stream",
     "text": [
      "\n",
      "\n",
      "Training SCORE FOR THE RandomForestRegressor(max_depth=30, min_samples_split=5, n_estimators=60) is 95.25\n",
      "\n",
      "mean sqaured error is -- 0.04760604944275184\n",
      "\n",
      "mean sqaured error is -- 0.04760604944275184\n",
      "\n",
      "root mean sqaured error is -- 0.21818810563995425\n",
      "\n",
      "mean aboslute error is -- 0.11711005591228228\n",
      "\n",
      "difference between rmse and mae is  0.10107804972767197\n",
      "\n",
      "\n",
      "Testing SCORE FOR THE RandomForestRegressor(max_depth=30, min_samples_split=5, n_estimators=60) is 85.53\n",
      "\n",
      "\n",
      "CROSS VAL SCORE IS -- 0.833851022818846\n",
      "\n",
      "adjusted r2_score for RandomForestRegressor(max_depth=30, min_samples_split=5, n_estimators=60) is 85.45\n",
      "\n",
      "mean sqaured error is -- 0.14334979770933068\n",
      "\n",
      "mean aboslute error is - 0.21085226244040342\n",
      "\n",
      "root mean sqaured error is -- 0.3786156332077833\n",
      "\n",
      "mean aboslute error is -- 0.21085226244040342\n",
      "\n",
      "difference between rmse and mae is  0.16776337076737988\n"
     ]
    }
   ],
   "source": [
    "score(rfr,x_train,x_test,y_train,y_test,train=True)\n",
    "score(rfr,x_train,x_test,y_train,y_test,train=False)"
   ]
  },
  {
   "cell_type": "markdown",
   "id": "e077a8d7",
   "metadata": {},
   "source": [
    "### KNN Regression"
   ]
  },
  {
   "cell_type": "code",
   "execution_count": 79,
   "id": "1b12ac1b",
   "metadata": {},
   "outputs": [
    {
     "data": {
      "text/plain": [
       "KNeighborsRegressor()"
      ]
     },
     "execution_count": 79,
     "metadata": {},
     "output_type": "execute_result"
    }
   ],
   "source": [
    "knr.fit(x_train,y_train)"
   ]
  },
  {
   "cell_type": "code",
   "execution_count": 80,
   "id": "5ce7830e",
   "metadata": {},
   "outputs": [
    {
     "name": "stdout",
     "output_type": "stream",
     "text": [
      "\n",
      "\n",
      "Training SCORE FOR THE KNeighborsRegressor() is 85.57\n",
      "\n",
      "mean sqaured error is -- 0.1445480074748102\n",
      "\n",
      "mean sqaured error is -- 0.1445480074748102\n",
      "\n",
      "root mean sqaured error is -- 0.38019469679995566\n",
      "\n",
      "mean aboslute error is -- 0.23175075282186852\n",
      "\n",
      "difference between rmse and mae is  0.14844394397808713\n",
      "\n",
      "\n",
      "Testing SCORE FOR THE KNeighborsRegressor() is 79.92\n",
      "\n",
      "\n",
      "CROSS VAL SCORE IS -- 0.7795267037403737\n",
      "\n",
      "adjusted r2_score for KNeighborsRegressor() is 79.8\n",
      "\n",
      "mean sqaured error is -- 0.1989626342933944\n",
      "\n",
      "mean aboslute error is - 0.2801964958386552\n",
      "\n",
      "root mean sqaured error is -- 0.44605227753414106\n",
      "\n",
      "mean aboslute error is -- 0.2801964958386552\n",
      "\n",
      "difference between rmse and mae is  0.16585578169548587\n"
     ]
    }
   ],
   "source": [
    "score(knr,x_train,x_test,y_train,y_test,train=True)\n",
    "score(knr,x_train,x_test,y_train,y_test,train=False)"
   ]
  },
  {
   "cell_type": "code",
   "execution_count": 81,
   "id": "4d152b51",
   "metadata": {},
   "outputs": [
    {
     "data": {
      "text/plain": [
       "dict_keys(['algorithm', 'leaf_size', 'metric', 'metric_params', 'n_jobs', 'n_neighbors', 'p', 'weights'])"
      ]
     },
     "execution_count": 81,
     "metadata": {},
     "output_type": "execute_result"
    }
   ],
   "source": [
    "knr.get_params().keys()"
   ]
  },
  {
   "cell_type": "code",
   "execution_count": 82,
   "id": "93117251",
   "metadata": {},
   "outputs": [
    {
     "data": {
      "text/plain": [
       "GridSearchCV(estimator=KNeighborsRegressor(),\n",
       "             param_grid={'algorithm': ['auto', 'ball_tree', 'kd_tree', 'brute'],\n",
       "                         'leaf_size': array([25, 26, 27, 28, 29, 30, 31, 32, 33, 34]),\n",
       "                         'n_neighbors': array([3, 4, 5]),\n",
       "                         'weights': ['uniform', 'distance']})"
      ]
     },
     "execution_count": 82,
     "metadata": {},
     "output_type": "execute_result"
    }
   ],
   "source": [
    "pl={\"n_neighbors\":np.arange(3,6),\n",
    "   \"weights\":['uniform', 'distance'],\n",
    "   \"algorithm\":['auto', 'ball_tree', 'kd_tree', 'brute'],\n",
    "    'leaf_size':np.arange(25,35)}\n",
    "kgs=GridSearchCV(knr,param_grid=pl)\n",
    "kgs.fit(x_train,y_train)"
   ]
  },
  {
   "cell_type": "code",
   "execution_count": 83,
   "id": "e73c2b18",
   "metadata": {},
   "outputs": [
    {
     "data": {
      "text/plain": [
       "{'algorithm': 'auto', 'leaf_size': 25, 'n_neighbors': 5, 'weights': 'distance'}"
      ]
     },
     "execution_count": 83,
     "metadata": {},
     "output_type": "execute_result"
    }
   ],
   "source": [
    "kgs.best_params_"
   ]
  },
  {
   "cell_type": "code",
   "execution_count": 84,
   "id": "c8ae26a2",
   "metadata": {},
   "outputs": [
    {
     "data": {
      "text/plain": [
       "KNeighborsRegressor(leaf_size=25, weights='distance')"
      ]
     },
     "execution_count": 84,
     "metadata": {},
     "output_type": "execute_result"
    }
   ],
   "source": [
    "knr=kgs.best_estimator_\n",
    "knr.fit(x_train,y_train)"
   ]
  },
  {
   "cell_type": "code",
   "execution_count": 85,
   "id": "afbc58b9",
   "metadata": {},
   "outputs": [
    {
     "name": "stdout",
     "output_type": "stream",
     "text": [
      "\n",
      "\n",
      "Training SCORE FOR THE KNeighborsRegressor(leaf_size=25, weights='distance') is 99.95\n",
      "\n",
      "mean sqaured error is -- 0.0005420746571114759\n",
      "\n",
      "mean sqaured error is -- 0.0005420746571114759\n",
      "\n",
      "root mean sqaured error is -- 0.02328249679719673\n",
      "\n",
      "mean aboslute error is -- 0.001017586200513548\n",
      "\n",
      "difference between rmse and mae is  0.02226491059668318\n",
      "\n",
      "\n",
      "Testing SCORE FOR THE KNeighborsRegressor(leaf_size=25, weights='distance') is 80.76\n",
      "\n",
      "\n",
      "CROSS VAL SCORE IS -- 0.7800359596861659\n",
      "\n",
      "adjusted r2_score for KNeighborsRegressor(leaf_size=25, weights='distance') is 80.65\n",
      "\n",
      "mean sqaured error is -- 0.19059199143527736\n",
      "\n",
      "mean aboslute error is - 0.26446994194926987\n",
      "\n",
      "root mean sqaured error is -- 0.43656842697941106\n",
      "\n",
      "mean aboslute error is -- 0.26446994194926987\n",
      "\n",
      "difference between rmse and mae is  0.1720984850301412\n"
     ]
    }
   ],
   "source": [
    "score(knr,x_train,x_test,y_train,y_test,train=True)\n",
    "score(knr,x_train,x_test,y_train,y_test,train=False)"
   ]
  },
  {
   "cell_type": "code",
   "execution_count": 86,
   "id": "c9c587f9",
   "metadata": {},
   "outputs": [
    {
     "data": {
      "text/plain": [
       "GridSearchCV(estimator=KNeighborsRegressor(),\n",
       "             param_grid={'algorithm': ['auto', 'ball_tree', 'kd_tree', 'brute'],\n",
       "                         'leaf_size': array([40, 41, 42, 43, 44, 45, 46, 47, 48, 49]),\n",
       "                         'n_neighbors': array([2, 3, 4]),\n",
       "                         'weights': ['uniform', 'distance']})"
      ]
     },
     "execution_count": 86,
     "metadata": {},
     "output_type": "execute_result"
    }
   ],
   "source": [
    "#Parameter tunning\n",
    "\n",
    "knr=KNeighborsRegressor()\n",
    "pu={\"n_neighbors\":np.arange(2,5),\n",
    "   \"weights\":['uniform', 'distance'],\n",
    "   \"algorithm\":['auto', 'ball_tree', 'kd_tree', 'brute'],\n",
    "    'leaf_size':np.arange(40,50)}\n",
    "kgsv=GridSearchCV(knr,param_grid=pu)\n",
    "kgsv.fit(x_train,y_train)"
   ]
  },
  {
   "cell_type": "code",
   "execution_count": 87,
   "id": "0f647c5d",
   "metadata": {},
   "outputs": [
    {
     "data": {
      "text/plain": [
       "{'algorithm': 'auto', 'leaf_size': 25, 'n_neighbors': 5, 'weights': 'distance'}"
      ]
     },
     "execution_count": 87,
     "metadata": {},
     "output_type": "execute_result"
    }
   ],
   "source": [
    "kgs.best_params_"
   ]
  },
  {
   "cell_type": "code",
   "execution_count": 88,
   "id": "0781d40f",
   "metadata": {},
   "outputs": [
    {
     "name": "stdout",
     "output_type": "stream",
     "text": [
      "\n",
      "\n",
      "Training SCORE FOR THE KNeighborsRegressor(leaf_size=25, weights='distance') is 99.95\n",
      "\n",
      "mean sqaured error is -- 0.0005420746571114759\n",
      "\n",
      "mean sqaured error is -- 0.0005420746571114759\n",
      "\n",
      "root mean sqaured error is -- 0.02328249679719673\n",
      "\n",
      "mean aboslute error is -- 0.001017586200513548\n",
      "\n",
      "difference between rmse and mae is  0.02226491059668318\n",
      "\n",
      "\n",
      "Testing SCORE FOR THE KNeighborsRegressor(leaf_size=25, weights='distance') is 80.76\n",
      "\n",
      "\n",
      "CROSS VAL SCORE IS -- 0.7800359596861659\n",
      "\n",
      "adjusted r2_score for KNeighborsRegressor(leaf_size=25, weights='distance') is 80.65\n",
      "\n",
      "mean sqaured error is -- 0.19059199143527736\n",
      "\n",
      "mean aboslute error is - 0.26446994194926987\n",
      "\n",
      "root mean sqaured error is -- 0.43656842697941106\n",
      "\n",
      "mean aboslute error is -- 0.26446994194926987\n",
      "\n",
      "difference between rmse and mae is  0.1720984850301412\n"
     ]
    }
   ],
   "source": [
    "knr=kgs.best_estimator_\n",
    "score(knr,x_train,x_test,y_train,y_test,train=True)\n",
    "score(knr,x_train,x_test,y_train,y_test,train=False)"
   ]
  },
  {
   "cell_type": "markdown",
   "id": "68e34eda",
   "metadata": {},
   "source": [
    "### SVR model"
   ]
  },
  {
   "cell_type": "code",
   "execution_count": 89,
   "id": "ff0bf348",
   "metadata": {},
   "outputs": [
    {
     "data": {
      "text/plain": [
       "SVR()"
      ]
     },
     "execution_count": 89,
     "metadata": {},
     "output_type": "execute_result"
    }
   ],
   "source": [
    "svr.fit(x_train,y_train)"
   ]
  },
  {
   "cell_type": "code",
   "execution_count": 90,
   "id": "bb178f2a",
   "metadata": {},
   "outputs": [
    {
     "name": "stdout",
     "output_type": "stream",
     "text": [
      "\n",
      "\n",
      "Training SCORE FOR THE SVR() is 85.21\n",
      "\n",
      "mean sqaured error is -- 0.14817782826485498\n",
      "\n",
      "mean sqaured error is -- 0.14817782826485498\n",
      "\n",
      "root mean sqaured error is -- 0.3849387331314621\n",
      "\n",
      "mean aboslute error is -- 0.20114481127572523\n",
      "\n",
      "difference between rmse and mae is  0.18379392185573687\n",
      "\n",
      "\n",
      "Testing SCORE FOR THE SVR() is 85.75\n",
      "\n",
      "\n",
      "CROSS VAL SCORE IS -- 0.8350259492314208\n",
      "\n",
      "adjusted r2_score for SVR() is 85.66\n",
      "\n",
      "mean sqaured error is -- 0.14123324994196662\n",
      "\n",
      "mean aboslute error is - 0.2044143565973356\n",
      "\n",
      "root mean sqaured error is -- 0.3758101248529191\n",
      "\n",
      "mean aboslute error is -- 0.2044143565973356\n",
      "\n",
      "difference between rmse and mae is  0.1713957682555835\n"
     ]
    }
   ],
   "source": [
    "score(svr,x_train,x_test,y_train,y_test,train=True)\n",
    "score(svr,x_train,x_test,y_train,y_test,train=False)"
   ]
  },
  {
   "cell_type": "markdown",
   "id": "491566ad",
   "metadata": {},
   "source": [
    "### Hyper parameter Tunning"
   ]
  },
  {
   "cell_type": "code",
   "execution_count": 91,
   "id": "fdd96090",
   "metadata": {},
   "outputs": [
    {
     "data": {
      "text/plain": [
       "GridSearchCV(estimator=SVR(),\n",
       "             param_grid={'epsilon': [0.1, 0.2, 0.3], 'gamma': ['scale', 'auto'],\n",
       "                         'shrinking': [True, False]})"
      ]
     },
     "execution_count": 91,
     "metadata": {},
     "output_type": "execute_result"
    }
   ],
   "source": [
    "parm={\"epsilon\":[0.1,0.2,0.3],\n",
    "      \"shrinking\":[True,False],\n",
    "      \"gamma\":['scale', 'auto']}\n",
    "sgs=GridSearchCV(svr,param_grid=parm)\n",
    "sgs.fit(x_train,y_train)"
   ]
  },
  {
   "cell_type": "code",
   "execution_count": 92,
   "id": "08d83a53",
   "metadata": {},
   "outputs": [
    {
     "data": {
      "text/plain": [
       "{'epsilon': 0.2, 'gamma': 'scale', 'shrinking': True}"
      ]
     },
     "execution_count": 92,
     "metadata": {},
     "output_type": "execute_result"
    }
   ],
   "source": [
    "sgs.best_params_"
   ]
  },
  {
   "cell_type": "code",
   "execution_count": 93,
   "id": "cd94e532",
   "metadata": {},
   "outputs": [
    {
     "data": {
      "text/plain": [
       "SVR(epsilon=0.2)"
      ]
     },
     "execution_count": 93,
     "metadata": {},
     "output_type": "execute_result"
    }
   ],
   "source": [
    "svr=sgs.best_estimator_\n",
    "svr.fit(x_train,y_train)"
   ]
  },
  {
   "cell_type": "code",
   "execution_count": 94,
   "id": "c3b77fdc",
   "metadata": {},
   "outputs": [
    {
     "name": "stdout",
     "output_type": "stream",
     "text": [
      "\n",
      "\n",
      "Training SCORE FOR THE SVR(epsilon=0.2) is 84.93\n",
      "\n",
      "mean sqaured error is -- 0.15102922249516557\n",
      "\n",
      "mean sqaured error is -- 0.15102922249516557\n",
      "\n",
      "root mean sqaured error is -- 0.3886247836862255\n",
      "\n",
      "mean aboslute error is -- 0.2690708499231839\n",
      "\n",
      "difference between rmse and mae is  0.11955393376304158\n",
      "\n",
      "\n",
      "Testing SCORE FOR THE SVR(epsilon=0.2) is 85.46\n",
      "\n",
      "\n",
      "CROSS VAL SCORE IS -- 0.8322932231148538\n",
      "\n",
      "adjusted r2_score for SVR(epsilon=0.2) is 85.37\n",
      "\n",
      "mean sqaured error is -- 0.14409288262969364\n",
      "\n",
      "mean aboslute error is - 0.2700408910460119\n",
      "\n",
      "root mean sqaured error is -- 0.37959568310202585\n",
      "\n",
      "mean aboslute error is -- 0.2700408910460119\n",
      "\n",
      "difference between rmse and mae is  0.10955479205601393\n"
     ]
    }
   ],
   "source": [
    "score(svr,x_train,x_test,y_train,y_test,train=True)\n",
    "score(svr,x_train,x_test,y_train,y_test,train=False)"
   ]
  },
  {
   "cell_type": "code",
   "execution_count": 95,
   "id": "e46b6961",
   "metadata": {},
   "outputs": [
    {
     "name": "stdout",
     "output_type": "stream",
     "text": [
      "\n",
      "\n",
      "Training SCORE FOR THE SVR(epsilon=0.2) is 84.93\n",
      "\n",
      "mean sqaured error is -- 0.15102922249516557\n",
      "\n",
      "mean sqaured error is -- 0.15102922249516557\n",
      "\n",
      "root mean sqaured error is -- 0.3886247836862255\n",
      "\n",
      "mean aboslute error is -- 0.2690708499231839\n",
      "\n",
      "difference between rmse and mae is  0.11955393376304158\n",
      "\n",
      "\n",
      "Testing SCORE FOR THE SVR(epsilon=0.2) is 85.46\n",
      "\n",
      "\n",
      "CROSS VAL SCORE IS -- 0.8322932231148538\n",
      "\n",
      "adjusted r2_score for SVR(epsilon=0.2) is 85.37\n",
      "\n",
      "mean sqaured error is -- 0.14409288262969364\n",
      "\n",
      "mean aboslute error is - 0.2700408910460119\n",
      "\n",
      "root mean sqaured error is -- 0.37959568310202585\n",
      "\n",
      "mean aboslute error is -- 0.2700408910460119\n",
      "\n",
      "difference between rmse and mae is  0.10955479205601393\n"
     ]
    }
   ],
   "source": [
    "score(svr,x_train,x_test,y_train,y_test,train=True)\n",
    "score(svr,x_train,x_test,y_train,y_test,train=False)"
   ]
  },
  {
   "cell_type": "markdown",
   "id": "571756c0",
   "metadata": {},
   "source": [
    "### CONSLUSION--\n",
    "#### As We can clearly see that the TRaining and Testing REsult are much closer in case of Adaboost Regression and also the differance between RSME and MAE are very less \n",
    "#### So here Adaboot is our final prefered model\n"
   ]
  },
  {
   "cell_type": "code",
   "execution_count": null,
   "id": "11280242",
   "metadata": {},
   "outputs": [],
   "source": []
  }
 ],
 "metadata": {
  "kernelspec": {
   "display_name": "Python 3 (ipykernel)",
   "language": "python",
   "name": "python3"
  },
  "language_info": {
   "codemirror_mode": {
    "name": "ipython",
    "version": 3
   },
   "file_extension": ".py",
   "mimetype": "text/x-python",
   "name": "python",
   "nbconvert_exporter": "python",
   "pygments_lexer": "ipython3",
   "version": "3.9.12"
  }
 },
 "nbformat": 4,
 "nbformat_minor": 5
}
